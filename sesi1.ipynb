{
 "cells": [
  {
   "cell_type": "code",
   "execution_count": 1,
   "metadata": {},
   "outputs": [
    {
     "name": "stdout",
     "output_type": "stream",
     "text": [
      "halo\n"
     ]
    }
   ],
   "source": [
    "print(\"halo\")"
   ]
  },
  {
   "cell_type": "code",
   "execution_count": 2,
   "metadata": {},
   "outputs": [
    {
     "name": "stdout",
     "output_type": "stream",
     "text": [
      "selamat datang di kelas python\n",
      "ini sesi #1\n"
     ]
    }
   ],
   "source": [
    "print(\"selamat datang di kelas python\")\n",
    "print(\"ini sesi #1\")"
   ]
  },
  {
   "cell_type": "markdown",
   "metadata": {},
   "source": [
    "# Python Intro\n",
    "python adalah bahasa pemrograman yang high level, interpreted, scripting.\n",
    "\n",
    "## Tipe Data\n",
    "- integer (angka bulat 1,2,3,..)\n",
    "- float (angka ber desimal 1.0, 2.0, 2.5,..)\n",
    "- string (text yang dikutip, \"\" '')\n",
    "- boolean (True, False)\n",
    "\n",
    "## Integer\n",
    "tipe angka yang bulat"
   ]
  },
  {
   "cell_type": "code",
   "execution_count": 5,
   "metadata": {},
   "outputs": [
    {
     "name": "stdout",
     "output_type": "stream",
     "text": [
      "5464168\n",
      "<class 'int'>\n"
     ]
    }
   ],
   "source": [
    "print(5464168)\n",
    "print(type(5464168))"
   ]
  },
  {
   "cell_type": "markdown",
   "metadata": {},
   "source": [
    "## float\n",
    "tipe angka yang punya desimal poin"
   ]
  },
  {
   "cell_type": "code",
   "execution_count": 6,
   "metadata": {},
   "outputs": [
    {
     "name": "stdout",
     "output_type": "stream",
     "text": [
      "5.5\n",
      "<class 'float'>\n"
     ]
    }
   ],
   "source": [
    "print(5.5)\n",
    "print(type(5.5))"
   ]
  },
  {
   "cell_type": "markdown",
   "metadata": {},
   "source": [
    "## String\n",
    "tipe data bentuk text, harus dikutip baru bisa jadi string '' \"\""
   ]
  },
  {
   "cell_type": "code",
   "execution_count": 7,
   "metadata": {},
   "outputs": [
    {
     "name": "stdout",
     "output_type": "stream",
     "text": [
      "hello world\n",
      "<class 'str'>\n"
     ]
    }
   ],
   "source": [
    "print(\"hello world\")\n",
    "print(type(\"hello world\"))"
   ]
  },
  {
   "cell_type": "markdown",
   "metadata": {},
   "source": [
    "## Boolean\n",
    "tipe data yang cuma punya dua jenis data saja, `True` atau `False`"
   ]
  },
  {
   "cell_type": "code",
   "execution_count": 8,
   "metadata": {},
   "outputs": [
    {
     "name": "stdout",
     "output_type": "stream",
     "text": [
      "True\n",
      "<class 'bool'>\n"
     ]
    }
   ],
   "source": [
    "print(True)\n",
    "print(type(True))"
   ]
  },
  {
   "cell_type": "markdown",
   "metadata": {},
   "source": [
    "### Ubah tipe data dari sebuah tipe ke tipe lain\n",
    "int -> bool, bisa2 saja   \n",
    "str -> float, error? kadang bisa"
   ]
  },
  {
   "cell_type": "code",
   "execution_count": 11,
   "metadata": {},
   "outputs": [
    {
     "name": "stdout",
     "output_type": "stream",
     "text": [
      "<class 'float'>\n"
     ]
    }
   ],
   "source": [
    "print(type(float(\"123\")))"
   ]
  },
  {
   "cell_type": "code",
   "execution_count": 26,
   "metadata": {},
   "outputs": [
    {
     "name": "stdout",
     "output_type": "stream",
     "text": [
      "1\n",
      "1\n",
      "156\n"
     ]
    }
   ],
   "source": [
    "print(int(1.0))\n",
    "print(int(True))\n",
    "print(int(\"156\"))"
   ]
  },
  {
   "cell_type": "code",
   "execution_count": 27,
   "metadata": {},
   "outputs": [
    {
     "name": "stdout",
     "output_type": "stream",
     "text": [
      "0.0\n",
      "1.0\n",
      "1.23\n"
     ]
    }
   ],
   "source": [
    "print(float(0))\n",
    "print(float(True))\n",
    "print(float(\"1.23\"))"
   ]
  },
  {
   "cell_type": "code",
   "execution_count": 19,
   "metadata": {},
   "outputs": [
    {
     "name": "stdout",
     "output_type": "stream",
     "text": [
      "False\n",
      "False\n",
      "False\n"
     ]
    }
   ],
   "source": [
    "print(bool(0))\n",
    "print(bool(0.0))\n",
    "print(bool(\"\"))"
   ]
  },
  {
   "cell_type": "markdown",
   "metadata": {},
   "source": [
    "konsep falsy, data yang 0, kutip kosong \"\", tidak ada isinya, dianggap False. Selain dari itu, data dianggap True"
   ]
  },
  {
   "cell_type": "markdown",
   "metadata": {},
   "source": [
    "# Variable\n",
    "membuat tempat untuk menyimpan data. memberi nama ke data. sehingga bisa dipanggil kembali"
   ]
  },
  {
   "cell_type": "code",
   "execution_count": 28,
   "metadata": {},
   "outputs": [
    {
     "data": {
      "text/plain": [
       "90"
      ]
     },
     "execution_count": 28,
     "metadata": {},
     "output_type": "execute_result"
    }
   ],
   "source": [
    "45*2"
   ]
  },
  {
   "cell_type": "code",
   "execution_count": 29,
   "metadata": {},
   "outputs": [],
   "source": [
    "jumlah_murid = 45\n",
    "jumlah_pr = 2\n",
    "total_pr = jumlah_murid * jumlah_pr"
   ]
  },
  {
   "cell_type": "code",
   "execution_count": 30,
   "metadata": {},
   "outputs": [
    {
     "name": "stdout",
     "output_type": "stream",
     "text": [
      "90\n"
     ]
    }
   ],
   "source": [
    "print(total_pr)"
   ]
  },
  {
   "cell_type": "code",
   "execution_count": 31,
   "metadata": {},
   "outputs": [],
   "source": [
    "total_pr = 10"
   ]
  },
  {
   "cell_type": "code",
   "execution_count": 32,
   "metadata": {},
   "outputs": [
    {
     "name": "stdout",
     "output_type": "stream",
     "text": [
      "10\n"
     ]
    }
   ],
   "source": [
    "print(total_pr)"
   ]
  },
  {
   "cell_type": "code",
   "execution_count": 34,
   "metadata": {},
   "outputs": [],
   "source": [
    "jumlah_lulus = 5"
   ]
  },
  {
   "cell_type": "code",
   "execution_count": 35,
   "metadata": {},
   "outputs": [
    {
     "name": "stdout",
     "output_type": "stream",
     "text": [
      "123\n"
     ]
    }
   ],
   "source": [
    "nama_murid = 123\n",
    "print(nama_murid)"
   ]
  },
  {
   "cell_type": "code",
   "execution_count": 36,
   "metadata": {},
   "outputs": [
    {
     "name": "stdout",
     "output_type": "stream",
     "text": [
      "Andhika Widjaja\n"
     ]
    }
   ],
   "source": [
    "nama_murid = \"Andhika Widjaja\"\n",
    "print(nama_murid)"
   ]
  },
  {
   "cell_type": "markdown",
   "metadata": {},
   "source": [
    "## Peraturan pembuatan nama variable di Python\n",
    "contoh, aku mau buat variable untuk \"nama makanan\"\n",
    "\n",
    "Konvensi penulisan nama\n",
    "- camelCase: namaMakanan - untuk pembuatan nama function\n",
    "- PascalCase: NamaMakanan - untuk pembuatan nama class\n",
    "- snake_case: nama_makanan - aku rekomen untuk pembuatan nama variable\n",
    "\n",
    "Peraturan:\n",
    "- tidak boleh dimulai dengan angka\n",
    "- gunakan huruf kecil semua\n",
    "- ganti spasi dengan _"
   ]
  },
  {
   "cell_type": "code",
   "execution_count": 37,
   "metadata": {},
   "outputs": [],
   "source": [
    "Umur = 25\n",
    "umuR = 26\n",
    "_umur = 27\n",
    "_umur_ = 28\n",
    "UMUR = 29\n",
    "uMuR = 30\n",
    "u_m_u_r = 31\n",
    "umur_ = 32\n",
    "Umur_ = 33"
   ]
  },
  {
   "cell_type": "code",
   "execution_count": 38,
   "metadata": {},
   "outputs": [],
   "source": [
    "umur = 34"
   ]
  },
  {
   "cell_type": "code",
   "execution_count": 39,
   "metadata": {},
   "outputs": [
    {
     "name": "stdout",
     "output_type": "stream",
     "text": [
      "25 26 27 28 29 30 31 32 33 34\n"
     ]
    }
   ],
   "source": [
    "print(Umur, umuR, _umur, _umur_, UMUR, uMuR, u_m_u_r, umur_, Umur_, umur)"
   ]
  },
  {
   "cell_type": "markdown",
   "metadata": {},
   "source": [
    "tidak bisa memulai sebuah nama variable dengan angka karena python tidak mengerti\n",
    "```python\n",
    "1eh = \"halo\n",
    "```\n",
    "contoh, pembuatan nama seperti diatas akan jadi error"
   ]
  },
  {
   "cell_type": "markdown",
   "metadata": {},
   "source": [
    "# Operators di Python\n",
    "data di python bisa kita ubah/manipulasi dengan menggunakan operator: `+ - * / % **`"
   ]
  },
  {
   "cell_type": "code",
   "execution_count": 46,
   "metadata": {},
   "outputs": [
    {
     "name": "stdout",
     "output_type": "stream",
     "text": [
      "25\n",
      "-5\n",
      "150\n",
      "0.6666666666666666\n",
      "100\n",
      "10\n"
     ]
    }
   ],
   "source": [
    "a = 10\n",
    "b = 15\n",
    "\n",
    "print(a + b)\n",
    "print(a - b)\n",
    "print(a * b)\n",
    "print(a / b)\n",
    "print(a**2)\n",
    "print(a % b)"
   ]
  },
  {
   "cell_type": "code",
   "execution_count": 47,
   "metadata": {},
   "outputs": [
    {
     "name": "stdout",
     "output_type": "stream",
     "text": [
      "3.1622776601683795\n"
     ]
    }
   ],
   "source": [
    "# akar\n",
    "print(a**0.5)"
   ]
  },
  {
   "cell_type": "code",
   "execution_count": 48,
   "metadata": {},
   "outputs": [
    {
     "name": "stdout",
     "output_type": "stream",
     "text": [
      "0.31622776601683794\n"
     ]
    }
   ],
   "source": [
    "print(a**-0.5)"
   ]
  },
  {
   "cell_type": "code",
   "execution_count": 45,
   "metadata": {},
   "outputs": [
    {
     "name": "stdout",
     "output_type": "stream",
     "text": [
      "2\n"
     ]
    }
   ],
   "source": [
    "print(17 % 5) # 17 bagi 5 sisa berapa? sisa 2, jadi hasil modulo adalah 2"
   ]
  },
  {
   "cell_type": "markdown",
   "metadata": {},
   "source": [
    "# Comparator di Python\n",
    "kita bisa membandingkan dua data berbeda di python dengan menggunakan: `< <= > >= == !=`"
   ]
  },
  {
   "cell_type": "code",
   "execution_count": 50,
   "metadata": {},
   "outputs": [
    {
     "name": "stdout",
     "output_type": "stream",
     "text": [
      "False\n",
      "True\n",
      "False\n",
      "True\n",
      "True\n",
      "False\n"
     ]
    }
   ],
   "source": [
    "a = 15\n",
    "b = 15\n",
    "\n",
    "print(a > b)\n",
    "print(a >= b)\n",
    "\n",
    "print(a < b)\n",
    "print(a <= b)\n",
    "\n",
    "print(a == b) # apakah sama\n",
    "print(a != b) # apakah berbeda"
   ]
  },
  {
   "cell_type": "markdown",
   "metadata": {},
   "source": [
    "hasil dari komparator adalah sebuah Boolean yang menjawab iya `True` atau tidak `False`"
   ]
  },
  {
   "cell_type": "markdown",
   "metadata": {},
   "source": [
    "# Tipe data berstruktur\n",
    "- List\n",
    "- Tuple\n",
    "- Python\n",
    "\n",
    "## List\n",
    "ada banyak data kita kumpulkan di satu variable.\n",
    "\n",
    "cara bikin list, gunakan `[]`   \n",
    "untuk setiap data yang mau disimpan di list, pisahkan dengan `,`\n",
    "\n",
    "cara baca list, gunakan [] lagi tapi kita isi sebuah integer angka index, misalnya `buah_buahan[0]`\n",
    "\n",
    "cara menambah data ke dalam sebuah list, kita gunakan fungsi `.append`, misalnya kita tambahkan buah manggis ke list buah_buahan maka kita tulis `buah_buahan.append('manggis')`\n",
    "\n",
    "cara hapus\n",
    "\n",
    "cara mengubah nama sebuah buah dalam buah_buahan"
   ]
  },
  {
   "cell_type": "code",
   "execution_count": 59,
   "metadata": {},
   "outputs": [
    {
     "name": "stdout",
     "output_type": "stream",
     "text": [
      "['apel', 'jeruk', 'pisang']\n",
      "<class 'list'>\n"
     ]
    }
   ],
   "source": [
    "buah_buahan = [\"apel\", \"jeruk\", \"pisang\"]\n",
    "print(buah_buahan)\n",
    "print(type(buah_buahan))"
   ]
  },
  {
   "cell_type": "code",
   "execution_count": 60,
   "metadata": {},
   "outputs": [
    {
     "name": "stdout",
     "output_type": "stream",
     "text": [
      "apel\n"
     ]
    }
   ],
   "source": [
    "# buah pertama dalam list buah_buahan punya index 0\n",
    "print(buah_buahan[0])"
   ]
  },
  {
   "cell_type": "code",
   "execution_count": 61,
   "metadata": {},
   "outputs": [
    {
     "name": "stdout",
     "output_type": "stream",
     "text": [
      "jeruk\n"
     ]
    }
   ],
   "source": [
    "# buah kedua dalam list buah_buahan punya index 1\n",
    "print(buah_buahan[1])"
   ]
  },
  {
   "cell_type": "code",
   "execution_count": 62,
   "metadata": {},
   "outputs": [
    {
     "name": "stdout",
     "output_type": "stream",
     "text": [
      "pisang\n"
     ]
    }
   ],
   "source": [
    "# buah terakhir dalam list buah_buahan punya index -1\n",
    "print(buah_buahan[-1])"
   ]
  },
  {
   "cell_type": "code",
   "execution_count": 63,
   "metadata": {},
   "outputs": [
    {
     "name": "stdout",
     "output_type": "stream",
     "text": [
      "['apel', 'jeruk', 'pisang', 'manggis']\n",
      "['semangka', 'apel', 'jeruk', 'pisang', 'manggis']\n"
     ]
    }
   ],
   "source": [
    "# tambah buah\n",
    "buah_buahan.append(\"manggis\")\n",
    "print(buah_buahan)\n",
    "\n",
    "# tambah buah di posisi index tertentu\n",
    "buah_buahan.insert(0, \"semangka\")\n",
    "print(buah_buahan)"
   ]
  },
  {
   "cell_type": "code",
   "execution_count": 64,
   "metadata": {},
   "outputs": [
    {
     "name": "stdout",
     "output_type": "stream",
     "text": [
      "['semangka', 'apel', 'jeruk', 'manggis']\n"
     ]
    }
   ],
   "source": [
    "# hapus\n",
    "buah_buahan.remove(\"pisang\")\n",
    "print(buah_buahan)"
   ]
  },
  {
   "cell_type": "code",
   "execution_count": 65,
   "metadata": {},
   "outputs": [
    {
     "name": "stdout",
     "output_type": "stream",
     "text": [
      "['semangka', 'duku', 'jeruk', 'manggis']\n"
     ]
    }
   ],
   "source": [
    "# ubah apel jadi duku\n",
    "buah_buahan[1] = \"duku\"\n",
    "print(buah_buahan)"
   ]
  },
  {
   "cell_type": "markdown",
   "metadata": {},
   "source": [
    "```python\n",
    "buah_buahan[4]\n",
    "```\n",
    "ini akan kena error IndexError karena tidak ada data di index ke 4"
   ]
  },
  {
   "cell_type": "code",
   "execution_count": 67,
   "metadata": {},
   "outputs": [
    {
     "name": "stdout",
     "output_type": "stream",
     "text": [
      "4\n"
     ]
    }
   ],
   "source": [
    "# total buah yang ada dalam list buah_buahan\n",
    "print(len(buah_buahan))"
   ]
  },
  {
   "cell_type": "code",
   "execution_count": 68,
   "metadata": {},
   "outputs": [
    {
     "name": "stdout",
     "output_type": "stream",
     "text": [
      "False\n",
      "True\n"
     ]
    }
   ],
   "source": [
    "# mencari apakah ada buah tertentu dalam list buah_buahan, pakain kata kunci \"in\"\n",
    "print(\"apel\" in buah_buahan)\n",
    "print(\"duku\" in buah_buahan)"
   ]
  },
  {
   "cell_type": "code",
   "execution_count": 69,
   "metadata": {},
   "outputs": [
    {
     "name": "stdout",
     "output_type": "stream",
     "text": [
      "['semangka', 'duku', 'jeruk', 'manggis', 'nanas', 'belimbing']\n"
     ]
    }
   ],
   "source": [
    "# cara gabung isi list, gunakan operator\n",
    "buah_tambahan = [\"nanas\", \"belimbing\"]\n",
    "\n",
    "semua_buah = buah_buahan + buah_tambahan\n",
    "print(semua_buah)"
   ]
  },
  {
   "cell_type": "code",
   "execution_count": 73,
   "metadata": {},
   "outputs": [
    {
     "name": "stdout",
     "output_type": "stream",
     "text": [
      "['belimbing', 'duku', 'jeruk', 'manggis', 'nanas', 'semangka']\n"
     ]
    }
   ],
   "source": [
    "# gunakan sort untuk sortir isi list biar urut\n",
    "semua_buah.sort()\n",
    "print(semua_buah)"
   ]
  },
  {
   "cell_type": "code",
   "execution_count": 75,
   "metadata": {},
   "outputs": [
    {
     "name": "stdout",
     "output_type": "stream",
     "text": [
      "[12, 1.4, 'halo', ['oh list lagi'], True, False, ['semangka', 'duku', 'jeruk', 'manggis']]\n"
     ]
    }
   ],
   "source": [
    "# tipe data yang bisa dimasukkan ke dalam list bisa apapun\n",
    "list_random = [12, 1.4, \"halo\", [\"oh list lagi\"], True, False, buah_buahan]\n",
    "print(list_random)"
   ]
  },
  {
   "cell_type": "markdown",
   "metadata": {},
   "source": [
    "Dokumentasi untuk detail cara tulis python bisa dilihat di:\n",
    "- https://www.w3schools.com/python/python_lists.asp\n",
    "- https://docs.python.org/3/tutorial/datastructures.html"
   ]
  },
  {
   "cell_type": "markdown",
   "metadata": {},
   "source": [
    "# Tuple\n",
    "mirip list, tapi dibuat menggunakan `()` dan isinya tidak bisa diubah. jadi tidak ada append, insert, dan sort, dll function list lainnya tidak dimiliki tuple.\n",
    "\n",
    "buat jika isi dari sebuah kumpulan data tidak mau diubah."
   ]
  },
  {
   "cell_type": "code",
   "execution_count": 78,
   "metadata": {},
   "outputs": [
    {
     "name": "stdout",
     "output_type": "stream",
     "text": [
      "(60, 80, 100)\n"
     ]
    }
   ],
   "source": [
    "nilai_andhika = (60,80,100)\n",
    "print(nilai_andhika)\n",
    "\n",
    "# nilai_andhika[0] = 80 #error"
   ]
  },
  {
   "cell_type": "markdown",
   "metadata": {},
   "source": [
    "# Dictionary\n",
    "tipe data berstruktur juga yang isinya punya key dan value, isi nya sepasang2. anggap indexnya bukan angka tapi string.\n",
    "\n",
    "cara bikin `{}`"
   ]
  },
  {
   "cell_type": "code",
   "execution_count": 79,
   "metadata": {},
   "outputs": [
    {
     "name": "stdout",
     "output_type": "stream",
     "text": [
      "{'nama': 'andhika', 'umur': 25, 'kode_peserta': 'PYTN08001'}\n"
     ]
    }
   ],
   "source": [
    "murid = {\"nama\":\"andhika\", \"umur\":25, \"kode_peserta\":\"PYTN08001\"}\n",
    "print(murid)"
   ]
  },
  {
   "cell_type": "code",
   "execution_count": 80,
   "metadata": {},
   "outputs": [
    {
     "name": "stdout",
     "output_type": "stream",
     "text": [
      "<class 'dict'>\n"
     ]
    }
   ],
   "source": [
    "print(type(murid))"
   ]
  },
  {
   "cell_type": "markdown",
   "metadata": {},
   "source": [
    "cara baca gunakan [] juga tapi isinya bukan index angka, isinya key string"
   ]
  },
  {
   "cell_type": "code",
   "execution_count": 81,
   "metadata": {},
   "outputs": [
    {
     "name": "stdout",
     "output_type": "stream",
     "text": [
      "andhika\n"
     ]
    }
   ],
   "source": [
    "# nama nya murid tadi siapa\n",
    "print(murid[\"nama\"])"
   ]
  },
  {
   "cell_type": "code",
   "execution_count": 82,
   "metadata": {},
   "outputs": [
    {
     "name": "stdout",
     "output_type": "stream",
     "text": [
      "{'nama': 'Andhika Widjaja', 'umur': 25, 'kode_peserta': 'PYTN08001'}\n"
     ]
    }
   ],
   "source": [
    "# edit juga bisa\n",
    "murid[\"nama\"] = \"Andhika Widjaja\"\n",
    "print(murid)"
   ]
  },
  {
   "cell_type": "code",
   "execution_count": 83,
   "metadata": {},
   "outputs": [
    {
     "name": "stdout",
     "output_type": "stream",
     "text": [
      "{'nama': 'Andhika Widjaja', 'umur': 25}\n"
     ]
    }
   ],
   "source": [
    "# hapus kita gunakan del\n",
    "# hapus kode peserta\n",
    "del murid[\"kode_peserta\"]\n",
    "print(murid)"
   ]
  },
  {
   "cell_type": "code",
   "execution_count": 84,
   "metadata": {},
   "outputs": [
    {
     "name": "stdout",
     "output_type": "stream",
     "text": [
      "{'nama': 'Andhika Widjaja', 'umur': 25, 'hobi': ['makan', 'tidur', 'jalan-jalan']}\n"
     ]
    }
   ],
   "source": [
    "# nambahin info, misalnya hobi andhika adalah makan, tidur, jalan-jalan\n",
    "murid[\"hobi\"] = [\"makan\", \"tidur\", \"jalan-jalan\"]\n",
    "print(murid)"
   ]
  },
  {
   "cell_type": "markdown",
   "metadata": {},
   "source": [
    "kita bisa cek isi dictionary ini:\n",
    "- keys nya apa saja? .keys()\n",
    "- values nya apa saja? .values()\n",
    "- pasangan key:value nya apa saja? .items()\n",
    "\n",
    "dia akan kembalikan dalam bentuk list"
   ]
  },
  {
   "cell_type": "code",
   "execution_count": 88,
   "metadata": {},
   "outputs": [
    {
     "name": "stdout",
     "output_type": "stream",
     "text": [
      "dict_keys(['nama', 'umur', 'hobi'])\n"
     ]
    }
   ],
   "source": [
    "print(murid.keys())"
   ]
  },
  {
   "cell_type": "code",
   "execution_count": 86,
   "metadata": {},
   "outputs": [
    {
     "name": "stdout",
     "output_type": "stream",
     "text": [
      "dict_values(['Andhika Widjaja', 25, ['makan', 'tidur', 'jalan-jalan']])\n"
     ]
    }
   ],
   "source": [
    "print(murid.values())"
   ]
  },
  {
   "cell_type": "code",
   "execution_count": 89,
   "metadata": {},
   "outputs": [
    {
     "name": "stdout",
     "output_type": "stream",
     "text": [
      "dict_items([('nama', 'Andhika Widjaja'), ('umur', 25), ('hobi', ['makan', 'tidur', 'jalan-jalan'])])\n"
     ]
    }
   ],
   "source": [
    "print(murid.items())"
   ]
  },
  {
   "cell_type": "code",
   "execution_count": 90,
   "metadata": {},
   "outputs": [
    {
     "name": "stdout",
     "output_type": "stream",
     "text": [
      "{'nama': 'Andhika Widjaja', 'umur': 25, 'hobi': ['makan', 'tidur', 'jalan-jalan'], 'anak': {'nama': 'Sarah', 'umur': 5}}\n"
     ]
    }
   ],
   "source": [
    "# kita punya nested dictionary\n",
    "anak = {}\n",
    "anak['nama'] = \"Sarah\"\n",
    "anak['umur'] = 5\n",
    "\n",
    "murid['anak'] = anak\n",
    "\n",
    "print(murid)"
   ]
  },
  {
   "cell_type": "code",
   "execution_count": 92,
   "metadata": {},
   "outputs": [
    {
     "data": {
      "text/plain": [
       "'jalan-jalan'"
      ]
     },
     "execution_count": 92,
     "metadata": {},
     "output_type": "execute_result"
    }
   ],
   "source": [
    "# kita mau ambil hobi ke3 andhika\n",
    "murid['hobi'][2]"
   ]
  },
  {
   "cell_type": "code",
   "execution_count": 94,
   "metadata": {},
   "outputs": [
    {
     "data": {
      "text/plain": [
       "5"
      ]
     },
     "execution_count": 94,
     "metadata": {},
     "output_type": "execute_result"
    }
   ],
   "source": [
    "# kita mau ambil umur anak muridnya\n",
    "murid['anak']['umur']"
   ]
  },
  {
   "cell_type": "markdown",
   "metadata": {},
   "source": [
    "# Percabangan (Conditional)\n",
    "menggunakan `if` untuk bertanya ke komputer"
   ]
  },
  {
   "cell_type": "code",
   "execution_count": 96,
   "metadata": {},
   "outputs": [
    {
     "name": "stdout",
     "output_type": "stream",
     "text": [
      "25\n",
      "True\n",
      "andhika sudah diatas 17 tahun\n"
     ]
    }
   ],
   "source": [
    "# apakah andhika sudah berumur diatas 17 tahun?\n",
    "print(murid['umur'])\n",
    "print(murid['umur'] > 17)\n",
    "\n",
    "if (murid['umur'] > 17):\n",
    "    print(\"andhika sudah diatas 17 tahun\")"
   ]
  },
  {
   "cell_type": "code",
   "execution_count": 97,
   "metadata": {},
   "outputs": [
    {
     "name": "stdout",
     "output_type": "stream",
     "text": [
      "25\n",
      "False\n"
     ]
    }
   ],
   "source": [
    "# apakah andhika seorang lansia? (60 tahun keatas)\n",
    "print(murid['umur'])\n",
    "print(murid['umur'] >= 60)\n",
    "\n",
    "if (murid['umur'] >= 60):\n",
    "    print(\"andhika seorang lansia\")"
   ]
  },
  {
   "cell_type": "code",
   "execution_count": 98,
   "metadata": {},
   "outputs": [
    {
     "name": "stdout",
     "output_type": "stream",
     "text": [
      "andhika belum menjadi seorang lansia\n"
     ]
    }
   ],
   "source": [
    "# biasanya if punya teman \"else\" untuk menjalankan code jika pertanyaannya False\n",
    "if (murid['umur'] >= 60):\n",
    "    print(\"andhika seorang lansia\")\n",
    "else:\n",
    "    print(\"andhika belum menjadi seorang lansia\")"
   ]
  },
  {
   "cell_type": "code",
   "execution_count": 101,
   "metadata": {},
   "outputs": [
    {
     "name": "stdout",
     "output_type": "stream",
     "text": [
      "belum menjadi lansia\n"
     ]
    }
   ],
   "source": [
    "# kita gunakan variable saja supaya gampang coba-coba\n",
    "umur = 5\n",
    "\n",
    "if (umur >= 60):\n",
    "    print(\"seorang lansia\")\n",
    "else:\n",
    "    print(\"belum menjadi lansia\")"
   ]
  },
  {
   "cell_type": "code",
   "execution_count": 106,
   "metadata": {},
   "outputs": [
    {
     "name": "stdout",
     "output_type": "stream",
     "text": [
      "lansia\n"
     ]
    }
   ],
   "source": [
    "# misalnya pertanyaannya nyambung, balita <5, anak-anak <17, dewasa <60, lansia\n",
    "# kita gunakan teman if yang lain, namanya else if => elif\n",
    "\n",
    "umur = 80\n",
    "\n",
    "if (umur < 5):\n",
    "    print(\"balita\")\n",
    "elif (umur < 17):\n",
    "    print(\"anak-anak\")\n",
    "elif (umur < 60):\n",
    "    print(\"dewasa\")\n",
    "else:\n",
    "    print(\"lansia\")"
   ]
  },
  {
   "cell_type": "code",
   "execution_count": 113,
   "metadata": {},
   "outputs": [
    {
     "name": "stdout",
     "output_type": "stream",
     "text": [
      "lansia\n"
     ]
    }
   ],
   "source": [
    "# menggunakan pass untuk placeholder tempat tulis code yang belum kepikiran sekarang\n",
    "umur = 80\n",
    "\n",
    "if (umur < 5):\n",
    "    print(\"balita\")\n",
    "elif (umur < 17):\n",
    "    pass\n",
    "elif (umur < 60):\n",
    "    print(\"dewasa\")\n",
    "else:\n",
    "    print(\"lansia\")"
   ]
  },
  {
   "cell_type": "code",
   "execution_count": 124,
   "metadata": {},
   "outputs": [
    {
     "name": "stdout",
     "output_type": "stream",
     "text": [
      "cukup tinggi, boleh naik\n"
     ]
    }
   ],
   "source": [
    "# nested if, ada if dalam if\n",
    "\n",
    "# contoh apakah orang ini boleh naik roller coaster, minimal 120cm, atau umurnya cukup\n",
    "umur = 15\n",
    "tinggi = 120\n",
    "\n",
    "if (umur < 5):\n",
    "    print(\"balita harus bersama orang tua\")\n",
    "elif (umur < 17):\n",
    "    if (tinggi >= 120):\n",
    "        print(\"cukup tinggi, boleh naik\")\n",
    "    else:\n",
    "        print(\"tidak boleh naik, kurang tinggi\")\n",
    "elif (umur < 60):\n",
    "    print(\"dewasa, boleh naik\")\n",
    "else:\n",
    "    print(\"lansia, tidak boleh naik\")"
   ]
  },
  {
   "cell_type": "code",
   "execution_count": 110,
   "metadata": {},
   "outputs": [
    {
     "name": "stdout",
     "output_type": "stream",
     "text": [
      "<class 'int'> 95\n",
      "<class 'int'> 95\n",
      "<class 'float'> 95.0\n"
     ]
    }
   ],
   "source": [
    "# pertanyaan tentang int dan round\n",
    "degree = 35\n",
    "\n",
    "hasil1 = int(round((9*degree)/5 + 32))\n",
    "hasil2 = round((9*degree)/5 + 32)\n",
    "hasil3 = (9*degree)/5 + 32\n",
    "print(type(hasil1), hasil1)\n",
    "print(type(hasil2), hasil2)\n",
    "print(type(hasil3), hasil3)"
   ]
  },
  {
   "cell_type": "code",
   "execution_count": 118,
   "metadata": {},
   "outputs": [
    {
     "name": "stdout",
     "output_type": "stream",
     "text": [
      "['semangka', 'duku', 'jeruk', 'manggis']\n",
      "['semangka', 'duku', 'jeruk']\n",
      "manggis\n"
     ]
    }
   ],
   "source": [
    "# pertanyaan tentang pop\n",
    "buah_buahan = ['semangka', 'duku', 'jeruk', 'manggis']\n",
    "print(buah_buahan)\n",
    "\n",
    "dimakan = buah_buahan.pop() # mengeluarkan item terakhir dalam sebuah list\n",
    "print(buah_buahan)\n",
    "\n",
    "print(dimakan)"
   ]
  },
  {
   "cell_type": "markdown",
   "metadata": {},
   "source": [
    "# Perulangan\n",
    "loop, iteration, melakukan hal sama berulang kali"
   ]
  },
  {
   "cell_type": "code",
   "execution_count": 127,
   "metadata": {},
   "outputs": [
    {
     "name": "stdout",
     "output_type": "stream",
     "text": [
      "10 dibawah 17 tahun\n",
      "11 dibawah 17 tahun\n",
      "12 dibawah 17 tahun\n",
      "13 dibawah 17 tahun\n",
      "14 dibawah 17 tahun\n",
      "15 dibawah 17 tahun\n",
      "16 dibawah 17 tahun\n"
     ]
    }
   ],
   "source": [
    "umur = 10\n",
    "while (umur < 17):\n",
    "    print(umur, \"dibawah 17 tahun\")\n",
    "    # pastikan pertanyaan while loop nya akan jadi False dengan mengubah di dalam sini\n",
    "    umur = umur + 1"
   ]
  },
  {
   "cell_type": "code",
   "execution_count": 5,
   "metadata": {},
   "outputs": [
    {
     "ename": "TypeError",
     "evalue": "can only concatenate str (not \"int\") to str",
     "output_type": "error",
     "traceback": [
      "\u001b[1;31m---------------------------------------------------------------------------\u001b[0m",
      "\u001b[1;31mTypeError\u001b[0m                                 Traceback (most recent call last)",
      "\u001b[1;32m<ipython-input-5-c580d1ba25ef>\u001b[0m in \u001b[0;36m<module>\u001b[1;34m\u001b[0m\n\u001b[0;32m      1\u001b[0m \u001b[0mcounter\u001b[0m \u001b[1;33m=\u001b[0m \u001b[1;36m1\u001b[0m\u001b[1;33m\u001b[0m\u001b[1;33m\u001b[0m\u001b[0m\n\u001b[0;32m      2\u001b[0m \u001b[1;32mwhile\u001b[0m \u001b[1;33m(\u001b[0m\u001b[0mcounter\u001b[0m \u001b[1;33m>=\u001b[0m \u001b[1;36m0\u001b[0m\u001b[1;33m)\u001b[0m\u001b[1;33m:\u001b[0m\u001b[1;33m\u001b[0m\u001b[1;33m\u001b[0m\u001b[0m\n\u001b[1;32m----> 3\u001b[1;33m     \u001b[0mprint\u001b[0m \u001b[1;33m(\u001b[0m\u001b[1;34m\"ok\"\u001b[0m\u001b[1;33m+\u001b[0m\u001b[1;33m(\u001b[0m\u001b[0mcounter\u001b[0m\u001b[1;33m)\u001b[0m\u001b[1;33m)\u001b[0m\u001b[1;33m\u001b[0m\u001b[1;33m\u001b[0m\u001b[0m\n\u001b[0m\u001b[0;32m      4\u001b[0m     \u001b[0mcounter\u001b[0m \u001b[1;33m-=\u001b[0m\u001b[1;36m1\u001b[0m\u001b[1;33m\u001b[0m\u001b[1;33m\u001b[0m\u001b[0m\n",
      "\u001b[1;31mTypeError\u001b[0m: can only concatenate str (not \"int\") to str"
     ]
    }
   ],
   "source": [
    "counter = 1\n",
    "while (counter >= 0):\n",
    "    print (\"ok\"+(counter))\n",
    "    counter -=1"
   ]
  },
  {
   "cell_type": "code",
   "execution_count": null,
   "metadata": {},
   "outputs": [],
   "source": [
    "a ="
   ]
  },
  {
   "cell_type": "code",
   "execution_count": 4,
   "metadata": {},
   "outputs": [],
   "source": [
    "aplikan = [\n",
    "{'umur': 11, 'skill': ['HTML']},\n",
    "{'umur': 31, 'skill': ['HTML']},\n",
    "{'umur': 21, 'skill': ['HTML']},\n",
    "{'umur': 22, 'skill': ['HTML']},\n",
    "{'umur': 41, 'skill': ['HTML']}\n",
    "]"
   ]
  },
  {
   "cell_type": "code",
   "execution_count": 5,
   "metadata": {},
   "outputs": [],
   "source": [
    "aplikan_valid = []\n",
    "for a in aplikan:\n",
    "    if (a['umur']>= 11 and a['umur']<=31):\n",
    "        aplikan_valid.append(a)"
   ]
  },
  {
   "cell_type": "code",
   "execution_count": 6,
   "metadata": {},
   "outputs": [
    {
     "name": "stdout",
     "output_type": "stream",
     "text": [
      "[{'umur': 11, 'skill': ['HTML']}, {'umur': 31, 'skill': ['HTML']}, {'umur': 21, 'skill': ['HTML']}, {'umur': 22, 'skill': ['HTML']}]\n"
     ]
    }
   ],
   "source": [
    "print(aplikan_valid)"
   ]
  },
  {
   "cell_type": "code",
   "execution_count": 26,
   "metadata": {},
   "outputs": [],
   "source": [
    " makan_siang = {\n",
    "     \"nama\": \"nasi goreng\",\n",
    "     \"bahan\": [\"Nasi\",\"telur\", \"minyak\",\"garam\"]}\n"
   ]
  },
  {
   "cell_type": "code",
   "execution_count": 27,
   "metadata": {},
   "outputs": [],
   "source": [
    "makan_siang[\"nama\"]+=(\" telur\")\n",
    "makan_siang[\"bahan\"].append (\"teluddr\")"
   ]
  },
  {
   "cell_type": "code",
   "execution_count": 28,
   "metadata": {},
   "outputs": [
    {
     "name": "stdout",
     "output_type": "stream",
     "text": [
      "{'nama': 'nasi goreng telur', 'bahan': ['Nasi', 'telur', 'minyak', 'garam', 'teluddr']}\n"
     ]
    }
   ],
   "source": [
    "print(makan_siang)"
   ]
  },
  {
   "cell_type": "code",
   "execution_count": null,
   "metadata": {},
   "outputs": [],
   "source": []
  }
 ],
 "metadata": {
  "kernelspec": {
   "display_name": "Python 3",
   "language": "python",
   "name": "python3"
  },
  "language_info": {
   "codemirror_mode": {
    "name": "ipython",
    "version": 3
   },
   "file_extension": ".py",
   "mimetype": "text/x-python",
   "name": "python",
   "nbconvert_exporter": "python",
   "pygments_lexer": "ipython3",
   "version": "3.8.8"
  }
 },
 "nbformat": 4,
 "nbformat_minor": 4
}
