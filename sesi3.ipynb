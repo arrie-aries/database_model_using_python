{
 "cells": [
  {
   "cell_type": "markdown",
   "metadata": {},
   "source": [
    "# Numpy\n",
    "package untuk manipulasi angka"
   ]
  },
  {
   "cell_type": "code",
   "execution_count": 1,
   "metadata": {},
   "outputs": [],
   "source": [
    "import numpy as np"
   ]
  },
  {
   "cell_type": "markdown",
   "metadata": {},
   "source": [
    "# Numpy Array\n",
    "struktur data baru yang mirip list\n",
    "\n",
    "## Cara membuat numpy array\n",
    "- np.array(), diisi list\n",
    "- np.zeros(), membuat numpy array yang isinya angka 0 semua\n",
    "- np.ones()\n",
    "- np.empty(), membuat numpy array kosong - isinya tergantung memory terakhir pc\n",
    "- np.arange(), membuat numpy array yang isinya angka urut"
   ]
  },
  {
   "cell_type": "code",
   "execution_count": 8,
   "metadata": {},
   "outputs": [
    {
     "name": "stdout",
     "output_type": "stream",
     "text": [
      "[1, 2, 5]\n",
      "[1 2 5]\n"
     ]
    }
   ],
   "source": [
    "# np.array, mengubah list menjadi numpy array\n",
    "n = [1,2,5]\n",
    "a = np.array(n)\n",
    "print(n)\n",
    "print(a)"
   ]
  },
  {
   "cell_type": "code",
   "execution_count": 58,
   "metadata": {},
   "outputs": [
    {
     "name": "stdout",
     "output_type": "stream",
     "text": [
      "[[1, 2], [3, 4], [5, 6]]\n",
      "[[1 2]\n",
      " [3 4]\n",
      " [5 6]]\n"
     ]
    }
   ],
   "source": [
    "n = [[1,2],[3,4],[5,6]]\n",
    "a = np.array(n)\n",
    "print(n)\n",
    "print(a)"
   ]
  },
  {
   "cell_type": "code",
   "execution_count": 10,
   "metadata": {},
   "outputs": [
    {
     "name": "stdout",
     "output_type": "stream",
     "text": [
      "[0. 0. 0. 0. 0.]\n"
     ]
    }
   ],
   "source": [
    "# np.zeros\n",
    "a = np.zeros(5)\n",
    "print(a)"
   ]
  },
  {
   "cell_type": "code",
   "execution_count": 59,
   "metadata": {},
   "outputs": [
    {
     "name": "stdout",
     "output_type": "stream",
     "text": [
      "[[0. 0. 0.]\n",
      " [0. 0. 0.]\n",
      " [0. 0. 0.]\n",
      " [0. 0. 0.]\n",
      " [0. 0. 0.]]\n"
     ]
    }
   ],
   "source": [
    "a = np.zeros((5,3))\n",
    "print(a)"
   ]
  },
  {
   "cell_type": "code",
   "execution_count": 12,
   "metadata": {},
   "outputs": [
    {
     "name": "stdout",
     "output_type": "stream",
     "text": [
      "[1. 1. 1. 1. 1.]\n"
     ]
    }
   ],
   "source": [
    "# np.ones\n",
    "a = np.ones(5)\n",
    "print(a)"
   ]
  },
  {
   "cell_type": "code",
   "execution_count": 60,
   "metadata": {},
   "outputs": [
    {
     "name": "stdout",
     "output_type": "stream",
     "text": [
      "[[1. 1.]\n",
      " [1. 1.]\n",
      " [1. 1.]\n",
      " [1. 1.]\n",
      " [1. 1.]]\n"
     ]
    }
   ],
   "source": [
    "a = np.ones((5,2))\n",
    "print(a)"
   ]
  },
  {
   "cell_type": "code",
   "execution_count": 61,
   "metadata": {},
   "outputs": [
    {
     "name": "stdout",
     "output_type": "stream",
     "text": [
      "[[[1.]\n",
      "  [1.]]\n",
      "\n",
      " [[1.]\n",
      "  [1.]]\n",
      "\n",
      " [[1.]\n",
      "  [1.]]\n",
      "\n",
      " [[1.]\n",
      "  [1.]]\n",
      "\n",
      " [[1.]\n",
      "  [1.]]]\n"
     ]
    }
   ],
   "source": [
    "a = np.ones((5,2,1)) # 3 dimensi juga bisa\n",
    "print(a)"
   ]
  },
  {
   "cell_type": "code",
   "execution_count": 53,
   "metadata": {},
   "outputs": [
    {
     "name": "stdout",
     "output_type": "stream",
     "text": [
      "[8. 8. 8. 8. 8.]\n",
      "[8. 8. 8. 8. 8.]\n"
     ]
    }
   ],
   "source": [
    "# mau numpy array isinya angka 8 semua\n",
    "a = np.ones(5) * 8\n",
    "print(a)\n",
    "\n",
    "a = np.zeros(5) + 8\n",
    "print(a)"
   ]
  },
  {
   "cell_type": "code",
   "execution_count": 14,
   "metadata": {},
   "outputs": [
    {
     "name": "stdout",
     "output_type": "stream",
     "text": [
      "[0. 0. 0. 0. 0. 0.]\n"
     ]
    }
   ],
   "source": [
    "# np.empty - anggap angka di dalam numpy array buatan np.empty sebagai placeholder\n",
    "a = np.empty(6)\n",
    "print(a)"
   ]
  },
  {
   "cell_type": "code",
   "execution_count": 63,
   "metadata": {},
   "outputs": [
    {
     "name": "stdout",
     "output_type": "stream",
     "text": [
      "[[0.]\n",
      " [0.]\n",
      " [0.]\n",
      " [0.]\n",
      " [0.]\n",
      " [0.]]\n"
     ]
    }
   ],
   "source": [
    "a = np.empty((6,1))\n",
    "print(a)"
   ]
  },
  {
   "cell_type": "code",
   "execution_count": 17,
   "metadata": {},
   "outputs": [
    {
     "name": "stdout",
     "output_type": "stream",
     "text": [
      "[0 1 2 3 4]\n",
      "[5 6 7 8 9]\n",
      "[ 5 15 25 35 45]\n"
     ]
    }
   ],
   "source": [
    "# np.arange\n",
    "a = np.arange(5)\n",
    "print(a)\n",
    "\n",
    "a = np.arange(5, 10)\n",
    "print(a)\n",
    "\n",
    "a = np.arange(5, 50, 10)\n",
    "print(a)"
   ]
  },
  {
   "cell_type": "code",
   "execution_count": 65,
   "metadata": {},
   "outputs": [
    {
     "name": "stdout",
     "output_type": "stream",
     "text": [
      "6\n",
      "[[ 5 15]\n",
      " [25 35]\n",
      " [45 55]]\n",
      "6\n"
     ]
    }
   ],
   "source": [
    "a = np.arange(5, 56, 10)\n",
    "print(a.size)\n",
    "a = a.reshape((3,2))\n",
    "print(a)\n",
    "print(a.size)"
   ]
  },
  {
   "cell_type": "markdown",
   "metadata": {},
   "source": [
    "perhatikan size dari numpy array tidak berubah sebelum dan sesudah di reshape"
   ]
  },
  {
   "cell_type": "code",
   "execution_count": 67,
   "metadata": {},
   "outputs": [
    {
     "name": "stdout",
     "output_type": "stream",
     "text": [
      "[[ 0  1  2  3]\n",
      " [ 4  5  6  7]\n",
      " [ 8  9 10 11]]\n"
     ]
    }
   ],
   "source": [
    "a = np.arange(12).reshape((3,4))\n",
    "print(a)"
   ]
  },
  {
   "cell_type": "markdown",
   "metadata": {},
   "source": [
    "membuat np.array diisi angka random\n",
    "\n",
    "np.random.random() - buat angka random normal, diantara 0-1\n",
    "\n",
    "ada banyak cara random angka, kita fokus ke satu jenis dulu saja, np.random.random() dimana kemungkinan dapat setiap angka sama, dan angkanya ada di antara 0-1 dalam bentuk float."
   ]
  },
  {
   "cell_type": "code",
   "execution_count": 23,
   "metadata": {},
   "outputs": [
    {
     "name": "stdout",
     "output_type": "stream",
     "text": [
      "[0.41700699 0.59546576 0.38606741 0.93116774 0.40405517 0.97753851\n",
      " 0.06175882 0.09077802 0.81747723 0.50665037 0.47571326 0.92850819\n",
      " 0.47194709 0.94204934 0.2598738  0.39335404 0.20599048 0.31089543\n",
      " 0.66045201 0.64365408 0.29376003 0.88937356 0.38964065 0.00957366\n",
      " 0.89598795 0.34340989 0.78133736 0.91473849 0.13729966 0.22884433\n",
      " 0.09845905 0.84645259 0.48442981 0.9236055  0.72419296 0.34409228\n",
      " 0.65243167 0.91552431 0.26703735 0.93726609 0.38792488 0.80461154\n",
      " 0.51199139 0.8851461  0.66819324 0.84434907 0.52285466 0.76071027\n",
      " 0.9037181  0.39392808]\n"
     ]
    }
   ],
   "source": [
    "a = np.random.random(50)\n",
    "print(a)"
   ]
  },
  {
   "cell_type": "markdown",
   "metadata": {},
   "source": [
    "cara menggunakan np.random.random() untuk membuat hasil angka random tertentu - misalnya kita mau buat hasil lempar dadu 1-6 saja. kita bisa kalikan angka randomnya dengan angka lain, kemudian diubah jadi tipe integer atau dibulatkan dengan round()."
   ]
  },
  {
   "cell_type": "code",
   "execution_count": 51,
   "metadata": {},
   "outputs": [
    {
     "name": "stdout",
     "output_type": "stream",
     "text": [
      "[1 1 4 2 5 6 6 3 5 6 2 5 5 1 5 6 6 1 4 6 1 3 6 6 2 2 4 1 3 6 4 4 4 6 1 5 4\n",
      " 2 2 6 4 6 2 2 1 6 6 6 6 2]\n"
     ]
    }
   ],
   "source": [
    "a = (np.random.random(50) * 6 + 1).astype(int)\n",
    "print(a)"
   ]
  },
  {
   "cell_type": "markdown",
   "metadata": {},
   "source": [
    "## Edit\n",
    "- add - append, menambahkan angka, menggabungkan dua numpy array/ list\n",
    "- remove - delete, menghapus sebuah item\n",
    "- sort - sort, mengurutkan dari kecil sampai besar"
   ]
  },
  {
   "cell_type": "code",
   "execution_count": 24,
   "metadata": {},
   "outputs": [
    {
     "name": "stdout",
     "output_type": "stream",
     "text": [
      "[0. 0. 0. 1. 1.]\n"
     ]
    }
   ],
   "source": [
    "# add\n",
    "a = np.zeros(3)\n",
    "b = np.ones(2)\n",
    "\n",
    "c = np.append(a, b)\n",
    "print(c)"
   ]
  },
  {
   "cell_type": "code",
   "execution_count": 25,
   "metadata": {},
   "outputs": [
    {
     "name": "stdout",
     "output_type": "stream",
     "text": [
      "[1. 1. 0. 0. 0.]\n"
     ]
    }
   ],
   "source": [
    "c = np.append(b, a)\n",
    "print(c)"
   ]
  },
  {
   "cell_type": "code",
   "execution_count": 28,
   "metadata": {},
   "outputs": [
    {
     "name": "stdout",
     "output_type": "stream",
     "text": [
      "[ 0.  0.  0. 12. 15.]\n",
      "<class 'numpy.ndarray'>\n"
     ]
    }
   ],
   "source": [
    "c = np.append(a, [12, 15])\n",
    "print(c)\n",
    "print(type(c))"
   ]
  },
  {
   "cell_type": "code",
   "execution_count": 30,
   "metadata": {},
   "outputs": [
    {
     "name": "stdout",
     "output_type": "stream",
     "text": [
      "[1 2 5 6 7]\n",
      "<class 'numpy.ndarray'>\n"
     ]
    }
   ],
   "source": [
    "c = np.append([1,2], [5,6,7])\n",
    "print(c)\n",
    "print(type(c))"
   ]
  },
  {
   "cell_type": "code",
   "execution_count": 31,
   "metadata": {},
   "outputs": [
    {
     "name": "stdout",
     "output_type": "stream",
     "text": [
      "[ 0.  0.  0. 10.]\n",
      "<class 'numpy.ndarray'>\n"
     ]
    }
   ],
   "source": [
    "c = np.append(a, 10)\n",
    "print(c)\n",
    "print(type(c))"
   ]
  },
  {
   "cell_type": "code",
   "execution_count": 34,
   "metadata": {},
   "outputs": [
    {
     "name": "stdout",
     "output_type": "stream",
     "text": [
      "[1 2 5 6 7]\n",
      "<class 'numpy.ndarray'>\n"
     ]
    }
   ],
   "source": [
    "c = np.append((1,2), (5,6,7))\n",
    "print(c)\n",
    "print(type(c))"
   ]
  },
  {
   "cell_type": "code",
   "execution_count": 40,
   "metadata": {},
   "outputs": [
    {
     "name": "stdout",
     "output_type": "stream",
     "text": [
      "[0 1 2 3 4 5 6 7 8 9]\n",
      "[0 1 2 4 5 6 7 8 9]\n",
      "[0 1 2 6 7 8 9]\n"
     ]
    }
   ],
   "source": [
    "# remove, np.delete, menghapus menggunakan index item\n",
    "a = np.arange(10)\n",
    "print(a)\n",
    "\n",
    "a = np.delete(a, 3) # membuat np array baru\n",
    "print(a)\n",
    "\n",
    "a = np.delete(a, [3,4]) # menghapus bbrp item dari sebuah numpy array\n",
    "print(a)"
   ]
  },
  {
   "cell_type": "code",
   "execution_count": 43,
   "metadata": {},
   "outputs": [
    {
     "name": "stdout",
     "output_type": "stream",
     "text": [
      "[-2 -1  4  4  1  4 -2  2 -3  2]\n"
     ]
    }
   ],
   "source": [
    "# sort, urutin angka dalam numpy array\n",
    "# contoh kita buat numpy array isi angka antara -5 sampai 4\n",
    "a = (np.random.random(10)*10-5).astype(int)\n",
    "print(a)"
   ]
  },
  {
   "cell_type": "code",
   "execution_count": 45,
   "metadata": {},
   "outputs": [
    {
     "name": "stdout",
     "output_type": "stream",
     "text": [
      "[-3 -2 -2 -1  1  2  2  4  4  4]\n"
     ]
    }
   ],
   "source": [
    "a = np.sort(a) # lalu disort\n",
    "print(a)"
   ]
  },
  {
   "cell_type": "markdown",
   "metadata": {},
   "source": [
    "note, numpy array isinya bisa lsg dikalikan dengan angka (tidak seperti list)"
   ]
  },
  {
   "cell_type": "code",
   "execution_count": 46,
   "metadata": {},
   "outputs": [
    {
     "name": "stdout",
     "output_type": "stream",
     "text": [
      "[3, 4, 5, 3, 4, 5]\n",
      "[ 6  8 10]\n"
     ]
    }
   ],
   "source": [
    "# perbedaan list dengan numpy array saat handle operator matematik\n",
    "n = [3,4,5]\n",
    "a = np.array(n)\n",
    "\n",
    "print(n * 2)\n",
    "print(a * 2)"
   ]
  },
  {
   "cell_type": "markdown",
   "metadata": {},
   "source": [
    "## Shape & Size\n",
    "membaca bentuk numpy array, dari ukuran, dimensi, dan lainnya"
   ]
  },
  {
   "cell_type": "code",
   "execution_count": 55,
   "metadata": {},
   "outputs": [
    {
     "name": "stdout",
     "output_type": "stream",
     "text": [
      "(100,)\n",
      "100\n",
      "1\n"
     ]
    }
   ],
   "source": [
    "a = np.arange(100)\n",
    "# anggap kita mendapat numpy array buatan orang lain\n",
    "# cara cepat cek ukuran kita gunakan shape dan size\n",
    "print(a.shape)\n",
    "print(a.size)\n",
    "# cara melihat dimensi\n",
    "print(a.ndim)"
   ]
  },
  {
   "cell_type": "markdown",
   "metadata": {},
   "source": [
    "di contoh diatas, terlihat shape menunjukkan (100,) artinya, ada 1 dimensi saja, dan di dimensi tersebut ada 100 item\n",
    "\n",
    "size menunjukkan ada 100 item total, size tidak peduli dengan bentuk maupun dimensi array nya\n",
    "\n",
    "ndim bilang 1, untuk bilang array ini punya 1 dimensi\n",
    "\n",
    "bagaimana bentuk array 2 dimensi?"
   ]
  },
  {
   "cell_type": "code",
   "execution_count": 57,
   "metadata": {},
   "outputs": [
    {
     "name": "stdout",
     "output_type": "stream",
     "text": [
      "[[1, 2, 3], [4, 5, 6]]\n",
      "[[1 2 3]\n",
      " [4 5 6]]\n",
      "a adalah array 2 dimensi, kita lihat propertinya:\n",
      "a.shape (2, 3)\n",
      "a.size 6\n",
      "a.ndim 2\n"
     ]
    }
   ],
   "source": [
    "n = [[1,2,3], [4,5,6]]\n",
    "a = np.array(n)\n",
    "\n",
    "print(n)\n",
    "print(a)\n",
    "print(\"a adalah array 2 dimensi, kita lihat propertinya:\")\n",
    "print(\"a.shape\", a.shape)\n",
    "print(\"a.size\", a.size)\n",
    "print(\"a.ndim\", a.ndim)"
   ]
  },
  {
   "cell_type": "code",
   "execution_count": 68,
   "metadata": {},
   "outputs": [
    {
     "name": "stdout",
     "output_type": "stream",
     "text": [
      "[[[1, 2, 3], [4, 5, 6]]]\n",
      "[[[1 2 3]\n",
      "  [4 5 6]]]\n",
      "a adalah array 3 dimensi, kita lihat propertinya:\n",
      "a.shape (1, 2, 3)\n",
      "a.size 6\n",
      "a.ndim 3\n"
     ]
    }
   ],
   "source": [
    "# 3 dimensi atau n dimensi juga bisa\n",
    "n = [[[1,2,3], [4,5,6]]]\n",
    "a = np.array(n)\n",
    "\n",
    "print(n)\n",
    "print(a)\n",
    "print(\"a adalah array 3 dimensi, kita lihat propertinya:\")\n",
    "print(\"a.shape\", a.shape)\n",
    "print(\"a.size\", a.size)\n",
    "print(\"a.ndim\", a.ndim)"
   ]
  },
  {
   "cell_type": "markdown",
   "metadata": {},
   "source": [
    "## Reshape\n",
    "mengubah shape sebuah numpy array menggunakan reshape. peraturannya adalah size sebelum dan sesudah reshape itu sama."
   ]
  },
  {
   "cell_type": "code",
   "execution_count": 69,
   "metadata": {},
   "outputs": [
    {
     "name": "stdout",
     "output_type": "stream",
     "text": [
      "(10,) 10\n",
      "(2, 5) 10\n"
     ]
    }
   ],
   "source": [
    "a = np.arange(10)\n",
    "b = a.reshape((2,5))\n",
    "\n",
    "print(a.shape, a.size)\n",
    "print(b.shape, b.size)"
   ]
  },
  {
   "cell_type": "markdown",
   "metadata": {},
   "source": [
    "```python\n",
    "a = np.arange(10)\n",
    "b = a.reshape((2,6))\n",
    "\n",
    "print(a.shape, a.size)\n",
    "print(b.shape, b.size)\n",
    "```\n",
    "akan error karena tidak bisa membuat 10 angka menjadi bentuk (2,6) yang butuh 12 angka"
   ]
  },
  {
   "cell_type": "code",
   "execution_count": 73,
   "metadata": {},
   "outputs": [
    {
     "name": "stdout",
     "output_type": "stream",
     "text": [
      "[[1], [2, 3]]\n",
      "[list([1]) list([2, 3])]\n",
      "(2,)\n"
     ]
    },
    {
     "name": "stderr",
     "output_type": "stream",
     "text": [
      "<ipython-input-73-f68aa26faf95>:4: VisibleDeprecationWarning: Creating an ndarray from ragged nested sequences (which is a list-or-tuple of lists-or-tuples-or ndarrays with different lengths or shapes) is deprecated. If you meant to do this, you must specify 'dtype=object' when creating the ndarray\n",
      "  a = np.array(n)\n"
     ]
    }
   ],
   "source": [
    "n = [[1], [2,3]]\n",
    "print(n)\n",
    "\n",
    "a = np.array(n)\n",
    "print(a)\n",
    "print(a.shape)"
   ]
  },
  {
   "cell_type": "markdown",
   "metadata": {},
   "source": [
    "perhatikan np array kebingunan handle pembuatan np array 2 dimensi yang tidak seimbang. hanya gunakan np array 2 dimensi jika jumlah item di setiap baris sama."
   ]
  },
  {
   "cell_type": "markdown",
   "metadata": {},
   "source": [
    "## 1D ke 2D\n",
    "karena seringkali kita gunakan np array 2D, maka ada function khusus untuk merubah np array 1D ke 2D\n",
    "- np.newaxis\n",
    "- np.expand_dims"
   ]
  },
  {
   "cell_type": "code",
   "execution_count": 76,
   "metadata": {},
   "outputs": [
    {
     "name": "stdout",
     "output_type": "stream",
     "text": [
      "(5,)\n",
      "[1 2 3 4 5]\n"
     ]
    }
   ],
   "source": [
    "a = np.arange(5) + 1\n",
    "print(a.shape)\n",
    "print(a)"
   ]
  },
  {
   "cell_type": "code",
   "execution_count": 77,
   "metadata": {},
   "outputs": [
    {
     "name": "stdout",
     "output_type": "stream",
     "text": [
      "(1, 5)\n",
      "[[1 2 3 4 5]]\n"
     ]
    }
   ],
   "source": [
    "# newaxis\n",
    "b = a[np.newaxis]\n",
    "print(b.shape)\n",
    "print(b)"
   ]
  },
  {
   "cell_type": "code",
   "execution_count": 78,
   "metadata": {},
   "outputs": [
    {
     "name": "stdout",
     "output_type": "stream",
     "text": [
      "(5, 1)\n",
      "[[1]\n",
      " [2]\n",
      " [3]\n",
      " [4]\n",
      " [5]]\n"
     ]
    }
   ],
   "source": [
    "b = a[:, np.newaxis]\n",
    "print(b.shape)\n",
    "print(b)"
   ]
  },
  {
   "cell_type": "code",
   "execution_count": 80,
   "metadata": {},
   "outputs": [
    {
     "name": "stdout",
     "output_type": "stream",
     "text": [
      "(1, 5)\n",
      "[[1 2 3 4 5]]\n"
     ]
    }
   ],
   "source": [
    "# expand_dims\n",
    "b = np.expand_dims(a, axis=0)\n",
    "print(b.shape)\n",
    "print(b)"
   ]
  },
  {
   "cell_type": "code",
   "execution_count": 81,
   "metadata": {},
   "outputs": [
    {
     "name": "stdout",
     "output_type": "stream",
     "text": [
      "(5, 1)\n",
      "[[1]\n",
      " [2]\n",
      " [3]\n",
      " [4]\n",
      " [5]]\n"
     ]
    }
   ],
   "source": [
    "b = np.expand_dims(a, axis=1)\n",
    "print(b.shape)\n",
    "print(b)"
   ]
  },
  {
   "cell_type": "markdown",
   "metadata": {},
   "source": [
    "# Indexing dan Slicing\n",
    "membaca angka dalam numpy array satu satu (index) atau sekaligus beberapa (slicing)"
   ]
  },
  {
   "cell_type": "code",
   "execution_count": 82,
   "metadata": {},
   "outputs": [
    {
     "name": "stdout",
     "output_type": "stream",
     "text": [
      "10\n",
      "[20, 30]\n"
     ]
    }
   ],
   "source": [
    "# review indexing slicing dengan list\n",
    "n = [10,20,30]\n",
    "print(n[0])\n",
    "print(n[1:])"
   ]
  },
  {
   "cell_type": "code",
   "execution_count": 83,
   "metadata": {},
   "outputs": [
    {
     "name": "stdout",
     "output_type": "stream",
     "text": [
      "[ 10  20  30  40  50  60  70  80  90 100]\n"
     ]
    }
   ],
   "source": [
    "# array 1D\n",
    "a = np.arange(10,101,10)\n",
    "print(a)"
   ]
  },
  {
   "cell_type": "code",
   "execution_count": 84,
   "metadata": {},
   "outputs": [
    {
     "name": "stdout",
     "output_type": "stream",
     "text": [
      "30\n"
     ]
    }
   ],
   "source": [
    "# indexing - ambil 1 angka dengan indexnya\n",
    "print(a[2])"
   ]
  },
  {
   "cell_type": "code",
   "execution_count": 85,
   "metadata": {},
   "outputs": [
    {
     "name": "stdout",
     "output_type": "stream",
     "text": [
      "[50 60 70 80]\n"
     ]
    }
   ],
   "source": [
    "# slicing - ambil bbrp angka dengan indexnya\n",
    "print(a[4:8])"
   ]
  },
  {
   "cell_type": "code",
   "execution_count": 86,
   "metadata": {},
   "outputs": [
    {
     "name": "stdout",
     "output_type": "stream",
     "text": [
      "[[ 10  20  30  40  50]\n",
      " [ 60  70  80  90 100]]\n"
     ]
    }
   ],
   "source": [
    "# array 2D\n",
    "a = a.reshape((2,5))\n",
    "print(a)"
   ]
  },
  {
   "cell_type": "code",
   "execution_count": 89,
   "metadata": {},
   "outputs": [
    {
     "name": "stdout",
     "output_type": "stream",
     "text": [
      "70\n",
      "70\n",
      "90\n",
      "90\n"
     ]
    }
   ],
   "source": [
    "# indexing - ambil 1 angka, dengan index\n",
    "print(a[1][1])\n",
    "print(a[1,1])\n",
    "\n",
    "print(a[1][-2])\n",
    "print(a[1,-2])"
   ]
  },
  {
   "cell_type": "code",
   "execution_count": 96,
   "metadata": {},
   "outputs": [
    {
     "name": "stdout",
     "output_type": "stream",
     "text": [
      "[30 80]\n",
      "[20 30 40]\n",
      "[[20 30]\n",
      " [70 80]]\n"
     ]
    }
   ],
   "source": [
    "# slicing - ambil bbrp angka\n",
    "print(a[:,2])\n",
    "\n",
    "print(a[0,1:4])\n",
    "\n",
    "print(a[:,1:3])"
   ]
  },
  {
   "cell_type": "markdown",
   "metadata": {},
   "source": [
    "### Query sebagai index\n",
    "memberi kondisi sebagai index untuk mencari angka-angka tertentu. hasil carinya selalu 1D"
   ]
  },
  {
   "cell_type": "code",
   "execution_count": 102,
   "metadata": {},
   "outputs": [
    {
     "name": "stdout",
     "output_type": "stream",
     "text": [
      "[[10 17 24 31]\n",
      " [38 45 52 59]\n",
      " [66 73 80 87]]\n"
     ]
    }
   ],
   "source": [
    "a = np.arange(10,94,7).reshape((3,4))\n",
    "print(a)"
   ]
  },
  {
   "cell_type": "code",
   "execution_count": 108,
   "metadata": {},
   "outputs": [
    {
     "data": {
      "text/plain": [
       "array([10, 24, 38, 52, 66, 80])"
      ]
     },
     "execution_count": 108,
     "metadata": {},
     "output_type": "execute_result"
    }
   ],
   "source": [
    "# cari angka genap saja\n",
    "\n",
    "# bikin kondisinya dulu\n",
    "a % 2 == 0\n",
    "\n",
    "# lalu gunakan kondisi sebagai index\n",
    "a[a % 2 == 0]"
   ]
  },
  {
   "cell_type": "code",
   "execution_count": 109,
   "metadata": {},
   "outputs": [
    {
     "data": {
      "text/plain": [
       "array([10, 24, 38, 52, 66, 80])"
      ]
     },
     "execution_count": 109,
     "metadata": {},
     "output_type": "execute_result"
    }
   ],
   "source": [
    "# bisa juga kondisinya kita simpan ke variable baru nanti dipakai\n",
    "k = (a % 2 == 0)\n",
    "a[k]"
   ]
  },
  {
   "cell_type": "code",
   "execution_count": 110,
   "metadata": {},
   "outputs": [
    {
     "data": {
      "text/plain": [
       "array([52, 59, 66, 73, 80, 87])"
      ]
     },
     "execution_count": 110,
     "metadata": {},
     "output_type": "execute_result"
    }
   ],
   "source": [
    "# mau cari angka yang lebih besar dari 50\n",
    "a[a > 50]"
   ]
  },
  {
   "cell_type": "code",
   "execution_count": 113,
   "metadata": {},
   "outputs": [
    {
     "data": {
      "text/plain": [
       "array([52, 66, 80])"
      ]
     },
     "execution_count": 113,
     "metadata": {},
     "output_type": "execute_result"
    }
   ],
   "source": [
    "# bbrp kondisi - contohnya >50 dan genap\n",
    "a[(a > 50) & (a % 2 == 0)]"
   ]
  },
  {
   "cell_type": "code",
   "execution_count": 114,
   "metadata": {},
   "outputs": [
    {
     "data": {
      "text/plain": [
       "array([10, 24, 38, 52, 59, 66, 73, 80, 87])"
      ]
     },
     "execution_count": 114,
     "metadata": {},
     "output_type": "execute_result"
    }
   ],
   "source": [
    "# bbrp kondisi - contohnya >50 atau genap\n",
    "a[(a > 50) | (a % 2 == 0)]"
   ]
  },
  {
   "cell_type": "code",
   "execution_count": 115,
   "metadata": {},
   "outputs": [
    {
     "data": {
      "text/plain": [
       "array([10, 24, 38, 52, 59, 66, 73, 80, 87])"
      ]
     },
     "execution_count": 115,
     "metadata": {},
     "output_type": "execute_result"
    }
   ],
   "source": [
    "a_diatas50 = (a > 50)\n",
    "a_genap = (a % 2 == 0)\n",
    "\n",
    "a[ a_diatas50 | a_genap ]"
   ]
  },
  {
   "cell_type": "markdown",
   "metadata": {},
   "source": [
    "## Membuat array dengan manipulasi array\n",
    "- stack (tumpuk)\n",
    "    - vertical (tumpuk ke atas)\n",
    "    - horizontal (tumpuk ke sebelah kanan)\n",
    "- split (potong/pisah)\n",
    "    - vertical (potong nya per baris)\n",
    "    - horizontal (potongnya per kolom)\n",
    "- duplikat dengan `.copy()` dan `.view()`"
   ]
  },
  {
   "cell_type": "code",
   "execution_count": 116,
   "metadata": {},
   "outputs": [
    {
     "name": "stdout",
     "output_type": "stream",
     "text": [
      "[[10 17 24 31]\n",
      " [38 45 52 59]\n",
      " [66 73 80 87]]\n"
     ]
    }
   ],
   "source": [
    "a = np.arange(10,94,7).reshape((3,4))\n",
    "print(a)"
   ]
  },
  {
   "cell_type": "code",
   "execution_count": 125,
   "metadata": {},
   "outputs": [
    {
     "name": "stdout",
     "output_type": "stream",
     "text": [
      "[[1.]\n",
      " [1.]\n",
      " [1.]]\n"
     ]
    }
   ],
   "source": [
    "b = np.ones((3,1))\n",
    "print(b)"
   ]
  },
  {
   "cell_type": "code",
   "execution_count": 126,
   "metadata": {},
   "outputs": [
    {
     "name": "stdout",
     "output_type": "stream",
     "text": [
      "[[0. 0. 0. 0.]]\n"
     ]
    }
   ],
   "source": [
    "c = np.zeros((1,4))\n",
    "print(c)"
   ]
  },
  {
   "cell_type": "markdown",
   "metadata": {},
   "source": [
    "### stack menumpuk\n",
    "```python \n",
    "np.vstack((a, b))\n",
    "```\n",
    "akan error karena a punya 4 kolom dan b punya 1 kolom, kalau ditumpuk vertical jumlah kolomnya berbeda gk pas"
   ]
  },
  {
   "cell_type": "code",
   "execution_count": 127,
   "metadata": {},
   "outputs": [
    {
     "data": {
      "text/plain": [
       "array([[10., 17., 24., 31.],\n",
       "       [38., 45., 52., 59.],\n",
       "       [66., 73., 80., 87.],\n",
       "       [ 0.,  0.,  0.,  0.]])"
      ]
     },
     "execution_count": 127,
     "metadata": {},
     "output_type": "execute_result"
    }
   ],
   "source": [
    "np.vstack((a,c))"
   ]
  },
  {
   "cell_type": "code",
   "execution_count": 128,
   "metadata": {},
   "outputs": [
    {
     "data": {
      "text/plain": [
       "array([[ 0.,  0.,  0.,  0.],\n",
       "       [10., 17., 24., 31.],\n",
       "       [38., 45., 52., 59.],\n",
       "       [66., 73., 80., 87.]])"
      ]
     },
     "execution_count": 128,
     "metadata": {},
     "output_type": "execute_result"
    }
   ],
   "source": [
    "np.vstack((c,a))"
   ]
  },
  {
   "cell_type": "code",
   "execution_count": 129,
   "metadata": {},
   "outputs": [
    {
     "data": {
      "text/plain": [
       "array([[10., 17., 24., 31.,  1.],\n",
       "       [38., 45., 52., 59.,  1.],\n",
       "       [66., 73., 80., 87.,  1.]])"
      ]
     },
     "execution_count": 129,
     "metadata": {},
     "output_type": "execute_result"
    }
   ],
   "source": [
    "np.hstack((a,b))"
   ]
  },
  {
   "cell_type": "code",
   "execution_count": 130,
   "metadata": {},
   "outputs": [
    {
     "data": {
      "text/plain": [
       "array([[ 1., 10., 17., 24., 31.,  1.],\n",
       "       [ 1., 38., 45., 52., 59.,  1.],\n",
       "       [ 1., 66., 73., 80., 87.,  1.]])"
      ]
     },
     "execution_count": 130,
     "metadata": {},
     "output_type": "execute_result"
    }
   ],
   "source": [
    "np.hstack((b,a,b))"
   ]
  },
  {
   "cell_type": "markdown",
   "metadata": {},
   "source": [
    "### split memotong"
   ]
  },
  {
   "cell_type": "code",
   "execution_count": 136,
   "metadata": {},
   "outputs": [
    {
     "name": "stdout",
     "output_type": "stream",
     "text": [
      "[[ 1. 10. 17. 24. 31.  1.]\n",
      " [ 1. 38. 45. 52. 59.  1.]\n",
      " [ 1. 66. 73. 80. 87.  1.]]\n"
     ]
    }
   ],
   "source": [
    "d = np.hstack((b,a,b))\n",
    "print(d)"
   ]
  },
  {
   "cell_type": "markdown",
   "metadata": {},
   "source": [
    "```python\n",
    "np.vsplit(d, 2)\n",
    "```\n",
    "3 baris tidak bisa dibagi 2, jadi error"
   ]
  },
  {
   "cell_type": "code",
   "execution_count": 138,
   "metadata": {},
   "outputs": [
    {
     "data": {
      "text/plain": [
       "[array([[ 1., 10., 17., 24., 31.,  1.]]),\n",
       " array([[ 1., 38., 45., 52., 59.,  1.]]),\n",
       " array([[ 1., 66., 73., 80., 87.,  1.]])]"
      ]
     },
     "execution_count": 138,
     "metadata": {},
     "output_type": "execute_result"
    }
   ],
   "source": [
    "np.vsplit(d, 3)"
   ]
  },
  {
   "cell_type": "code",
   "execution_count": 139,
   "metadata": {},
   "outputs": [
    {
     "data": {
      "text/plain": [
       "[array([[ 1., 10., 17.],\n",
       "        [ 1., 38., 45.],\n",
       "        [ 1., 66., 73.]]),\n",
       " array([[24., 31.,  1.],\n",
       "        [52., 59.,  1.],\n",
       "        [80., 87.,  1.]])]"
      ]
     },
     "execution_count": 139,
     "metadata": {},
     "output_type": "execute_result"
    }
   ],
   "source": [
    "np.hsplit(d, 2)"
   ]
  },
  {
   "cell_type": "code",
   "execution_count": 140,
   "metadata": {},
   "outputs": [
    {
     "data": {
      "text/plain": [
       "[array([[ 1., 10.],\n",
       "        [ 1., 38.],\n",
       "        [ 1., 66.]]),\n",
       " array([[17., 24.],\n",
       "        [45., 52.],\n",
       "        [73., 80.]]),\n",
       " array([[31.,  1.],\n",
       "        [59.,  1.],\n",
       "        [87.,  1.]])]"
      ]
     },
     "execution_count": 140,
     "metadata": {},
     "output_type": "execute_result"
    }
   ],
   "source": [
    "np.hsplit(d, 3)"
   ]
  },
  {
   "cell_type": "code",
   "execution_count": 143,
   "metadata": {},
   "outputs": [
    {
     "name": "stdout",
     "output_type": "stream",
     "text": [
      "[[31.  1.]\n",
      " [59.  1.]\n",
      " [87.  1.]]\n"
     ]
    }
   ],
   "source": [
    "d1, d2, d3 = np.hsplit(d, 3)\n",
    "print(d3)"
   ]
  },
  {
   "cell_type": "markdown",
   "metadata": {},
   "source": [
    "### duplikat array\n",
    "- view (by reference)\n",
    "- copy (deep copy)"
   ]
  },
  {
   "cell_type": "code",
   "execution_count": 145,
   "metadata": {},
   "outputs": [
    {
     "name": "stdout",
     "output_type": "stream",
     "text": [
      "[1. 1. 1. 1. 1.]\n"
     ]
    }
   ],
   "source": [
    "a = np.ones(5)\n",
    "\n",
    "a_view = a.view()\n",
    "a_copy = a.copy()\n",
    "\n",
    "print(a)"
   ]
  },
  {
   "cell_type": "code",
   "execution_count": 146,
   "metadata": {},
   "outputs": [
    {
     "name": "stdout",
     "output_type": "stream",
     "text": [
      "[5. 1. 1. 1. 1.]\n",
      "[5. 1. 1. 1. 1.]\n",
      "[1. 1. 1. 1. 1.]\n"
     ]
    }
   ],
   "source": [
    "# kalau a berubah, a_view ikut berubah\n",
    "a[0] = 5\n",
    "print(a)\n",
    "print(a_view)\n",
    "print(a_copy)"
   ]
  },
  {
   "cell_type": "code",
   "execution_count": 147,
   "metadata": {},
   "outputs": [
    {
     "name": "stdout",
     "output_type": "stream",
     "text": [
      "[ 5. -2.  1.  1.  1.]\n",
      "[ 5. -2.  1.  1.  1.]\n",
      "[1. 1. 1. 1. 1.]\n"
     ]
    }
   ],
   "source": [
    "# kalau a_view berubah, a ikut berubah\n",
    "a_view[1] = -2\n",
    "print(a)\n",
    "print(a_view)\n",
    "print(a_copy)"
   ]
  },
  {
   "cell_type": "code",
   "execution_count": 148,
   "metadata": {},
   "outputs": [],
   "source": [
    "# kalau a_copy tidak peduli akan perubahan a, juga tidak mengubah a jika a_copy berubah"
   ]
  },
  {
   "cell_type": "markdown",
   "metadata": {},
   "source": [
    "# operator matematik di numpy array\n"
   ]
  },
  {
   "cell_type": "code",
   "execution_count": 155,
   "metadata": {},
   "outputs": [
    {
     "name": "stdout",
     "output_type": "stream",
     "text": [
      "[[ 2  3  4]\n",
      " [ 5  6  7]\n",
      " [ 8  9 10]]\n",
      "[[2. 2. 2.]\n",
      " [2. 2. 2.]\n",
      " [2. 2. 2.]]\n"
     ]
    }
   ],
   "source": [
    "a = np.arange(2, 11).reshape((3,3))\n",
    "b = np.ones((3,3)) * 2\n",
    "print(a)\n",
    "print(b)"
   ]
  },
  {
   "cell_type": "code",
   "execution_count": 157,
   "metadata": {},
   "outputs": [
    {
     "name": "stdout",
     "output_type": "stream",
     "text": [
      "[[ 4.  5.  6.]\n",
      " [ 7.  8.  9.]\n",
      " [10. 11. 12.]]\n",
      "[[0. 1. 2.]\n",
      " [3. 4. 5.]\n",
      " [6. 7. 8.]]\n",
      "[[ 4.  6.  8.]\n",
      " [10. 12. 14.]\n",
      " [16. 18. 20.]]\n",
      "[[1.  1.5 2. ]\n",
      " [2.5 3.  3.5]\n",
      " [4.  4.5 5. ]]\n"
     ]
    }
   ],
   "source": [
    "# kita bisa lakukan operator matematik antar 2 numpy array yg shape sama\n",
    "print(a + b)\n",
    "print(a - b)\n",
    "print(a * b)\n",
    "print(a / b)"
   ]
  },
  {
   "cell_type": "code",
   "execution_count": 158,
   "metadata": {},
   "outputs": [
    {
     "name": "stdout",
     "output_type": "stream",
     "text": [
      "[[4. 4. 4.]\n",
      " [4. 4. 4.]\n",
      " [4. 4. 4.]]\n",
      "[[-3. -3. -3.]\n",
      " [-3. -3. -3.]\n",
      " [-3. -3. -3.]]\n",
      "[[6. 6. 6.]\n",
      " [6. 6. 6.]\n",
      " [6. 6. 6.]]\n",
      "[[0.5 0.5 0.5]\n",
      " [0.5 0.5 0.5]\n",
      " [0.5 0.5 0.5]]\n"
     ]
    }
   ],
   "source": [
    "# kita juga bisa lakukan operatro matematik antar numpy array dan 1 angka\n",
    "print(b + 2)\n",
    "print(b - 5)\n",
    "print(b * 3)\n",
    "print(b / 4)"
   ]
  },
  {
   "cell_type": "code",
   "execution_count": 160,
   "metadata": {},
   "outputs": [
    {
     "name": "stdout",
     "output_type": "stream",
     "text": [
      "[[2 0 1]\n",
      " [2 0 1]\n",
      " [2 0 1]]\n"
     ]
    }
   ],
   "source": [
    "print(a % 3)"
   ]
  },
  {
   "cell_type": "code",
   "execution_count": 163,
   "metadata": {},
   "outputs": [
    {
     "name": "stdout",
     "output_type": "stream",
     "text": [
      "[[  4   9  16]\n",
      " [ 25  36  49]\n",
      " [ 64  81 100]]\n"
     ]
    }
   ],
   "source": [
    "print(a** 2)"
   ]
  },
  {
   "cell_type": "code",
   "execution_count": 166,
   "metadata": {},
   "outputs": [
    {
     "name": "stdout",
     "output_type": "stream",
     "text": [
      "[[1.41421356 1.73205081 2.        ]\n",
      " [2.23606798 2.44948974 2.64575131]\n",
      " [2.82842712 3.         3.16227766]]\n"
     ]
    }
   ],
   "source": [
    "# akar kita bisa pakau **0.5 atau bantuan np.sqrt\n",
    "print(np.sqrt(a))"
   ]
  },
  {
   "cell_type": "code",
   "execution_count": 165,
   "metadata": {},
   "outputs": [
    {
     "name": "stdout",
     "output_type": "stream",
     "text": [
      "[[1.41421356 1.73205081 2.        ]\n",
      " [2.23606798 2.44948974 2.64575131]\n",
      " [2.82842712 3.         3.16227766]]\n"
     ]
    }
   ],
   "source": [
    "print(a**0.5)"
   ]
  },
  {
   "cell_type": "markdown",
   "metadata": {},
   "source": [
    "# agregasi angka di sebuah numpy array\n",
    "- bisa sekaligus semua angka\n",
    "- bisa per axis nya (per baris atau per kolom)\n",
    "- contoh agregasi:\n",
    "    - min\n",
    "    - max\n",
    "    - mean\n",
    "    - sum\n",
    "    - dan lainnya"
   ]
  },
  {
   "cell_type": "code",
   "execution_count": 176,
   "metadata": {},
   "outputs": [
    {
     "name": "stdout",
     "output_type": "stream",
     "text": [
      "[[ -5   7  19  31]\n",
      " [ 43  55  67  79]\n",
      " [ 91 103 115 127]]\n"
     ]
    }
   ],
   "source": [
    "b = np.arange(-5, 128, 12).reshape((3,4))\n",
    "print(b)"
   ]
  },
  {
   "cell_type": "code",
   "execution_count": 177,
   "metadata": {},
   "outputs": [
    {
     "data": {
      "text/plain": [
       "-5"
      ]
     },
     "execution_count": 177,
     "metadata": {},
     "output_type": "execute_result"
    }
   ],
   "source": [
    "b.min()"
   ]
  },
  {
   "cell_type": "code",
   "execution_count": 178,
   "metadata": {},
   "outputs": [
    {
     "data": {
      "text/plain": [
       "array([-5,  7, 19, 31])"
      ]
     },
     "execution_count": 178,
     "metadata": {},
     "output_type": "execute_result"
    }
   ],
   "source": [
    "b.min(axis=0) # bandingin angka baris ke baris dan cari angka min dari semua baris"
   ]
  },
  {
   "cell_type": "code",
   "execution_count": 179,
   "metadata": {},
   "outputs": [
    {
     "data": {
      "text/plain": [
       "array([-5, 43, 91])"
      ]
     },
     "execution_count": 179,
     "metadata": {},
     "output_type": "execute_result"
    }
   ],
   "source": [
    "b.min(axis=1) # bandingin angka kolom ke kolom dan cari angka min dari semua kolom"
   ]
  },
  {
   "cell_type": "code",
   "execution_count": 180,
   "metadata": {},
   "outputs": [
    {
     "name": "stdout",
     "output_type": "stream",
     "text": [
      "127\n",
      "[ 91 103 115 127]\n",
      "[ 31  79 127]\n"
     ]
    }
   ],
   "source": [
    "# max\n",
    "print(b.max())\n",
    "print(b.max(axis=0))\n",
    "print(b.max(axis=1))"
   ]
  },
  {
   "cell_type": "code",
   "execution_count": 182,
   "metadata": {},
   "outputs": [
    {
     "name": "stdout",
     "output_type": "stream",
     "text": [
      "61.0\n",
      "[43. 55. 67. 79.]\n",
      "[ 13.  61. 109.]\n"
     ]
    }
   ],
   "source": [
    "# mean (rata-rata)\n",
    "print(b.mean())\n",
    "print(b.mean(axis=0))\n",
    "print(b.mean(axis=1))"
   ]
  },
  {
   "cell_type": "code",
   "execution_count": 183,
   "metadata": {},
   "outputs": [
    {
     "name": "stdout",
     "output_type": "stream",
     "text": [
      "732\n",
      "[129 165 201 237]\n",
      "[ 52 244 436]\n"
     ]
    }
   ],
   "source": [
    "# sum\n",
    "print(b.sum())\n",
    "print(b.sum(axis=0))\n",
    "print(b.sum(axis=1))"
   ]
  },
  {
   "cell_type": "markdown",
   "metadata": {},
   "source": [
    "# Matrix\n",
    "kita membuat matrix dengan menggunakan numpy array 2 dimensi isinya angka semua\n",
    "\n",
    "pada dasarnya sudah kita gunakan dan latih dengan menggunakan numpy array 2D. yang beda adalah perkalian spesial antara 2 matrix namanya \"dot product\"\n",
    "\n",
    "## Dot Product\n",
    "detail cara menghitung dot product (dengan gambar) bisa dilihat di web ini https://www.mathsisfun.com/algebra/matrix-multiplying.html \n",
    "\n",
    "kalau cara numpy hitungnya, lsg saja `.dot`"
   ]
  },
  {
   "cell_type": "code",
   "execution_count": 184,
   "metadata": {},
   "outputs": [
    {
     "name": "stdout",
     "output_type": "stream",
     "text": [
      "[[1 2 3]\n",
      " [4 5 6]]\n",
      "[[ 7  8]\n",
      " [ 9 10]\n",
      " [11 12]]\n"
     ]
    }
   ],
   "source": [
    "a = np.arange(1,7).reshape((2,3))\n",
    "b = np.arange(7, 13).reshape((3,2))\n",
    "print(a)\n",
    "print(b)"
   ]
  },
  {
   "cell_type": "code",
   "execution_count": 185,
   "metadata": {},
   "outputs": [
    {
     "name": "stdout",
     "output_type": "stream",
     "text": [
      "[[ 58  64]\n",
      " [139 154]]\n"
     ]
    }
   ],
   "source": [
    "c = np.dot(a,b)\n",
    "print(c)"
   ]
  },
  {
   "cell_type": "markdown",
   "metadata": {},
   "source": [
    "## Tranpose\n",
    "kolom menjadi baris, baris menjadi kolom\n",
    "\n",
    "berbeda dengan reshape yang melupakan teman sebaris dulu siapa, transpose masih ingat"
   ]
  },
  {
   "cell_type": "code",
   "execution_count": 187,
   "metadata": {},
   "outputs": [
    {
     "name": "stdout",
     "output_type": "stream",
     "text": [
      "[[ 58 139]\n",
      " [ 64 154]]\n"
     ]
    }
   ],
   "source": [
    "c_tr = c.T\n",
    "print(c_tr)"
   ]
  },
  {
   "cell_type": "code",
   "execution_count": 188,
   "metadata": {},
   "outputs": [
    {
     "name": "stdout",
     "output_type": "stream",
     "text": [
      "[[1 4]\n",
      " [2 5]\n",
      " [3 6]]\n"
     ]
    }
   ],
   "source": [
    "a_tr = a.T\n",
    "print(a_tr)"
   ]
  },
  {
   "cell_type": "code",
   "execution_count": 189,
   "metadata": {},
   "outputs": [
    {
     "name": "stdout",
     "output_type": "stream",
     "text": [
      "[[1 2 3]\n",
      " [4 5 6]]\n"
     ]
    }
   ],
   "source": [
    "print(a_tr.T) # di transpose 2 kali itu balik ke awal"
   ]
  },
  {
   "cell_type": "code",
   "execution_count": 190,
   "metadata": {},
   "outputs": [
    {
     "data": {
      "text/plain": [
       "array([[1, 2],\n",
       "       [3, 4],\n",
       "       [5, 6]])"
      ]
     },
     "execution_count": 190,
     "metadata": {},
     "output_type": "execute_result"
    }
   ],
   "source": [
    "a.reshape((3,2)) # beda sama reshape"
   ]
  },
  {
   "cell_type": "markdown",
   "metadata": {},
   "source": [
    "# Flatten\n",
    "ubah numpy array menjadi 1D, dari awalnya dimensi berapapun\n",
    "- flatten (deep copy)\n",
    "- ravel (reference)"
   ]
  },
  {
   "cell_type": "code",
   "execution_count": 194,
   "metadata": {},
   "outputs": [
    {
     "name": "stdout",
     "output_type": "stream",
     "text": [
      "[[[ 0  1  2  3  4]\n",
      "  [ 5  6  7  8  9]\n",
      "  [10 11 12 13 14]\n",
      "  [15 16 17 18 19]]\n",
      "\n",
      " [[20 21 22 23 24]\n",
      "  [25 26 27 28 29]\n",
      "  [30 31 32 33 34]\n",
      "  [35 36 37 38 39]]\n",
      "\n",
      " [[40 41 42 43 44]\n",
      "  [45 46 47 48 49]\n",
      "  [50 51 52 53 54]\n",
      "  [55 56 57 58 59]]\n",
      "\n",
      " [[60 61 62 63 64]\n",
      "  [65 66 67 68 69]\n",
      "  [70 71 72 73 74]\n",
      "  [75 76 77 78 79]]\n",
      "\n",
      " [[80 81 82 83 84]\n",
      "  [85 86 87 88 89]\n",
      "  [90 91 92 93 94]\n",
      "  [95 96 97 98 99]]]\n",
      "(5, 4, 5)\n"
     ]
    }
   ],
   "source": [
    "a = np.arange(100).reshape((5,4,5))\n",
    "print(a)\n",
    "print(a.shape)"
   ]
  },
  {
   "cell_type": "code",
   "execution_count": 197,
   "metadata": {},
   "outputs": [
    {
     "name": "stdout",
     "output_type": "stream",
     "text": [
      "[ 0  1  2  3  4  5  6  7  8  9 10 11 12 13 14 15 16 17 18 19 20 21 22 23\n",
      " 24 25 26 27 28 29 30 31 32 33 34 35 36 37 38 39 40 41 42 43 44 45 46 47\n",
      " 48 49 50 51 52 53 54 55 56 57 58 59 60 61 62 63 64 65 66 67 68 69 70 71\n",
      " 72 73 74 75 76 77 78 79 80 81 82 83 84 85 86 87 88 89 90 91 92 93 94 95\n",
      " 96 97 98 99]\n",
      "(100,)\n"
     ]
    }
   ],
   "source": [
    "a_flat = a.flatten()\n",
    "\n",
    "print(a_flat)\n",
    "print(a_flat.shape)"
   ]
  },
  {
   "cell_type": "code",
   "execution_count": 198,
   "metadata": {},
   "outputs": [
    {
     "name": "stdout",
     "output_type": "stream",
     "text": [
      "[ 0  1  2  3  4  5  6  7  8  9 10 11 12 13 14 15 16 17 18 19 20 21 22 23\n",
      " 24 25 26 27 28 29 30 31 32 33 34 35 36 37 38 39 40 41 42 43 44 45 46 47\n",
      " 48 49 50 51 52 53 54 55 56 57 58 59 60 61 62 63 64 65 66 67 68 69 70 71\n",
      " 72 73 74 75 76 77 78 79 80 81 82 83 84 85 86 87 88 89 90 91 92 93 94 95\n",
      " 96 97 98 99]\n",
      "(100,)\n"
     ]
    }
   ],
   "source": [
    "a_ravel = a.ravel()\n",
    "print(a_ravel)\n",
    "print(a_ravel.shape)"
   ]
  },
  {
   "cell_type": "code",
   "execution_count": 199,
   "metadata": {},
   "outputs": [
    {
     "name": "stdout",
     "output_type": "stream",
     "text": [
      "[-10   1   2   3   4   5   6   7   8   9  10  11  12  13  14  15  16  17\n",
      "  18  19  20  21  22  23  24  25  26  27  28  29  30  31  32  33  34  35\n",
      "  36  37  38  39  40  41  42  43  44  45  46  47  48  49  50  51  52  53\n",
      "  54  55  56  57  58  59  60  61  62  63  64  65  66  67  68  69  70  71\n",
      "  72  73  74  75  76  77  78  79  80  81  82  83  84  85  86  87  88  89\n",
      "  90  91  92  93  94  95  96  97  98  99]\n",
      "[[[-10   1   2   3   4]\n",
      "  [  5   6   7   8   9]\n",
      "  [ 10  11  12  13  14]\n",
      "  [ 15  16  17  18  19]]\n",
      "\n",
      " [[ 20  21  22  23  24]\n",
      "  [ 25  26  27  28  29]\n",
      "  [ 30  31  32  33  34]\n",
      "  [ 35  36  37  38  39]]\n",
      "\n",
      " [[ 40  41  42  43  44]\n",
      "  [ 45  46  47  48  49]\n",
      "  [ 50  51  52  53  54]\n",
      "  [ 55  56  57  58  59]]\n",
      "\n",
      " [[ 60  61  62  63  64]\n",
      "  [ 65  66  67  68  69]\n",
      "  [ 70  71  72  73  74]\n",
      "  [ 75  76  77  78  79]]\n",
      "\n",
      " [[ 80  81  82  83  84]\n",
      "  [ 85  86  87  88  89]\n",
      "  [ 90  91  92  93  94]\n",
      "  [ 95  96  97  98  99]]]\n"
     ]
    }
   ],
   "source": [
    "# karena by reference, perubahan ke a_ravel juga efek ke a awalnya, begitu pula sebaliknya\n",
    "a_ravel[0] = -10\n",
    "print(a_ravel)\n",
    "print(a)"
   ]
  },
  {
   "cell_type": "markdown",
   "metadata": {},
   "source": [
    "# Math Formulas\n",
    "segala jenis formula matematika bisa ditulis di python dengan bantuan package numpy"
   ]
  }
 ],
 "metadata": {
  "kernelspec": {
   "display_name": "Python 3",
   "language": "python",
   "name": "python3"
  },
  "language_info": {
   "codemirror_mode": {
    "name": "ipython",
    "version": 3
   },
   "file_extension": ".py",
   "mimetype": "text/x-python",
   "name": "python",
   "nbconvert_exporter": "python",
   "pygments_lexer": "ipython3",
   "version": "3.8.5"
  }
 },
 "nbformat": 4,
 "nbformat_minor": 4
}
