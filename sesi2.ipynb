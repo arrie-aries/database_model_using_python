{
 "cells": [
  {
   "cell_type": "markdown",
   "metadata": {},
   "source": [
    "# Function\n",
    "mengumpulkan blok kode ke satu tempat lalu diberi nama.\n",
    "\n",
    "variable simpan data.\n",
    "\n",
    "function simpan blok kode."
   ]
  },
  {
   "cell_type": "code",
   "execution_count": 1,
   "metadata": {},
   "outputs": [],
   "source": [
    "def perasBuah():\n",
    "    buah_buahan = [\"apel\", \"pisang\", \"jeruk\", \"mangga\", \"melon\"]\n",
    "\n",
    "    while (\"jeruk\" in buah_buahan):\n",
    "        print(\"peras jeruk\")\n",
    "        buah_buahan.remove(\"jeruk\")"
   ]
  },
  {
   "cell_type": "markdown",
   "metadata": {},
   "source": [
    "jalankan sebuah function dengan memanggil namanya lalu di \"invoke\" kasih kurung ()"
   ]
  },
  {
   "cell_type": "code",
   "execution_count": 3,
   "metadata": {},
   "outputs": [
    {
     "name": "stdout",
     "output_type": "stream",
     "text": [
      "peras jeruk\n"
     ]
    }
   ],
   "source": [
    "perasBuah()"
   ]
  },
  {
   "cell_type": "code",
   "execution_count": 4,
   "metadata": {},
   "outputs": [
    {
     "name": "stdout",
     "output_type": "stream",
     "text": [
      "peras jeruk\n"
     ]
    }
   ],
   "source": [
    "buah_buahan = [\"apel\", \"pisang\", \"jeruk\", \"mangga\", \"melon\"]\n",
    "\n",
    "while (\"jeruk\" in buah_buahan):\n",
    "    print(\"peras jeruk\")\n",
    "    buah_buahan.remove(\"jeruk\")"
   ]
  },
  {
   "cell_type": "code",
   "execution_count": 5,
   "metadata": {},
   "outputs": [
    {
     "name": "stdout",
     "output_type": "stream",
     "text": [
      "peras jeruk\n",
      "peras jeruk\n",
      "peras jeruk\n"
     ]
    }
   ],
   "source": [
    "perasBuah()\n",
    "perasBuah()\n",
    "perasBuah()"
   ]
  },
  {
   "cell_type": "markdown",
   "metadata": {},
   "source": [
    "tujuan function selain simpan blok kode dan punya nama blok kodenya, adalah bisa memakai ulang kode yang sama.\n",
    "\n",
    "kita bisa buat function nya bisa sedikit custom dengan memberi parameter/argumen - variable spesial milik function tersebut."
   ]
  },
  {
   "cell_type": "code",
   "execution_count": 9,
   "metadata": {},
   "outputs": [],
   "source": [
    "def perasBuah(buah):\n",
    "    buah_buahan = [\"apel\", \"pisang\", \"jeruk\", \"mangga\", \"melon\"]\n",
    "\n",
    "    while (buah in buah_buahan):\n",
    "        print(\"jus \" + buah)\n",
    "        buah_buahan.remove(buah)"
   ]
  },
  {
   "cell_type": "code",
   "execution_count": 11,
   "metadata": {},
   "outputs": [
    {
     "name": "stdout",
     "output_type": "stream",
     "text": [
      "jus apel\n",
      "jus jeruk\n"
     ]
    }
   ],
   "source": [
    "perasBuah(\"apel\")\n",
    "perasBuah(\"jeruk\")"
   ]
  },
  {
   "cell_type": "code",
   "execution_count": 12,
   "metadata": {},
   "outputs": [],
   "source": [
    "def perasBuah(buah, buah_buahan):\n",
    "    while (buah in buah_buahan):\n",
    "        print(\"jus \" + buah)\n",
    "        buah_buahan.remove(buah)"
   ]
  },
  {
   "cell_type": "code",
   "execution_count": 13,
   "metadata": {},
   "outputs": [
    {
     "name": "stdout",
     "output_type": "stream",
     "text": [
      "jus apel\n",
      "jus apel\n",
      "jus apel\n"
     ]
    }
   ],
   "source": [
    "perasBuah(\"apel\", [\"apel\", \"apel\", \"apel\"])"
   ]
  },
  {
   "cell_type": "code",
   "execution_count": 14,
   "metadata": {},
   "outputs": [
    {
     "name": "stdout",
     "output_type": "stream",
     "text": [
      "['pir', 'jeruk', 'apel', 'pir', 'jeruk', 'apel']\n"
     ]
    }
   ],
   "source": [
    "buah_andi = [\"pir\", \"jeruk\", \"apel\"] * 2\n",
    "print(buah_andi)"
   ]
  },
  {
   "cell_type": "code",
   "execution_count": 15,
   "metadata": {},
   "outputs": [
    {
     "name": "stdout",
     "output_type": "stream",
     "text": [
      "jus pir\n",
      "jus pir\n"
     ]
    }
   ],
   "source": [
    "perasBuah(\"pir\", buah_andi)"
   ]
  },
  {
   "cell_type": "markdown",
   "metadata": {},
   "source": [
    "argumen yang dicontohkan sejauh ini simple saja, tulis di definisi function nya kemudian saat function di-invoke, kita berikan value untuk setiap argumen yang dimiliki.\n",
    "\n",
    "tipe argumen sebenarnya ada lebih dari satu. ada yang harus diisi, ada yg tidak, ada juga cara untuk mengisi argumen urutnya tidak urut.\n",
    "\n",
    "argumen yang harus diisi namanya \"required argument\"\n",
    "\n",
    "- required argument (harus diisi)\n",
    "- default argument (sudah punya default value, tidak harus diisi)\n",
    "- keyword/named argument (cara isi argumen dengan memanggil namanya)\n",
    "- variable length argument (argumentnya jumlahnya bisa berubah rubah)"
   ]
  },
  {
   "cell_type": "code",
   "execution_count": 17,
   "metadata": {},
   "outputs": [],
   "source": [
    "# contoh required argument\n",
    "def printMe(msg):\n",
    "    print(msg)\n",
    "    \n",
    "# printMe() # ini akan error karena argumen 'msg' tidak diisi"
   ]
  },
  {
   "cell_type": "code",
   "execution_count": 19,
   "metadata": {},
   "outputs": [
    {
     "name": "stdout",
     "output_type": "stream",
     "text": [
      "halo\n",
      "pagi\n"
     ]
    }
   ],
   "source": [
    "# contoh default argument, tidak harus diisi\n",
    "def printMe(msg=\"halo\"):\n",
    "    print(msg)\n",
    "    \n",
    "printMe()\n",
    "printMe(\"pagi\")\n",
    "\n",
    "# karena sudah punya isi default value, tidak apa jika tidak diisi"
   ]
  },
  {
   "cell_type": "code",
   "execution_count": 20,
   "metadata": {},
   "outputs": [
    {
     "name": "stdout",
     "output_type": "stream",
     "text": [
      "pagi andi\n",
      "hari ini hari yang indah\n"
     ]
    }
   ],
   "source": [
    "# contoh penggunaan keyword argumen dengan required argumen\n",
    "def menyapa(waktu, nama, msg):\n",
    "    print(waktu, nama)\n",
    "    print(msg)\n",
    "\n",
    "# biasanya isi harus urut, waktu nama msg kan\n",
    "menyapa(\"pagi\", \"andi\", \"hari ini hari yang indah\")"
   ]
  },
  {
   "cell_type": "code",
   "execution_count": 21,
   "metadata": {},
   "outputs": [
    {
     "name": "stdout",
     "output_type": "stream",
     "text": [
      "siang andi\n",
      "ada dokumen ketinggalan kemarin\n"
     ]
    }
   ],
   "source": [
    "# tapi dengan keyword argumen kita bisa isinya tidak harus urut\n",
    "menyapa(nama=\"andi\", msg=\"ada dokumen ketinggalan kemarin\", waktu = \"siang\")"
   ]
  },
  {
   "cell_type": "code",
   "execution_count": 23,
   "metadata": {},
   "outputs": [
    {
     "name": "stdout",
     "output_type": "stream",
     "text": [
      "sore pak/bu\n",
      "tidak ada pesan tertentu\n"
     ]
    }
   ],
   "source": [
    "# contoh penggunaan keyword argumen dengan default argument\n",
    "def menyapa(waktu, nama=\"pak/bu\", msg=\"tidak ada pesan tertentu\"):\n",
    "    print(waktu, nama)\n",
    "    print(msg)\n",
    "    \n",
    "menyapa(\"sore\")"
   ]
  },
  {
   "cell_type": "code",
   "execution_count": 24,
   "metadata": {},
   "outputs": [
    {
     "name": "stdout",
     "output_type": "stream",
     "text": [
      "siang andi\n",
      "ada dokumen ketinggalan kemarin\n"
     ]
    }
   ],
   "source": [
    "menyapa(nama=\"andi\", msg=\"ada dokumen ketinggalan kemarin\", waktu = \"siang\")"
   ]
  },
  {
   "cell_type": "code",
   "execution_count": 30,
   "metadata": {},
   "outputs": [],
   "source": [
    "# variable length argument - jumlah argument nya bisa beda beda\n",
    "def perasBuah(*buah_buahan):\n",
    "    print(buah_buahan)\n",
    "    for buah in buah_buahan:\n",
    "        print(\"jus \" + buah)"
   ]
  },
  {
   "cell_type": "code",
   "execution_count": 31,
   "metadata": {},
   "outputs": [
    {
     "name": "stdout",
     "output_type": "stream",
     "text": [
      "()\n"
     ]
    }
   ],
   "source": [
    "perasBuah()"
   ]
  },
  {
   "cell_type": "code",
   "execution_count": 32,
   "metadata": {},
   "outputs": [
    {
     "name": "stdout",
     "output_type": "stream",
     "text": [
      "('jeruk',)\n",
      "jus jeruk\n"
     ]
    }
   ],
   "source": [
    "perasBuah(\"jeruk\")"
   ]
  },
  {
   "cell_type": "code",
   "execution_count": 33,
   "metadata": {},
   "outputs": [
    {
     "name": "stdout",
     "output_type": "stream",
     "text": [
      "('jeruk', 'apel', 'mangga', 'semangka')\n",
      "jus jeruk\n",
      "jus apel\n",
      "jus mangga\n",
      "jus semangka\n"
     ]
    }
   ],
   "source": [
    "perasBuah(\"jeruk\", \"apel\", \"mangga\", \"semangka\")"
   ]
  },
  {
   "cell_type": "code",
   "execution_count": 34,
   "metadata": {},
   "outputs": [],
   "source": [
    "# contoh lain\n",
    "def menyapa(waktu, *nama):\n",
    "    for n in nama:\n",
    "        print(waktu, n)"
   ]
  },
  {
   "cell_type": "code",
   "execution_count": 35,
   "metadata": {},
   "outputs": [
    {
     "name": "stdout",
     "output_type": "stream",
     "text": [
      "pagi andi\n",
      "pagi budi\n"
     ]
    }
   ],
   "source": [
    "menyapa(\"pagi\", \"andi\", \"budi\")"
   ]
  },
  {
   "cell_type": "code",
   "execution_count": 36,
   "metadata": {},
   "outputs": [],
   "source": [
    "def menyapa(*nama, waktu):\n",
    "    for n in nama:\n",
    "        print(waktu, n)"
   ]
  },
  {
   "cell_type": "code",
   "execution_count": 40,
   "metadata": {},
   "outputs": [
    {
     "name": "stdout",
     "output_type": "stream",
     "text": [
      "pagi andi\n",
      "pagi budi\n"
     ]
    }
   ],
   "source": [
    "menyapa(\"andi\", \"budi\", waktu=\"pagi\")"
   ]
  },
  {
   "cell_type": "markdown",
   "metadata": {},
   "source": [
    "# Return\n",
    "selain di print, ada saatnya kita perlu function itu memproses data dan mengembalikan hasilnya, bukan cuman di cetak untuk dilihat.\n",
    "\n",
    "untuk mengembalikan value seperti itu, kita gunakan `return`"
   ]
  },
  {
   "cell_type": "code",
   "execution_count": 48,
   "metadata": {},
   "outputs": [],
   "source": [
    "# function tambah, untuk menambah dua angka\n",
    "def tambah(a, b):\n",
    "    return a + b\n",
    "\n",
    "def printTambah(a, b):\n",
    "    print(a + b)"
   ]
  },
  {
   "cell_type": "code",
   "execution_count": 50,
   "metadata": {},
   "outputs": [
    {
     "name": "stdout",
     "output_type": "stream",
     "text": [
      "25 24 23\n"
     ]
    }
   ],
   "source": [
    "hasil1 = tambah(10, 15)\n",
    "hasil2 = tambah(10, 14)\n",
    "hasil3 = tambah(10, 13)\n",
    "\n",
    "print(hasil1, hasil2, hasil3)"
   ]
  },
  {
   "cell_type": "code",
   "execution_count": 51,
   "metadata": {},
   "outputs": [
    {
     "name": "stdout",
     "output_type": "stream",
     "text": [
      "25\n",
      "24\n",
      "23\n",
      "None None None\n"
     ]
    }
   ],
   "source": [
    "hasil1 = printTambah(10, 15)\n",
    "hasil2 = printTambah(10, 14)\n",
    "hasil3 = printTambah(10, 13)\n",
    "\n",
    "print(hasil1, hasil2, hasil3)"
   ]
  },
  {
   "cell_type": "code",
   "execution_count": 43,
   "metadata": {},
   "outputs": [
    {
     "data": {
      "text/plain": [
       "56"
      ]
     },
     "execution_count": 43,
     "metadata": {},
     "output_type": "execute_result"
    }
   ],
   "source": [
    "25\n",
    "132\n",
    "4\n",
    "56"
   ]
  },
  {
   "cell_type": "code",
   "execution_count": 53,
   "metadata": {},
   "outputs": [
    {
     "data": {
      "text/plain": [
       "50"
      ]
     },
     "execution_count": 53,
     "metadata": {},
     "output_type": "execute_result"
    }
   ],
   "source": [
    "tambah(3,7) * 5"
   ]
  },
  {
   "cell_type": "markdown",
   "metadata": {},
   "source": [
    "# Scope Variable\n",
    "ada variable yang biasa kita buat, ada juga variable spesial milik function yang kita panggil argument/ parameter, lalu ada juga variable yang kita buat di dalam sebuah function"
   ]
  },
  {
   "cell_type": "code",
   "execution_count": 56,
   "metadata": {},
   "outputs": [
    {
     "name": "stdout",
     "output_type": "stream",
     "text": [
      "andi pagi lagi kelas Hacktiv8\n"
     ]
    }
   ],
   "source": [
    "msg = \"Hello World\"\n",
    "def sapa(nama, waktu):\n",
    "    msg = \"lagi kelas Hacktiv8\"\n",
    "    print(nama, waktu, msg)\n",
    "    \n",
    "# msg akan dipakai yang di luar atau di dalam?\n",
    "sapa(\"andi\", \"pagi\")\n",
    "\n",
    "# pakai yang di dalam karena lebih dekat"
   ]
  },
  {
   "cell_type": "code",
   "execution_count": 58,
   "metadata": {},
   "outputs": [
    {
     "name": "stdout",
     "output_type": "stream",
     "text": [
      "andi pagi lagi kelas Hacktiv8\n"
     ]
    }
   ],
   "source": [
    "nama = \"budi\"\n",
    "msg = \"Hello World\"\n",
    "\n",
    "def sapa(nama, waktu):\n",
    "    msg = \"lagi kelas Hacktiv8\"\n",
    "    print(nama, waktu, msg)\n",
    "    \n",
    "# nama akan dipakai yang di luar atau di dalam?\n",
    "sapa(\"andi\", \"pagi\")\n",
    "\n",
    "# pakai yang di dalam karena lebih dekat"
   ]
  },
  {
   "cell_type": "code",
   "execution_count": 59,
   "metadata": {},
   "outputs": [
    {
     "name": "stdout",
     "output_type": "stream",
     "text": [
      "budi pagi Hello World\n"
     ]
    }
   ],
   "source": [
    "nama = \"budi\"\n",
    "msg = \"Hello World\"\n",
    "\n",
    "def sapa(waktu):\n",
    "    print(nama, waktu, msg)\n",
    "    \n",
    "# kalau variable nya tidak ada di dalam\n",
    "sapa(\"pagi\")\n",
    "\n",
    "# pakai yang di luar"
   ]
  },
  {
   "cell_type": "markdown",
   "metadata": {},
   "source": [
    "# Pass by Reference dengan Pass by Value\n",
    "pass by reference terjadi dengan tipe data yang terstruktur seperti list, tuple, dictionary.\n",
    "\n",
    "pass by value terjadi dengan tipe data simple seperti int, float, str, bool.\n",
    "\n",
    "misalnya andi punya rumah. pass by reference artinya saat budi mau copy rumahnya andi, dia bukan bangun rumah baru yang sama persis struktur dan isinya, dia cuman ngaku2 saja kalau rumah andi itu punya dia. jadi orang2 yang mau ke rumah budi sebenarnya lagi pergi ke rumah andi.\n",
    "\n",
    "kalau pass by value, budi benaran bangun rumah sendiri yangisinya sama persis dengan rumah andi"
   ]
  },
  {
   "cell_type": "code",
   "execution_count": 60,
   "metadata": {},
   "outputs": [
    {
     "name": "stdout",
     "output_type": "stream",
     "text": [
      "['jam tangan', 'tas selempang', 'jaket hujan']\n"
     ]
    }
   ],
   "source": [
    "# pass by reference\n",
    "\n",
    "andi = [\"jam tangan\", \"tas selempang\", \"jaket hujan\"]\n",
    "budi = andi\n",
    "\n",
    "print(andi)"
   ]
  },
  {
   "cell_type": "code",
   "execution_count": 61,
   "metadata": {},
   "outputs": [
    {
     "name": "stdout",
     "output_type": "stream",
     "text": [
      "['jam tangan', 'tas selempang', 'jaket hujan', 'earphone']\n"
     ]
    }
   ],
   "source": [
    "# kalau ada perubahan yang kita lakukan ke andi, budi ikut berubah, begitu pula sebaliknya\n",
    "andi.append(\"earphone\")\n",
    "\n",
    "print(budi)"
   ]
  },
  {
   "cell_type": "code",
   "execution_count": 62,
   "metadata": {},
   "outputs": [
    {
     "name": "stdout",
     "output_type": "stream",
     "text": [
      "['tas selempang', 'jaket hujan', 'earphone']\n"
     ]
    }
   ],
   "source": [
    "budi.remove(\"jam tangan\")\n",
    "\n",
    "print(andi)"
   ]
  },
  {
   "cell_type": "code",
   "execution_count": 63,
   "metadata": {},
   "outputs": [],
   "source": [
    "# terjadi saat di function misalnya:\n",
    "def nambahBuah(buah_buahan, buah):\n",
    "    buah_buahan.append(buah)"
   ]
  },
  {
   "cell_type": "code",
   "execution_count": 64,
   "metadata": {},
   "outputs": [
    {
     "name": "stdout",
     "output_type": "stream",
     "text": [
      "['apel', 'jeruk']\n"
     ]
    }
   ],
   "source": [
    "buah_andi = [\"apel\"]\n",
    "\n",
    "nambahBuah(buah_andi, \"jeruk\")\n",
    "\n",
    "print(buah_andi)\n",
    "\n",
    "# data awal kita ikutan berubah karena pass by reference, misalkan data awal kita adalah database kita, kan berbahaya"
   ]
  },
  {
   "cell_type": "code",
   "execution_count": 65,
   "metadata": {},
   "outputs": [
    {
     "name": "stdout",
     "output_type": "stream",
     "text": [
      "['apel']\n",
      "['apel', 'jeruk']\n"
     ]
    }
   ],
   "source": [
    "# bikin deep copy dulu sehingga data awal tidak \"ga sengaja\" diubah oleh function\n",
    "def nambahBuah(buah_buahan, buah):\n",
    "    copy_buah_buahan = buah_buahan.copy()\n",
    "    copy_buah_buahan.append(buah)\n",
    "    return copy_buah_buahan\n",
    "    \n",
    "    \n",
    "    \n",
    "buah_andi = [\"apel\"]\n",
    "\n",
    "buah_buahan_baru = nambahBuah(buah_andi, \"jeruk\")\n",
    "\n",
    "print(buah_andi)\n",
    "print(buah_buahan_baru)"
   ]
  },
  {
   "cell_type": "code",
   "execution_count": 67,
   "metadata": {},
   "outputs": [
    {
     "name": "stdout",
     "output_type": "stream",
     "text": [
      "halo\n",
      "halo selamat pagi\n"
     ]
    }
   ],
   "source": [
    "# pass by value, untuk tipe data simple, tidak ada masalah\n",
    "\n",
    "def msgBaru(msg, tambahan):\n",
    "    msg = msg + tambahan\n",
    "    return msg\n",
    "\n",
    "msg1 = \"halo\"\n",
    "hasil = msgBaru(msg1, \" selamat pagi\")\n",
    "\n",
    "print(msg1)\n",
    "print(hasil)"
   ]
  },
  {
   "cell_type": "markdown",
   "metadata": {},
   "source": [
    "# pakai input user"
   ]
  },
  {
   "cell_type": "code",
   "execution_count": 68,
   "metadata": {},
   "outputs": [
    {
     "name": "stdin",
     "output_type": "stream",
     "text": [
      "Ketikan karakter:  a\n"
     ]
    },
    {
     "name": "stdout",
     "output_type": "stream",
     "text": [
      "a\n"
     ]
    },
    {
     "name": "stdin",
     "output_type": "stream",
     "text": [
      "Ketikan karakter:  AASD\n"
     ]
    },
    {
     "name": "stdout",
     "output_type": "stream",
     "text": [
      "aasd\n"
     ]
    },
    {
     "name": "stdin",
     "output_type": "stream",
     "text": [
      "Ketikan karakter:  HACKTIV\n"
     ]
    },
    {
     "name": "stdout",
     "output_type": "stream",
     "text": [
      "hacktiv\n"
     ]
    },
    {
     "name": "stdin",
     "output_type": "stream",
     "text": [
      "Ketikan karakter:  STOP\n"
     ]
    },
    {
     "name": "stdout",
     "output_type": "stream",
     "text": [
      "stop\n"
     ]
    }
   ],
   "source": [
    "while True:\n",
    "    msg = input(\"Ketikan karakter: \").lower()\n",
    "    print(msg)\n",
    "    if msg == \"stop\":\n",
    "        break"
   ]
  },
  {
   "cell_type": "code",
   "execution_count": 71,
   "metadata": {},
   "outputs": [],
   "source": [
    "def bikinJusBuah():\n",
    "    while (True):\n",
    "        buah = input(\"masukin buahnya: \").lower()        \n",
    "        if (buah == \"\"):\n",
    "            break\n",
    "        print(\"jus \" + buah)"
   ]
  },
  {
   "cell_type": "code",
   "execution_count": 72,
   "metadata": {},
   "outputs": [
    {
     "name": "stdin",
     "output_type": "stream",
     "text": [
      "masukin buahnya:  apel\n"
     ]
    },
    {
     "name": "stdout",
     "output_type": "stream",
     "text": [
      "jus apel\n"
     ]
    },
    {
     "name": "stdin",
     "output_type": "stream",
     "text": [
      "masukin buahnya:  jeruk\n"
     ]
    },
    {
     "name": "stdout",
     "output_type": "stream",
     "text": [
      "jus jeruk\n"
     ]
    },
    {
     "name": "stdin",
     "output_type": "stream",
     "text": [
      "masukin buahnya:  mangga\n"
     ]
    },
    {
     "name": "stdout",
     "output_type": "stream",
     "text": [
      "jus mangga\n"
     ]
    },
    {
     "name": "stdin",
     "output_type": "stream",
     "text": [
      "masukin buahnya:  \n"
     ]
    }
   ],
   "source": [
    "bikinJusBuah()"
   ]
  },
  {
   "cell_type": "markdown",
   "metadata": {},
   "source": [
    "# Module\n",
    "\n",
    "sebuah file python `.py` yang berisi code python. bisa ada variable, function, atau class.\n",
    "\n",
    "module ini kemudian bisa kita import ke dalam file python notebook kita, atau file python lainnya, untuk digunakan code yang ada di dalamnya. termasuk variable, function, atau class yang ada di dalam module tersebut."
   ]
  },
  {
   "cell_type": "code",
   "execution_count": 74,
   "metadata": {},
   "outputs": [],
   "source": [
    "import mod"
   ]
  },
  {
   "cell_type": "code",
   "execution_count": 75,
   "metadata": {},
   "outputs": [
    {
     "data": {
      "text/plain": [
       "['Andi', 'Budi', 'Cecil']"
      ]
     },
     "execution_count": 75,
     "metadata": {},
     "output_type": "execute_result"
    }
   ],
   "source": [
    "mod.nama_murid"
   ]
  },
  {
   "cell_type": "code",
   "execution_count": 76,
   "metadata": {},
   "outputs": [
    {
     "name": "stdin",
     "output_type": "stream",
     "text": [
      "Beri nilai untuk Andi 80\n"
     ]
    },
    {
     "name": "stdout",
     "output_type": "stream",
     "text": [
      "Andi dapat nilai 80\n"
     ]
    },
    {
     "name": "stdin",
     "output_type": "stream",
     "text": [
      "Beri nilai untuk Budi 56\n"
     ]
    },
    {
     "name": "stdout",
     "output_type": "stream",
     "text": [
      "Budi dapat nilai 56\n"
     ]
    },
    {
     "name": "stdin",
     "output_type": "stream",
     "text": [
      "Beri nilai untuk Cecil 77\n"
     ]
    },
    {
     "name": "stdout",
     "output_type": "stream",
     "text": [
      "Cecil dapat nilai 77\n"
     ]
    }
   ],
   "source": [
    "mod.beriNilai()"
   ]
  },
  {
   "cell_type": "code",
   "execution_count": 77,
   "metadata": {},
   "outputs": [],
   "source": [
    "from mod import beriNilai"
   ]
  },
  {
   "cell_type": "code",
   "execution_count": 79,
   "metadata": {},
   "outputs": [
    {
     "name": "stdin",
     "output_type": "stream",
     "text": [
      "Beri nilai untuk Andi 5\n"
     ]
    },
    {
     "name": "stdout",
     "output_type": "stream",
     "text": [
      "Andi dapat nilai 5\n"
     ]
    },
    {
     "name": "stdin",
     "output_type": "stream",
     "text": [
      "Beri nilai untuk Budi 4\n"
     ]
    },
    {
     "name": "stdout",
     "output_type": "stream",
     "text": [
      "Budi dapat nilai 4\n"
     ]
    },
    {
     "name": "stdin",
     "output_type": "stream",
     "text": [
      "Beri nilai untuk Cecil 7\n"
     ]
    },
    {
     "name": "stdout",
     "output_type": "stream",
     "text": [
      "Cecil dapat nilai 7\n"
     ]
    }
   ],
   "source": [
    "beriNilai()"
   ]
  },
  {
   "cell_type": "code",
   "execution_count": 80,
   "metadata": {},
   "outputs": [],
   "source": [
    "import mod as penilaian"
   ]
  },
  {
   "cell_type": "code",
   "execution_count": 81,
   "metadata": {},
   "outputs": [
    {
     "data": {
      "text/plain": [
       "8"
      ]
     },
     "execution_count": 81,
     "metadata": {},
     "output_type": "execute_result"
    }
   ],
   "source": [
    "penilaian.batch"
   ]
  },
  {
   "cell_type": "code",
   "execution_count": 82,
   "metadata": {},
   "outputs": [],
   "source": [
    "from mod import sapa as salam"
   ]
  },
  {
   "cell_type": "code",
   "execution_count": 84,
   "metadata": {},
   "outputs": [
    {
     "name": "stdout",
     "output_type": "stream",
     "text": [
      "halo\n",
      "siang\n"
     ]
    }
   ],
   "source": [
    "salam(\"siang\")"
   ]
  },
  {
   "cell_type": "markdown",
   "metadata": {},
   "source": [
    "# dir()\n",
    "melihat nama nama yang sudah digunakan di file ini, dari semua nama variable, function, dan module"
   ]
  },
  {
   "cell_type": "code",
   "execution_count": 85,
   "metadata": {},
   "outputs": [
    {
     "data": {
      "text/plain": [
       "['In',\n",
       " 'Out',\n",
       " '_',\n",
       " '_2',\n",
       " '_42',\n",
       " '_43',\n",
       " '_44',\n",
       " '_47',\n",
       " '_53',\n",
       " '_75',\n",
       " '_81',\n",
       " '__',\n",
       " '___',\n",
       " '__builtin__',\n",
       " '__builtins__',\n",
       " '__doc__',\n",
       " '__loader__',\n",
       " '__name__',\n",
       " '__package__',\n",
       " '__spec__',\n",
       " '_dh',\n",
       " '_i',\n",
       " '_i1',\n",
       " '_i10',\n",
       " '_i11',\n",
       " '_i12',\n",
       " '_i13',\n",
       " '_i14',\n",
       " '_i15',\n",
       " '_i16',\n",
       " '_i17',\n",
       " '_i18',\n",
       " '_i19',\n",
       " '_i2',\n",
       " '_i20',\n",
       " '_i21',\n",
       " '_i22',\n",
       " '_i23',\n",
       " '_i24',\n",
       " '_i25',\n",
       " '_i26',\n",
       " '_i27',\n",
       " '_i28',\n",
       " '_i29',\n",
       " '_i3',\n",
       " '_i30',\n",
       " '_i31',\n",
       " '_i32',\n",
       " '_i33',\n",
       " '_i34',\n",
       " '_i35',\n",
       " '_i36',\n",
       " '_i37',\n",
       " '_i38',\n",
       " '_i39',\n",
       " '_i4',\n",
       " '_i40',\n",
       " '_i41',\n",
       " '_i42',\n",
       " '_i43',\n",
       " '_i44',\n",
       " '_i45',\n",
       " '_i46',\n",
       " '_i47',\n",
       " '_i48',\n",
       " '_i49',\n",
       " '_i5',\n",
       " '_i50',\n",
       " '_i51',\n",
       " '_i52',\n",
       " '_i53',\n",
       " '_i54',\n",
       " '_i55',\n",
       " '_i56',\n",
       " '_i57',\n",
       " '_i58',\n",
       " '_i59',\n",
       " '_i6',\n",
       " '_i60',\n",
       " '_i61',\n",
       " '_i62',\n",
       " '_i63',\n",
       " '_i64',\n",
       " '_i65',\n",
       " '_i66',\n",
       " '_i67',\n",
       " '_i68',\n",
       " '_i69',\n",
       " '_i7',\n",
       " '_i70',\n",
       " '_i71',\n",
       " '_i72',\n",
       " '_i73',\n",
       " '_i74',\n",
       " '_i75',\n",
       " '_i76',\n",
       " '_i77',\n",
       " '_i78',\n",
       " '_i79',\n",
       " '_i8',\n",
       " '_i80',\n",
       " '_i81',\n",
       " '_i82',\n",
       " '_i83',\n",
       " '_i84',\n",
       " '_i85',\n",
       " '_i9',\n",
       " '_ih',\n",
       " '_ii',\n",
       " '_iii',\n",
       " '_oh',\n",
       " 'andi',\n",
       " 'beriNilai',\n",
       " 'bikinJusBuah',\n",
       " 'buah_andi',\n",
       " 'buah_buahan',\n",
       " 'buah_buahan_baru',\n",
       " 'budi',\n",
       " 'exit',\n",
       " 'get_ipython',\n",
       " 'hasil',\n",
       " 'hasil1',\n",
       " 'hasil2',\n",
       " 'hasil3',\n",
       " 'menyapa',\n",
       " 'mod',\n",
       " 'msg',\n",
       " 'msg1',\n",
       " 'msgBaru',\n",
       " 'nama',\n",
       " 'nambahBuah',\n",
       " 'penilaian',\n",
       " 'perasBuah',\n",
       " 'printMe',\n",
       " 'printTambah',\n",
       " 'quit',\n",
       " 'salam',\n",
       " 'sapa',\n",
       " 'tambah']"
      ]
     },
     "execution_count": 85,
     "metadata": {},
     "output_type": "execute_result"
    }
   ],
   "source": [
    "dir()"
   ]
  },
  {
   "cell_type": "code",
   "execution_count": 86,
   "metadata": {},
   "outputs": [
    {
     "data": {
      "text/plain": [
       "True"
      ]
     },
     "execution_count": 86,
     "metadata": {},
     "output_type": "execute_result"
    }
   ],
   "source": [
    "# misal mau buat function/variable baru, kita bisa cek dulu apakah namanya sudah pernah kita pakai\n",
    "\"menyapa\" in dir()"
   ]
  },
  {
   "cell_type": "markdown",
   "metadata": {},
   "source": [
    "# sys\n",
    "sys.path menunjukkan folder folder yang digunakan oleh file kita sekarang ini untuk mencari module.\n",
    "\n",
    "kita import file module tidak bisa dari seluruh tempat di komputer kita, melainkan dia dari folder-folder tertentu saja"
   ]
  },
  {
   "cell_type": "code",
   "execution_count": 88,
   "metadata": {},
   "outputs": [
    {
     "data": {
      "text/plain": [
       "['C:\\\\Users\\\\stefa\\\\hacktiv\\\\PYTN\\\\python-prakerja-8',\n",
       " 'C:\\\\Users\\\\stefa\\\\anaconda3\\\\python38.zip',\n",
       " 'C:\\\\Users\\\\stefa\\\\anaconda3\\\\DLLs',\n",
       " 'C:\\\\Users\\\\stefa\\\\anaconda3\\\\lib',\n",
       " 'C:\\\\Users\\\\stefa\\\\anaconda3',\n",
       " '',\n",
       " 'C:\\\\Users\\\\stefa\\\\AppData\\\\Roaming\\\\Python\\\\Python38\\\\site-packages',\n",
       " 'C:\\\\Users\\\\stefa\\\\anaconda3\\\\lib\\\\site-packages',\n",
       " 'C:\\\\Users\\\\stefa\\\\anaconda3\\\\lib\\\\site-packages\\\\win32',\n",
       " 'C:\\\\Users\\\\stefa\\\\anaconda3\\\\lib\\\\site-packages\\\\win32\\\\lib',\n",
       " 'C:\\\\Users\\\\stefa\\\\anaconda3\\\\lib\\\\site-packages\\\\Pythonwin',\n",
       " 'C:\\\\Users\\\\stefa\\\\anaconda3\\\\lib\\\\site-packages\\\\IPython\\\\extensions',\n",
       " 'C:\\\\Users\\\\stefa\\\\.ipython']"
      ]
     },
     "metadata": {},
     "output_type": "display_data"
    }
   ],
   "source": [
    "import sys\n",
    "display(sys.path)"
   ]
  },
  {
   "cell_type": "code",
   "execution_count": 89,
   "metadata": {},
   "outputs": [
    {
     "data": {
      "text/plain": [
       "['C:\\\\Users\\\\stefa\\\\hacktiv\\\\PYTN\\\\python-prakerja-8',\n",
       " 'C:\\\\Users\\\\stefa\\\\anaconda3\\\\python38.zip',\n",
       " 'C:\\\\Users\\\\stefa\\\\anaconda3\\\\DLLs',\n",
       " 'C:\\\\Users\\\\stefa\\\\anaconda3\\\\lib',\n",
       " 'C:\\\\Users\\\\stefa\\\\anaconda3',\n",
       " '',\n",
       " 'C:\\\\Users\\\\stefa\\\\AppData\\\\Roaming\\\\Python\\\\Python38\\\\site-packages',\n",
       " 'C:\\\\Users\\\\stefa\\\\anaconda3\\\\lib\\\\site-packages',\n",
       " 'C:\\\\Users\\\\stefa\\\\anaconda3\\\\lib\\\\site-packages\\\\win32',\n",
       " 'C:\\\\Users\\\\stefa\\\\anaconda3\\\\lib\\\\site-packages\\\\win32\\\\lib',\n",
       " 'C:\\\\Users\\\\stefa\\\\anaconda3\\\\lib\\\\site-packages\\\\Pythonwin',\n",
       " 'C:\\\\Users\\\\stefa\\\\anaconda3\\\\lib\\\\site-packages\\\\IPython\\\\extensions',\n",
       " 'C:\\\\Users\\\\stefa\\\\.ipython',\n",
       " 'C:\\\\Users\\\\stefa\\\\hacktiv\\\\PYTN']"
      ]
     },
     "execution_count": 89,
     "metadata": {},
     "output_type": "execute_result"
    }
   ],
   "source": [
    "# misalnya tambahkan bisa cari module dari folder PYTN juga\n",
    "sys.path.append('C:\\\\Users\\\\stefa\\\\hacktiv\\\\PYTN')\n",
    "sys.path"
   ]
  },
  {
   "cell_type": "markdown",
   "metadata": {},
   "source": [
    "# Package\n",
    "beberapa module di sebuah folder\n",
    "\n",
    "kita bisa import module di dalam folder package tersebut satu per satu"
   ]
  },
  {
   "cell_type": "code",
   "execution_count": 90,
   "metadata": {},
   "outputs": [],
   "source": [
    "import pkg.satu"
   ]
  },
  {
   "cell_type": "code",
   "execution_count": 91,
   "metadata": {},
   "outputs": [
    {
     "data": {
      "text/plain": [
       "'ini module satu'"
      ]
     },
     "execution_count": 91,
     "metadata": {},
     "output_type": "execute_result"
    }
   ],
   "source": [
    "pkg.satu.msg"
   ]
  },
  {
   "cell_type": "code",
   "execution_count": 92,
   "metadata": {},
   "outputs": [],
   "source": [
    "import pkg.satu as ps"
   ]
  },
  {
   "cell_type": "code",
   "execution_count": 93,
   "metadata": {},
   "outputs": [
    {
     "data": {
      "text/plain": [
       "'ini module satu'"
      ]
     },
     "execution_count": 93,
     "metadata": {},
     "output_type": "execute_result"
    }
   ],
   "source": [
    "ps.msg"
   ]
  },
  {
   "cell_type": "code",
   "execution_count": 94,
   "metadata": {},
   "outputs": [],
   "source": [
    "from pkg import dua"
   ]
  },
  {
   "cell_type": "code",
   "execution_count": 95,
   "metadata": {},
   "outputs": [
    {
     "data": {
      "text/plain": [
       "'ini module dua'"
      ]
     },
     "execution_count": 95,
     "metadata": {},
     "output_type": "execute_result"
    }
   ],
   "source": [
    "dua.msg"
   ]
  },
  {
   "cell_type": "code",
   "execution_count": 96,
   "metadata": {},
   "outputs": [],
   "source": [
    "from pkg import dua as d"
   ]
  },
  {
   "cell_type": "code",
   "execution_count": 97,
   "metadata": {},
   "outputs": [
    {
     "name": "stdout",
     "output_type": "stream",
     "text": [
      "ini module dua\n"
     ]
    }
   ],
   "source": [
    "d.printMe()"
   ]
  },
  {
   "cell_type": "markdown",
   "metadata": {},
   "source": [
    "List package-package python bisa dilihat di web https://www.pypi.org"
   ]
  },
  {
   "cell_type": "markdown",
   "metadata": {},
   "source": [
    "Untuk package yang belum ada, belum di install anaconda atau bukan dibuat sendiri, tapi sebenarnya ada package tersebut di pypi.org. kita instalasi dulu.\n",
    "\n",
    "`pip install nama_package`\n",
    "\n",
    "contoh, mau pakai package `requests`"
   ]
  },
  {
   "cell_type": "code",
   "execution_count": 99,
   "metadata": {},
   "outputs": [
    {
     "name": "stdout",
     "output_type": "stream",
     "text": [
      "Requirement already satisfied: requests in c:\\users\\stefa\\anaconda3\\lib\\site-packages (2.24.0)\n",
      "Requirement already satisfied: idna<3,>=2.5 in c:\\users\\stefa\\anaconda3\\lib\\site-packages (from requests) (2.10)\n",
      "Requirement already satisfied: urllib3!=1.25.0,!=1.25.1,<1.26,>=1.21.1 in c:\\users\\stefa\\anaconda3\\lib\\site-packages (from requests) (1.25.11)\n",
      "Requirement already satisfied: chardet<4,>=3.0.2 in c:\\users\\stefa\\anaconda3\\lib\\site-packages (from requests) (3.0.4)\n",
      "Requirement already satisfied: certifi>=2017.4.17 in c:\\users\\stefa\\anaconda3\\lib\\site-packages (from requests) (2020.6.20)\n",
      "Note: you may need to restart the kernel to use updated packages.\n"
     ]
    }
   ],
   "source": [
    "pip install requests"
   ]
  },
  {
   "cell_type": "code",
   "execution_count": 100,
   "metadata": {},
   "outputs": [],
   "source": [
    "import requests"
   ]
  },
  {
   "cell_type": "code",
   "execution_count": 101,
   "metadata": {},
   "outputs": [
    {
     "name": "stdout",
     "output_type": "stream",
     "text": [
      "<Response [200]>\n"
     ]
    }
   ],
   "source": [
    "r = requests.get('https://google.com')\n",
    "print(r)"
   ]
  },
  {
   "cell_type": "code",
   "execution_count": 4,
   "metadata": {},
   "outputs": [],
   "source": [
    " makan_siang = {\"nama\": \"nasi goreng\",\n",
    "               \"bahan\":[\"Nasi\",\"telur\", \"minyak\",\"garam\"]}\n"
   ]
  },
  {
   "cell_type": "code",
   "execution_count": 5,
   "metadata": {},
   "outputs": [
    {
     "name": "stdout",
     "output_type": "stream",
     "text": [
      "{'nama': 'nasi goreng', 'bahan': ['Nasi', 'telur', 'minyak', 'garam']}\n"
     ]
    }
   ],
   "source": [
    "print(makan_siang)"
   ]
  },
  {
   "cell_type": "code",
   "execution_count": 6,
   "metadata": {},
   "outputs": [
    {
     "ename": "AttributeError",
     "evalue": "'str' object has no attribute 'append'",
     "output_type": "error",
     "traceback": [
      "\u001b[1;31m---------------------------------------------------------------------------\u001b[0m",
      "\u001b[1;31mAttributeError\u001b[0m                            Traceback (most recent call last)",
      "\u001b[1;32m<ipython-input-6-a2df6b3e810c>\u001b[0m in \u001b[0;36m<module>\u001b[1;34m\u001b[0m\n\u001b[1;32m----> 1\u001b[1;33m \u001b[0mmakan_siang\u001b[0m \u001b[1;33m[\u001b[0m\u001b[1;34m\"nama\"\u001b[0m\u001b[1;33m]\u001b[0m\u001b[1;33m.\u001b[0m\u001b[0mappend\u001b[0m\u001b[1;33m(\u001b[0m\u001b[1;34m\"telur\"\u001b[0m\u001b[1;33m)\u001b[0m\u001b[1;33m\u001b[0m\u001b[1;33m\u001b[0m\u001b[0m\n\u001b[0m",
      "\u001b[1;31mAttributeError\u001b[0m: 'str' object has no attribute 'append'"
     ]
    }
   ],
   "source": [
    "makan_siang [\"nama\"].append(\"telur\")"
   ]
  },
  {
   "cell_type": "code",
   "execution_count": null,
   "metadata": {},
   "outputs": [],
   "source": []
  }
 ],
 "metadata": {
  "kernelspec": {
   "display_name": "Python 3",
   "language": "python",
   "name": "python3"
  },
  "language_info": {
   "codemirror_mode": {
    "name": "ipython",
    "version": 3
   },
   "file_extension": ".py",
   "mimetype": "text/x-python",
   "name": "python",
   "nbconvert_exporter": "python",
   "pygments_lexer": "ipython3",
   "version": "3.8.8"
  }
 },
 "nbformat": 4,
 "nbformat_minor": 4
}
