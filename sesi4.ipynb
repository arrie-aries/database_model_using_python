{
 "cells": [
  {
   "cell_type": "markdown",
   "metadata": {},
   "source": [
    "# Pandas\n",
    "package untuk impor dan manipulasi data di Python"
   ]
  },
  {
   "cell_type": "code",
   "execution_count": 127,
   "metadata": {},
   "outputs": [],
   "source": [
    "import pandas as pd\n",
    "import numpy as np\n",
    "\n",
    "# untuk dipakai bikin plot\n",
    "%matplotlib inline \n",
    "\n",
    "# untuk setting graph nya sendiri\n",
    "import matplotlib as mpl \n",
    "\n",
    "# untuk anotasi plot\n",
    "import matplotlib.pyplot as plt "
   ]
  },
  {
   "cell_type": "code",
   "execution_count": 5,
   "metadata": {},
   "outputs": [],
   "source": [
    "# menggunakan pandas untuk impor file csv secara online\n",
    "# nba = pd.read_csv('https://raw.githubusercontent.com/ardhiraka/PFDS_sources/master/nbaallelo.csv')\n",
    "# nba"
   ]
  },
  {
   "cell_type": "code",
   "execution_count": 6,
   "metadata": {},
   "outputs": [
    {
     "data": {
      "text/html": [
       "<div>\n",
       "<style scoped>\n",
       "    .dataframe tbody tr th:only-of-type {\n",
       "        vertical-align: middle;\n",
       "    }\n",
       "\n",
       "    .dataframe tbody tr th {\n",
       "        vertical-align: top;\n",
       "    }\n",
       "\n",
       "    .dataframe thead th {\n",
       "        text-align: right;\n",
       "    }\n",
       "</style>\n",
       "<table border=\"1\" class=\"dataframe\">\n",
       "  <thead>\n",
       "    <tr style=\"text-align: right;\">\n",
       "      <th></th>\n",
       "      <th>gameorder</th>\n",
       "      <th>game_id</th>\n",
       "      <th>lg_id</th>\n",
       "      <th>_iscopy</th>\n",
       "      <th>year_id</th>\n",
       "      <th>date_game</th>\n",
       "      <th>seasongame</th>\n",
       "      <th>is_playoffs</th>\n",
       "      <th>team_id</th>\n",
       "      <th>fran_id</th>\n",
       "      <th>...</th>\n",
       "      <th>win_equiv</th>\n",
       "      <th>opp_id</th>\n",
       "      <th>opp_fran</th>\n",
       "      <th>opp_pts</th>\n",
       "      <th>opp_elo_i</th>\n",
       "      <th>opp_elo_n</th>\n",
       "      <th>game_location</th>\n",
       "      <th>game_result</th>\n",
       "      <th>forecast</th>\n",
       "      <th>notes</th>\n",
       "    </tr>\n",
       "  </thead>\n",
       "  <tbody>\n",
       "    <tr>\n",
       "      <th>0</th>\n",
       "      <td>1</td>\n",
       "      <td>194611010TRH</td>\n",
       "      <td>NBA</td>\n",
       "      <td>0</td>\n",
       "      <td>1947</td>\n",
       "      <td>11/1/1946</td>\n",
       "      <td>1</td>\n",
       "      <td>0</td>\n",
       "      <td>TRH</td>\n",
       "      <td>Huskies</td>\n",
       "      <td>...</td>\n",
       "      <td>40.294830</td>\n",
       "      <td>NYK</td>\n",
       "      <td>Knicks</td>\n",
       "      <td>68</td>\n",
       "      <td>1300.0000</td>\n",
       "      <td>1306.7233</td>\n",
       "      <td>H</td>\n",
       "      <td>L</td>\n",
       "      <td>0.640065</td>\n",
       "      <td>NaN</td>\n",
       "    </tr>\n",
       "    <tr>\n",
       "      <th>1</th>\n",
       "      <td>1</td>\n",
       "      <td>194611010TRH</td>\n",
       "      <td>NBA</td>\n",
       "      <td>1</td>\n",
       "      <td>1947</td>\n",
       "      <td>11/1/1946</td>\n",
       "      <td>1</td>\n",
       "      <td>0</td>\n",
       "      <td>NYK</td>\n",
       "      <td>Knicks</td>\n",
       "      <td>...</td>\n",
       "      <td>41.705170</td>\n",
       "      <td>TRH</td>\n",
       "      <td>Huskies</td>\n",
       "      <td>66</td>\n",
       "      <td>1300.0000</td>\n",
       "      <td>1293.2767</td>\n",
       "      <td>A</td>\n",
       "      <td>W</td>\n",
       "      <td>0.359935</td>\n",
       "      <td>NaN</td>\n",
       "    </tr>\n",
       "    <tr>\n",
       "      <th>2</th>\n",
       "      <td>2</td>\n",
       "      <td>194611020CHS</td>\n",
       "      <td>NBA</td>\n",
       "      <td>0</td>\n",
       "      <td>1947</td>\n",
       "      <td>11/2/1946</td>\n",
       "      <td>1</td>\n",
       "      <td>0</td>\n",
       "      <td>CHS</td>\n",
       "      <td>Stags</td>\n",
       "      <td>...</td>\n",
       "      <td>42.012257</td>\n",
       "      <td>NYK</td>\n",
       "      <td>Knicks</td>\n",
       "      <td>47</td>\n",
       "      <td>1306.7233</td>\n",
       "      <td>1297.0712</td>\n",
       "      <td>H</td>\n",
       "      <td>W</td>\n",
       "      <td>0.631101</td>\n",
       "      <td>NaN</td>\n",
       "    </tr>\n",
       "    <tr>\n",
       "      <th>3</th>\n",
       "      <td>2</td>\n",
       "      <td>194611020CHS</td>\n",
       "      <td>NBA</td>\n",
       "      <td>1</td>\n",
       "      <td>1947</td>\n",
       "      <td>11/2/1946</td>\n",
       "      <td>2</td>\n",
       "      <td>0</td>\n",
       "      <td>NYK</td>\n",
       "      <td>Knicks</td>\n",
       "      <td>...</td>\n",
       "      <td>40.692783</td>\n",
       "      <td>CHS</td>\n",
       "      <td>Stags</td>\n",
       "      <td>63</td>\n",
       "      <td>1300.0000</td>\n",
       "      <td>1309.6521</td>\n",
       "      <td>A</td>\n",
       "      <td>L</td>\n",
       "      <td>0.368899</td>\n",
       "      <td>NaN</td>\n",
       "    </tr>\n",
       "    <tr>\n",
       "      <th>4</th>\n",
       "      <td>3</td>\n",
       "      <td>194611020DTF</td>\n",
       "      <td>NBA</td>\n",
       "      <td>0</td>\n",
       "      <td>1947</td>\n",
       "      <td>11/2/1946</td>\n",
       "      <td>1</td>\n",
       "      <td>0</td>\n",
       "      <td>DTF</td>\n",
       "      <td>Falcons</td>\n",
       "      <td>...</td>\n",
       "      <td>38.864048</td>\n",
       "      <td>WSC</td>\n",
       "      <td>Capitols</td>\n",
       "      <td>50</td>\n",
       "      <td>1300.0000</td>\n",
       "      <td>1320.3811</td>\n",
       "      <td>H</td>\n",
       "      <td>L</td>\n",
       "      <td>0.640065</td>\n",
       "      <td>NaN</td>\n",
       "    </tr>\n",
       "    <tr>\n",
       "      <th>...</th>\n",
       "      <td>...</td>\n",
       "      <td>...</td>\n",
       "      <td>...</td>\n",
       "      <td>...</td>\n",
       "      <td>...</td>\n",
       "      <td>...</td>\n",
       "      <td>...</td>\n",
       "      <td>...</td>\n",
       "      <td>...</td>\n",
       "      <td>...</td>\n",
       "      <td>...</td>\n",
       "      <td>...</td>\n",
       "      <td>...</td>\n",
       "      <td>...</td>\n",
       "      <td>...</td>\n",
       "      <td>...</td>\n",
       "      <td>...</td>\n",
       "      <td>...</td>\n",
       "      <td>...</td>\n",
       "      <td>...</td>\n",
       "      <td>...</td>\n",
       "    </tr>\n",
       "    <tr>\n",
       "      <th>126309</th>\n",
       "      <td>63155</td>\n",
       "      <td>201506110CLE</td>\n",
       "      <td>NBA</td>\n",
       "      <td>0</td>\n",
       "      <td>2015</td>\n",
       "      <td>6/11/2015</td>\n",
       "      <td>100</td>\n",
       "      <td>1</td>\n",
       "      <td>CLE</td>\n",
       "      <td>Cavaliers</td>\n",
       "      <td>...</td>\n",
       "      <td>60.309792</td>\n",
       "      <td>GSW</td>\n",
       "      <td>Warriors</td>\n",
       "      <td>103</td>\n",
       "      <td>1790.9591</td>\n",
       "      <td>1809.9791</td>\n",
       "      <td>H</td>\n",
       "      <td>L</td>\n",
       "      <td>0.546572</td>\n",
       "      <td>NaN</td>\n",
       "    </tr>\n",
       "    <tr>\n",
       "      <th>126310</th>\n",
       "      <td>63156</td>\n",
       "      <td>201506140GSW</td>\n",
       "      <td>NBA</td>\n",
       "      <td>0</td>\n",
       "      <td>2015</td>\n",
       "      <td>6/14/2015</td>\n",
       "      <td>102</td>\n",
       "      <td>1</td>\n",
       "      <td>GSW</td>\n",
       "      <td>Warriors</td>\n",
       "      <td>...</td>\n",
       "      <td>68.013329</td>\n",
       "      <td>CLE</td>\n",
       "      <td>Cavaliers</td>\n",
       "      <td>91</td>\n",
       "      <td>1704.3949</td>\n",
       "      <td>1700.7391</td>\n",
       "      <td>H</td>\n",
       "      <td>W</td>\n",
       "      <td>0.765565</td>\n",
       "      <td>NaN</td>\n",
       "    </tr>\n",
       "    <tr>\n",
       "      <th>126311</th>\n",
       "      <td>63156</td>\n",
       "      <td>201506140GSW</td>\n",
       "      <td>NBA</td>\n",
       "      <td>1</td>\n",
       "      <td>2015</td>\n",
       "      <td>6/14/2015</td>\n",
       "      <td>101</td>\n",
       "      <td>1</td>\n",
       "      <td>CLE</td>\n",
       "      <td>Cavaliers</td>\n",
       "      <td>...</td>\n",
       "      <td>60.010067</td>\n",
       "      <td>GSW</td>\n",
       "      <td>Warriors</td>\n",
       "      <td>104</td>\n",
       "      <td>1809.9791</td>\n",
       "      <td>1813.6349</td>\n",
       "      <td>A</td>\n",
       "      <td>L</td>\n",
       "      <td>0.234435</td>\n",
       "      <td>NaN</td>\n",
       "    </tr>\n",
       "    <tr>\n",
       "      <th>126312</th>\n",
       "      <td>63157</td>\n",
       "      <td>201506170CLE</td>\n",
       "      <td>NBA</td>\n",
       "      <td>0</td>\n",
       "      <td>2015</td>\n",
       "      <td>6/16/2015</td>\n",
       "      <td>102</td>\n",
       "      <td>1</td>\n",
       "      <td>CLE</td>\n",
       "      <td>Cavaliers</td>\n",
       "      <td>...</td>\n",
       "      <td>59.290245</td>\n",
       "      <td>GSW</td>\n",
       "      <td>Warriors</td>\n",
       "      <td>105</td>\n",
       "      <td>1813.6349</td>\n",
       "      <td>1822.2881</td>\n",
       "      <td>H</td>\n",
       "      <td>L</td>\n",
       "      <td>0.481450</td>\n",
       "      <td>NaN</td>\n",
       "    </tr>\n",
       "    <tr>\n",
       "      <th>126313</th>\n",
       "      <td>63157</td>\n",
       "      <td>201506170CLE</td>\n",
       "      <td>NBA</td>\n",
       "      <td>1</td>\n",
       "      <td>2015</td>\n",
       "      <td>6/16/2015</td>\n",
       "      <td>103</td>\n",
       "      <td>1</td>\n",
       "      <td>GSW</td>\n",
       "      <td>Warriors</td>\n",
       "      <td>...</td>\n",
       "      <td>68.519516</td>\n",
       "      <td>CLE</td>\n",
       "      <td>Cavaliers</td>\n",
       "      <td>97</td>\n",
       "      <td>1700.7391</td>\n",
       "      <td>1692.0859</td>\n",
       "      <td>A</td>\n",
       "      <td>W</td>\n",
       "      <td>0.518550</td>\n",
       "      <td>NaN</td>\n",
       "    </tr>\n",
       "  </tbody>\n",
       "</table>\n",
       "<p>126314 rows × 23 columns</p>\n",
       "</div>"
      ],
      "text/plain": [
       "        gameorder       game_id lg_id  _iscopy  year_id  date_game  \\\n",
       "0               1  194611010TRH   NBA        0     1947  11/1/1946   \n",
       "1               1  194611010TRH   NBA        1     1947  11/1/1946   \n",
       "2               2  194611020CHS   NBA        0     1947  11/2/1946   \n",
       "3               2  194611020CHS   NBA        1     1947  11/2/1946   \n",
       "4               3  194611020DTF   NBA        0     1947  11/2/1946   \n",
       "...           ...           ...   ...      ...      ...        ...   \n",
       "126309      63155  201506110CLE   NBA        0     2015  6/11/2015   \n",
       "126310      63156  201506140GSW   NBA        0     2015  6/14/2015   \n",
       "126311      63156  201506140GSW   NBA        1     2015  6/14/2015   \n",
       "126312      63157  201506170CLE   NBA        0     2015  6/16/2015   \n",
       "126313      63157  201506170CLE   NBA        1     2015  6/16/2015   \n",
       "\n",
       "        seasongame  is_playoffs team_id    fran_id  ...  win_equiv  opp_id  \\\n",
       "0                1            0     TRH    Huskies  ...  40.294830     NYK   \n",
       "1                1            0     NYK     Knicks  ...  41.705170     TRH   \n",
       "2                1            0     CHS      Stags  ...  42.012257     NYK   \n",
       "3                2            0     NYK     Knicks  ...  40.692783     CHS   \n",
       "4                1            0     DTF    Falcons  ...  38.864048     WSC   \n",
       "...            ...          ...     ...        ...  ...        ...     ...   \n",
       "126309         100            1     CLE  Cavaliers  ...  60.309792     GSW   \n",
       "126310         102            1     GSW   Warriors  ...  68.013329     CLE   \n",
       "126311         101            1     CLE  Cavaliers  ...  60.010067     GSW   \n",
       "126312         102            1     CLE  Cavaliers  ...  59.290245     GSW   \n",
       "126313         103            1     GSW   Warriors  ...  68.519516     CLE   \n",
       "\n",
       "         opp_fran  opp_pts  opp_elo_i  opp_elo_n  game_location  game_result  \\\n",
       "0          Knicks       68  1300.0000  1306.7233              H            L   \n",
       "1         Huskies       66  1300.0000  1293.2767              A            W   \n",
       "2          Knicks       47  1306.7233  1297.0712              H            W   \n",
       "3           Stags       63  1300.0000  1309.6521              A            L   \n",
       "4        Capitols       50  1300.0000  1320.3811              H            L   \n",
       "...           ...      ...        ...        ...            ...          ...   \n",
       "126309   Warriors      103  1790.9591  1809.9791              H            L   \n",
       "126310  Cavaliers       91  1704.3949  1700.7391              H            W   \n",
       "126311   Warriors      104  1809.9791  1813.6349              A            L   \n",
       "126312   Warriors      105  1813.6349  1822.2881              H            L   \n",
       "126313  Cavaliers       97  1700.7391  1692.0859              A            W   \n",
       "\n",
       "        forecast notes  \n",
       "0       0.640065   NaN  \n",
       "1       0.359935   NaN  \n",
       "2       0.631101   NaN  \n",
       "3       0.368899   NaN  \n",
       "4       0.640065   NaN  \n",
       "...          ...   ...  \n",
       "126309  0.546572   NaN  \n",
       "126310  0.765565   NaN  \n",
       "126311  0.234435   NaN  \n",
       "126312  0.481450   NaN  \n",
       "126313  0.518550   NaN  \n",
       "\n",
       "[126314 rows x 23 columns]"
      ]
     },
     "execution_count": 6,
     "metadata": {},
     "output_type": "execute_result"
    }
   ],
   "source": [
    "# menggunakan pandas untuk import file lokal\n",
    "nba = pd.read_csv('dataset/nbaallelo.csv')\n",
    "nba"
   ]
  },
  {
   "cell_type": "markdown",
   "metadata": {},
   "source": [
    "# Eksplorasi Data\n",
    "menggunakan pandas untuk membaca data yang sudah di import, seperti apa"
   ]
  },
  {
   "cell_type": "code",
   "execution_count": 7,
   "metadata": {},
   "outputs": [
    {
     "name": "stdout",
     "output_type": "stream",
     "text": [
      "(126314, 23)\n"
     ]
    }
   ],
   "source": [
    "print(nba.shape) # lihat bentuknya"
   ]
  },
  {
   "cell_type": "code",
   "execution_count": 8,
   "metadata": {},
   "outputs": [
    {
     "name": "stdout",
     "output_type": "stream",
     "text": [
      "Index(['gameorder', 'game_id', 'lg_id', '_iscopy', 'year_id', 'date_game',\n",
      "       'seasongame', 'is_playoffs', 'team_id', 'fran_id', 'pts', 'elo_i',\n",
      "       'elo_n', 'win_equiv', 'opp_id', 'opp_fran', 'opp_pts', 'opp_elo_i',\n",
      "       'opp_elo_n', 'game_location', 'game_result', 'forecast', 'notes'],\n",
      "      dtype='object')\n"
     ]
    }
   ],
   "source": [
    "# lihat judul kolom apa saja\n",
    "print(nba.columns)"
   ]
  },
  {
   "cell_type": "code",
   "execution_count": 9,
   "metadata": {},
   "outputs": [
    {
     "name": "stdout",
     "output_type": "stream",
     "text": [
      "<class 'pandas.core.frame.DataFrame'>\n",
      "RangeIndex: 126314 entries, 0 to 126313\n",
      "Data columns (total 23 columns):\n",
      " #   Column         Non-Null Count   Dtype  \n",
      "---  ------         --------------   -----  \n",
      " 0   gameorder      126314 non-null  int64  \n",
      " 1   game_id        126314 non-null  object \n",
      " 2   lg_id          126314 non-null  object \n",
      " 3   _iscopy        126314 non-null  int64  \n",
      " 4   year_id        126314 non-null  int64  \n",
      " 5   date_game      126314 non-null  object \n",
      " 6   seasongame     126314 non-null  int64  \n",
      " 7   is_playoffs    126314 non-null  int64  \n",
      " 8   team_id        126314 non-null  object \n",
      " 9   fran_id        126314 non-null  object \n",
      " 10  pts            126314 non-null  int64  \n",
      " 11  elo_i          126314 non-null  float64\n",
      " 12  elo_n          126314 non-null  float64\n",
      " 13  win_equiv      126314 non-null  float64\n",
      " 14  opp_id         126314 non-null  object \n",
      " 15  opp_fran       126314 non-null  object \n",
      " 16  opp_pts        126314 non-null  int64  \n",
      " 17  opp_elo_i      126314 non-null  float64\n",
      " 18  opp_elo_n      126314 non-null  float64\n",
      " 19  game_location  126314 non-null  object \n",
      " 20  game_result    126314 non-null  object \n",
      " 21  forecast       126314 non-null  float64\n",
      " 22  notes          5424 non-null    object \n",
      "dtypes: float64(6), int64(7), object(10)\n",
      "memory usage: 22.2+ MB\n"
     ]
    }
   ],
   "source": [
    "# lihat detail datanya dengan .info()\n",
    "nba.info()"
   ]
  },
  {
   "cell_type": "code",
   "execution_count": 10,
   "metadata": {},
   "outputs": [
    {
     "data": {
      "text/html": [
       "<div>\n",
       "<style scoped>\n",
       "    .dataframe tbody tr th:only-of-type {\n",
       "        vertical-align: middle;\n",
       "    }\n",
       "\n",
       "    .dataframe tbody tr th {\n",
       "        vertical-align: top;\n",
       "    }\n",
       "\n",
       "    .dataframe thead th {\n",
       "        text-align: right;\n",
       "    }\n",
       "</style>\n",
       "<table border=\"1\" class=\"dataframe\">\n",
       "  <thead>\n",
       "    <tr style=\"text-align: right;\">\n",
       "      <th></th>\n",
       "      <th>gameorder</th>\n",
       "      <th>_iscopy</th>\n",
       "      <th>year_id</th>\n",
       "      <th>seasongame</th>\n",
       "      <th>is_playoffs</th>\n",
       "      <th>pts</th>\n",
       "      <th>elo_i</th>\n",
       "      <th>elo_n</th>\n",
       "      <th>win_equiv</th>\n",
       "      <th>opp_pts</th>\n",
       "      <th>opp_elo_i</th>\n",
       "      <th>opp_elo_n</th>\n",
       "      <th>forecast</th>\n",
       "    </tr>\n",
       "  </thead>\n",
       "  <tbody>\n",
       "    <tr>\n",
       "      <th>count</th>\n",
       "      <td>126314.000000</td>\n",
       "      <td>126314.000000</td>\n",
       "      <td>126314.000000</td>\n",
       "      <td>126314.000000</td>\n",
       "      <td>126314.000000</td>\n",
       "      <td>126314.000000</td>\n",
       "      <td>126314.000000</td>\n",
       "      <td>126314.000000</td>\n",
       "      <td>126314.000000</td>\n",
       "      <td>126314.000000</td>\n",
       "      <td>126314.000000</td>\n",
       "      <td>126314.000000</td>\n",
       "      <td>126314.000000</td>\n",
       "    </tr>\n",
       "    <tr>\n",
       "      <th>mean</th>\n",
       "      <td>31579.000000</td>\n",
       "      <td>0.500000</td>\n",
       "      <td>1988.200374</td>\n",
       "      <td>43.533733</td>\n",
       "      <td>0.063857</td>\n",
       "      <td>102.729982</td>\n",
       "      <td>1495.236055</td>\n",
       "      <td>1495.236055</td>\n",
       "      <td>41.707889</td>\n",
       "      <td>102.729982</td>\n",
       "      <td>1495.236055</td>\n",
       "      <td>1495.236055</td>\n",
       "      <td>0.500000</td>\n",
       "    </tr>\n",
       "    <tr>\n",
       "      <th>std</th>\n",
       "      <td>18231.927643</td>\n",
       "      <td>0.500002</td>\n",
       "      <td>17.582309</td>\n",
       "      <td>25.375178</td>\n",
       "      <td>0.244499</td>\n",
       "      <td>14.814845</td>\n",
       "      <td>112.139945</td>\n",
       "      <td>112.461687</td>\n",
       "      <td>10.627332</td>\n",
       "      <td>14.814845</td>\n",
       "      <td>112.139945</td>\n",
       "      <td>112.461687</td>\n",
       "      <td>0.215252</td>\n",
       "    </tr>\n",
       "    <tr>\n",
       "      <th>min</th>\n",
       "      <td>1.000000</td>\n",
       "      <td>0.000000</td>\n",
       "      <td>1947.000000</td>\n",
       "      <td>1.000000</td>\n",
       "      <td>0.000000</td>\n",
       "      <td>0.000000</td>\n",
       "      <td>1091.644500</td>\n",
       "      <td>1085.774400</td>\n",
       "      <td>10.152501</td>\n",
       "      <td>0.000000</td>\n",
       "      <td>1091.644500</td>\n",
       "      <td>1085.774400</td>\n",
       "      <td>0.020447</td>\n",
       "    </tr>\n",
       "    <tr>\n",
       "      <th>25%</th>\n",
       "      <td>15790.000000</td>\n",
       "      <td>0.000000</td>\n",
       "      <td>1975.000000</td>\n",
       "      <td>22.000000</td>\n",
       "      <td>0.000000</td>\n",
       "      <td>93.000000</td>\n",
       "      <td>1417.237975</td>\n",
       "      <td>1416.994900</td>\n",
       "      <td>34.103035</td>\n",
       "      <td>93.000000</td>\n",
       "      <td>1417.237975</td>\n",
       "      <td>1416.994900</td>\n",
       "      <td>0.327989</td>\n",
       "    </tr>\n",
       "    <tr>\n",
       "      <th>50%</th>\n",
       "      <td>31579.000000</td>\n",
       "      <td>0.500000</td>\n",
       "      <td>1990.000000</td>\n",
       "      <td>43.000000</td>\n",
       "      <td>0.000000</td>\n",
       "      <td>103.000000</td>\n",
       "      <td>1500.945550</td>\n",
       "      <td>1500.954400</td>\n",
       "      <td>42.113357</td>\n",
       "      <td>103.000000</td>\n",
       "      <td>1500.945550</td>\n",
       "      <td>1500.954400</td>\n",
       "      <td>0.500000</td>\n",
       "    </tr>\n",
       "    <tr>\n",
       "      <th>75%</th>\n",
       "      <td>47368.000000</td>\n",
       "      <td>1.000000</td>\n",
       "      <td>2003.000000</td>\n",
       "      <td>65.000000</td>\n",
       "      <td>0.000000</td>\n",
       "      <td>112.000000</td>\n",
       "      <td>1576.060000</td>\n",
       "      <td>1576.291625</td>\n",
       "      <td>49.635328</td>\n",
       "      <td>112.000000</td>\n",
       "      <td>1576.060000</td>\n",
       "      <td>1576.291625</td>\n",
       "      <td>0.672011</td>\n",
       "    </tr>\n",
       "    <tr>\n",
       "      <th>max</th>\n",
       "      <td>63157.000000</td>\n",
       "      <td>1.000000</td>\n",
       "      <td>2015.000000</td>\n",
       "      <td>108.000000</td>\n",
       "      <td>1.000000</td>\n",
       "      <td>186.000000</td>\n",
       "      <td>1853.104500</td>\n",
       "      <td>1853.104500</td>\n",
       "      <td>71.112038</td>\n",
       "      <td>186.000000</td>\n",
       "      <td>1853.104500</td>\n",
       "      <td>1853.104500</td>\n",
       "      <td>0.979553</td>\n",
       "    </tr>\n",
       "  </tbody>\n",
       "</table>\n",
       "</div>"
      ],
      "text/plain": [
       "           gameorder        _iscopy        year_id     seasongame  \\\n",
       "count  126314.000000  126314.000000  126314.000000  126314.000000   \n",
       "mean    31579.000000       0.500000    1988.200374      43.533733   \n",
       "std     18231.927643       0.500002      17.582309      25.375178   \n",
       "min         1.000000       0.000000    1947.000000       1.000000   \n",
       "25%     15790.000000       0.000000    1975.000000      22.000000   \n",
       "50%     31579.000000       0.500000    1990.000000      43.000000   \n",
       "75%     47368.000000       1.000000    2003.000000      65.000000   \n",
       "max     63157.000000       1.000000    2015.000000     108.000000   \n",
       "\n",
       "         is_playoffs            pts          elo_i          elo_n  \\\n",
       "count  126314.000000  126314.000000  126314.000000  126314.000000   \n",
       "mean        0.063857     102.729982    1495.236055    1495.236055   \n",
       "std         0.244499      14.814845     112.139945     112.461687   \n",
       "min         0.000000       0.000000    1091.644500    1085.774400   \n",
       "25%         0.000000      93.000000    1417.237975    1416.994900   \n",
       "50%         0.000000     103.000000    1500.945550    1500.954400   \n",
       "75%         0.000000     112.000000    1576.060000    1576.291625   \n",
       "max         1.000000     186.000000    1853.104500    1853.104500   \n",
       "\n",
       "           win_equiv        opp_pts      opp_elo_i      opp_elo_n  \\\n",
       "count  126314.000000  126314.000000  126314.000000  126314.000000   \n",
       "mean       41.707889     102.729982    1495.236055    1495.236055   \n",
       "std        10.627332      14.814845     112.139945     112.461687   \n",
       "min        10.152501       0.000000    1091.644500    1085.774400   \n",
       "25%        34.103035      93.000000    1417.237975    1416.994900   \n",
       "50%        42.113357     103.000000    1500.945550    1500.954400   \n",
       "75%        49.635328     112.000000    1576.060000    1576.291625   \n",
       "max        71.112038     186.000000    1853.104500    1853.104500   \n",
       "\n",
       "            forecast  \n",
       "count  126314.000000  \n",
       "mean        0.500000  \n",
       "std         0.215252  \n",
       "min         0.020447  \n",
       "25%         0.327989  \n",
       "50%         0.500000  \n",
       "75%         0.672011  \n",
       "max         0.979553  "
      ]
     },
     "execution_count": 10,
     "metadata": {},
     "output_type": "execute_result"
    }
   ],
   "source": [
    "# lihat detail data secara statistik\n",
    "nba.describe()"
   ]
  },
  {
   "cell_type": "code",
   "execution_count": 11,
   "metadata": {},
   "outputs": [
    {
     "data": {
      "text/html": [
       "<div>\n",
       "<style scoped>\n",
       "    .dataframe tbody tr th:only-of-type {\n",
       "        vertical-align: middle;\n",
       "    }\n",
       "\n",
       "    .dataframe tbody tr th {\n",
       "        vertical-align: top;\n",
       "    }\n",
       "\n",
       "    .dataframe thead th {\n",
       "        text-align: right;\n",
       "    }\n",
       "</style>\n",
       "<table border=\"1\" class=\"dataframe\">\n",
       "  <thead>\n",
       "    <tr style=\"text-align: right;\">\n",
       "      <th></th>\n",
       "      <th>gameorder</th>\n",
       "      <th>game_id</th>\n",
       "      <th>lg_id</th>\n",
       "      <th>_iscopy</th>\n",
       "      <th>year_id</th>\n",
       "      <th>date_game</th>\n",
       "      <th>seasongame</th>\n",
       "      <th>is_playoffs</th>\n",
       "      <th>team_id</th>\n",
       "      <th>fran_id</th>\n",
       "      <th>...</th>\n",
       "      <th>win_equiv</th>\n",
       "      <th>opp_id</th>\n",
       "      <th>opp_fran</th>\n",
       "      <th>opp_pts</th>\n",
       "      <th>opp_elo_i</th>\n",
       "      <th>opp_elo_n</th>\n",
       "      <th>game_location</th>\n",
       "      <th>game_result</th>\n",
       "      <th>forecast</th>\n",
       "      <th>notes</th>\n",
       "    </tr>\n",
       "  </thead>\n",
       "  <tbody>\n",
       "    <tr>\n",
       "      <th>0</th>\n",
       "      <td>1</td>\n",
       "      <td>194611010TRH</td>\n",
       "      <td>NBA</td>\n",
       "      <td>0</td>\n",
       "      <td>1947</td>\n",
       "      <td>11/1/1946</td>\n",
       "      <td>1</td>\n",
       "      <td>0</td>\n",
       "      <td>TRH</td>\n",
       "      <td>Huskies</td>\n",
       "      <td>...</td>\n",
       "      <td>40.294830</td>\n",
       "      <td>NYK</td>\n",
       "      <td>Knicks</td>\n",
       "      <td>68</td>\n",
       "      <td>1300.0000</td>\n",
       "      <td>1306.7233</td>\n",
       "      <td>H</td>\n",
       "      <td>L</td>\n",
       "      <td>0.640065</td>\n",
       "      <td>NaN</td>\n",
       "    </tr>\n",
       "    <tr>\n",
       "      <th>1</th>\n",
       "      <td>1</td>\n",
       "      <td>194611010TRH</td>\n",
       "      <td>NBA</td>\n",
       "      <td>1</td>\n",
       "      <td>1947</td>\n",
       "      <td>11/1/1946</td>\n",
       "      <td>1</td>\n",
       "      <td>0</td>\n",
       "      <td>NYK</td>\n",
       "      <td>Knicks</td>\n",
       "      <td>...</td>\n",
       "      <td>41.705170</td>\n",
       "      <td>TRH</td>\n",
       "      <td>Huskies</td>\n",
       "      <td>66</td>\n",
       "      <td>1300.0000</td>\n",
       "      <td>1293.2767</td>\n",
       "      <td>A</td>\n",
       "      <td>W</td>\n",
       "      <td>0.359935</td>\n",
       "      <td>NaN</td>\n",
       "    </tr>\n",
       "    <tr>\n",
       "      <th>2</th>\n",
       "      <td>2</td>\n",
       "      <td>194611020CHS</td>\n",
       "      <td>NBA</td>\n",
       "      <td>0</td>\n",
       "      <td>1947</td>\n",
       "      <td>11/2/1946</td>\n",
       "      <td>1</td>\n",
       "      <td>0</td>\n",
       "      <td>CHS</td>\n",
       "      <td>Stags</td>\n",
       "      <td>...</td>\n",
       "      <td>42.012257</td>\n",
       "      <td>NYK</td>\n",
       "      <td>Knicks</td>\n",
       "      <td>47</td>\n",
       "      <td>1306.7233</td>\n",
       "      <td>1297.0712</td>\n",
       "      <td>H</td>\n",
       "      <td>W</td>\n",
       "      <td>0.631101</td>\n",
       "      <td>NaN</td>\n",
       "    </tr>\n",
       "    <tr>\n",
       "      <th>3</th>\n",
       "      <td>2</td>\n",
       "      <td>194611020CHS</td>\n",
       "      <td>NBA</td>\n",
       "      <td>1</td>\n",
       "      <td>1947</td>\n",
       "      <td>11/2/1946</td>\n",
       "      <td>2</td>\n",
       "      <td>0</td>\n",
       "      <td>NYK</td>\n",
       "      <td>Knicks</td>\n",
       "      <td>...</td>\n",
       "      <td>40.692783</td>\n",
       "      <td>CHS</td>\n",
       "      <td>Stags</td>\n",
       "      <td>63</td>\n",
       "      <td>1300.0000</td>\n",
       "      <td>1309.6521</td>\n",
       "      <td>A</td>\n",
       "      <td>L</td>\n",
       "      <td>0.368899</td>\n",
       "      <td>NaN</td>\n",
       "    </tr>\n",
       "    <tr>\n",
       "      <th>4</th>\n",
       "      <td>3</td>\n",
       "      <td>194611020DTF</td>\n",
       "      <td>NBA</td>\n",
       "      <td>0</td>\n",
       "      <td>1947</td>\n",
       "      <td>11/2/1946</td>\n",
       "      <td>1</td>\n",
       "      <td>0</td>\n",
       "      <td>DTF</td>\n",
       "      <td>Falcons</td>\n",
       "      <td>...</td>\n",
       "      <td>38.864048</td>\n",
       "      <td>WSC</td>\n",
       "      <td>Capitols</td>\n",
       "      <td>50</td>\n",
       "      <td>1300.0000</td>\n",
       "      <td>1320.3811</td>\n",
       "      <td>H</td>\n",
       "      <td>L</td>\n",
       "      <td>0.640065</td>\n",
       "      <td>NaN</td>\n",
       "    </tr>\n",
       "  </tbody>\n",
       "</table>\n",
       "<p>5 rows × 23 columns</p>\n",
       "</div>"
      ],
      "text/plain": [
       "   gameorder       game_id lg_id  _iscopy  year_id  date_game  seasongame  \\\n",
       "0          1  194611010TRH   NBA        0     1947  11/1/1946           1   \n",
       "1          1  194611010TRH   NBA        1     1947  11/1/1946           1   \n",
       "2          2  194611020CHS   NBA        0     1947  11/2/1946           1   \n",
       "3          2  194611020CHS   NBA        1     1947  11/2/1946           2   \n",
       "4          3  194611020DTF   NBA        0     1947  11/2/1946           1   \n",
       "\n",
       "   is_playoffs team_id  fran_id  ...  win_equiv  opp_id  opp_fran  opp_pts  \\\n",
       "0            0     TRH  Huskies  ...  40.294830     NYK    Knicks       68   \n",
       "1            0     NYK   Knicks  ...  41.705170     TRH   Huskies       66   \n",
       "2            0     CHS    Stags  ...  42.012257     NYK    Knicks       47   \n",
       "3            0     NYK   Knicks  ...  40.692783     CHS     Stags       63   \n",
       "4            0     DTF  Falcons  ...  38.864048     WSC  Capitols       50   \n",
       "\n",
       "   opp_elo_i  opp_elo_n  game_location  game_result  forecast notes  \n",
       "0  1300.0000  1306.7233              H            L  0.640065   NaN  \n",
       "1  1300.0000  1293.2767              A            W  0.359935   NaN  \n",
       "2  1306.7233  1297.0712              H            W  0.631101   NaN  \n",
       "3  1300.0000  1309.6521              A            L  0.368899   NaN  \n",
       "4  1300.0000  1320.3811              H            L  0.640065   NaN  \n",
       "\n",
       "[5 rows x 23 columns]"
      ]
     },
     "execution_count": 11,
     "metadata": {},
     "output_type": "execute_result"
    }
   ],
   "source": [
    "# head untuk melihat beberapa baris pertama saja\n",
    "nba.head() # kalau kosong, berarti 5 baris pertama"
   ]
  },
  {
   "cell_type": "code",
   "execution_count": 12,
   "metadata": {},
   "outputs": [
    {
     "data": {
      "text/html": [
       "<div>\n",
       "<style scoped>\n",
       "    .dataframe tbody tr th:only-of-type {\n",
       "        vertical-align: middle;\n",
       "    }\n",
       "\n",
       "    .dataframe tbody tr th {\n",
       "        vertical-align: top;\n",
       "    }\n",
       "\n",
       "    .dataframe thead th {\n",
       "        text-align: right;\n",
       "    }\n",
       "</style>\n",
       "<table border=\"1\" class=\"dataframe\">\n",
       "  <thead>\n",
       "    <tr style=\"text-align: right;\">\n",
       "      <th></th>\n",
       "      <th>gameorder</th>\n",
       "      <th>game_id</th>\n",
       "      <th>lg_id</th>\n",
       "      <th>_iscopy</th>\n",
       "      <th>year_id</th>\n",
       "      <th>date_game</th>\n",
       "      <th>seasongame</th>\n",
       "      <th>is_playoffs</th>\n",
       "      <th>team_id</th>\n",
       "      <th>fran_id</th>\n",
       "      <th>...</th>\n",
       "      <th>win_equiv</th>\n",
       "      <th>opp_id</th>\n",
       "      <th>opp_fran</th>\n",
       "      <th>opp_pts</th>\n",
       "      <th>opp_elo_i</th>\n",
       "      <th>opp_elo_n</th>\n",
       "      <th>game_location</th>\n",
       "      <th>game_result</th>\n",
       "      <th>forecast</th>\n",
       "      <th>notes</th>\n",
       "    </tr>\n",
       "  </thead>\n",
       "  <tbody>\n",
       "    <tr>\n",
       "      <th>0</th>\n",
       "      <td>1</td>\n",
       "      <td>194611010TRH</td>\n",
       "      <td>NBA</td>\n",
       "      <td>0</td>\n",
       "      <td>1947</td>\n",
       "      <td>11/1/1946</td>\n",
       "      <td>1</td>\n",
       "      <td>0</td>\n",
       "      <td>TRH</td>\n",
       "      <td>Huskies</td>\n",
       "      <td>...</td>\n",
       "      <td>40.29483</td>\n",
       "      <td>NYK</td>\n",
       "      <td>Knicks</td>\n",
       "      <td>68</td>\n",
       "      <td>1300.0</td>\n",
       "      <td>1306.7233</td>\n",
       "      <td>H</td>\n",
       "      <td>L</td>\n",
       "      <td>0.640065</td>\n",
       "      <td>NaN</td>\n",
       "    </tr>\n",
       "    <tr>\n",
       "      <th>1</th>\n",
       "      <td>1</td>\n",
       "      <td>194611010TRH</td>\n",
       "      <td>NBA</td>\n",
       "      <td>1</td>\n",
       "      <td>1947</td>\n",
       "      <td>11/1/1946</td>\n",
       "      <td>1</td>\n",
       "      <td>0</td>\n",
       "      <td>NYK</td>\n",
       "      <td>Knicks</td>\n",
       "      <td>...</td>\n",
       "      <td>41.70517</td>\n",
       "      <td>TRH</td>\n",
       "      <td>Huskies</td>\n",
       "      <td>66</td>\n",
       "      <td>1300.0</td>\n",
       "      <td>1293.2767</td>\n",
       "      <td>A</td>\n",
       "      <td>W</td>\n",
       "      <td>0.359935</td>\n",
       "      <td>NaN</td>\n",
       "    </tr>\n",
       "  </tbody>\n",
       "</table>\n",
       "<p>2 rows × 23 columns</p>\n",
       "</div>"
      ],
      "text/plain": [
       "   gameorder       game_id lg_id  _iscopy  year_id  date_game  seasongame  \\\n",
       "0          1  194611010TRH   NBA        0     1947  11/1/1946           1   \n",
       "1          1  194611010TRH   NBA        1     1947  11/1/1946           1   \n",
       "\n",
       "   is_playoffs team_id  fran_id  ...  win_equiv  opp_id  opp_fran  opp_pts  \\\n",
       "0            0     TRH  Huskies  ...   40.29483     NYK    Knicks       68   \n",
       "1            0     NYK   Knicks  ...   41.70517     TRH   Huskies       66   \n",
       "\n",
       "  opp_elo_i  opp_elo_n  game_location  game_result  forecast notes  \n",
       "0    1300.0  1306.7233              H            L  0.640065   NaN  \n",
       "1    1300.0  1293.2767              A            W  0.359935   NaN  \n",
       "\n",
       "[2 rows x 23 columns]"
      ]
     },
     "execution_count": 12,
     "metadata": {},
     "output_type": "execute_result"
    }
   ],
   "source": [
    "nba.head(2) # kalau ada angkanya, berarti kita sudah pilih berapa baris pertama"
   ]
  },
  {
   "cell_type": "code",
   "execution_count": 13,
   "metadata": {},
   "outputs": [
    {
     "data": {
      "text/html": [
       "<div>\n",
       "<style scoped>\n",
       "    .dataframe tbody tr th:only-of-type {\n",
       "        vertical-align: middle;\n",
       "    }\n",
       "\n",
       "    .dataframe tbody tr th {\n",
       "        vertical-align: top;\n",
       "    }\n",
       "\n",
       "    .dataframe thead th {\n",
       "        text-align: right;\n",
       "    }\n",
       "</style>\n",
       "<table border=\"1\" class=\"dataframe\">\n",
       "  <thead>\n",
       "    <tr style=\"text-align: right;\">\n",
       "      <th></th>\n",
       "      <th>gameorder</th>\n",
       "      <th>game_id</th>\n",
       "      <th>lg_id</th>\n",
       "      <th>_iscopy</th>\n",
       "      <th>year_id</th>\n",
       "      <th>date_game</th>\n",
       "      <th>seasongame</th>\n",
       "      <th>is_playoffs</th>\n",
       "      <th>team_id</th>\n",
       "      <th>fran_id</th>\n",
       "      <th>...</th>\n",
       "      <th>win_equiv</th>\n",
       "      <th>opp_id</th>\n",
       "      <th>opp_fran</th>\n",
       "      <th>opp_pts</th>\n",
       "      <th>opp_elo_i</th>\n",
       "      <th>opp_elo_n</th>\n",
       "      <th>game_location</th>\n",
       "      <th>game_result</th>\n",
       "      <th>forecast</th>\n",
       "      <th>notes</th>\n",
       "    </tr>\n",
       "  </thead>\n",
       "  <tbody>\n",
       "    <tr>\n",
       "      <th>126309</th>\n",
       "      <td>63155</td>\n",
       "      <td>201506110CLE</td>\n",
       "      <td>NBA</td>\n",
       "      <td>0</td>\n",
       "      <td>2015</td>\n",
       "      <td>6/11/2015</td>\n",
       "      <td>100</td>\n",
       "      <td>1</td>\n",
       "      <td>CLE</td>\n",
       "      <td>Cavaliers</td>\n",
       "      <td>...</td>\n",
       "      <td>60.309792</td>\n",
       "      <td>GSW</td>\n",
       "      <td>Warriors</td>\n",
       "      <td>103</td>\n",
       "      <td>1790.9591</td>\n",
       "      <td>1809.9791</td>\n",
       "      <td>H</td>\n",
       "      <td>L</td>\n",
       "      <td>0.546572</td>\n",
       "      <td>NaN</td>\n",
       "    </tr>\n",
       "    <tr>\n",
       "      <th>126310</th>\n",
       "      <td>63156</td>\n",
       "      <td>201506140GSW</td>\n",
       "      <td>NBA</td>\n",
       "      <td>0</td>\n",
       "      <td>2015</td>\n",
       "      <td>6/14/2015</td>\n",
       "      <td>102</td>\n",
       "      <td>1</td>\n",
       "      <td>GSW</td>\n",
       "      <td>Warriors</td>\n",
       "      <td>...</td>\n",
       "      <td>68.013329</td>\n",
       "      <td>CLE</td>\n",
       "      <td>Cavaliers</td>\n",
       "      <td>91</td>\n",
       "      <td>1704.3949</td>\n",
       "      <td>1700.7391</td>\n",
       "      <td>H</td>\n",
       "      <td>W</td>\n",
       "      <td>0.765565</td>\n",
       "      <td>NaN</td>\n",
       "    </tr>\n",
       "    <tr>\n",
       "      <th>126311</th>\n",
       "      <td>63156</td>\n",
       "      <td>201506140GSW</td>\n",
       "      <td>NBA</td>\n",
       "      <td>1</td>\n",
       "      <td>2015</td>\n",
       "      <td>6/14/2015</td>\n",
       "      <td>101</td>\n",
       "      <td>1</td>\n",
       "      <td>CLE</td>\n",
       "      <td>Cavaliers</td>\n",
       "      <td>...</td>\n",
       "      <td>60.010067</td>\n",
       "      <td>GSW</td>\n",
       "      <td>Warriors</td>\n",
       "      <td>104</td>\n",
       "      <td>1809.9791</td>\n",
       "      <td>1813.6349</td>\n",
       "      <td>A</td>\n",
       "      <td>L</td>\n",
       "      <td>0.234435</td>\n",
       "      <td>NaN</td>\n",
       "    </tr>\n",
       "    <tr>\n",
       "      <th>126312</th>\n",
       "      <td>63157</td>\n",
       "      <td>201506170CLE</td>\n",
       "      <td>NBA</td>\n",
       "      <td>0</td>\n",
       "      <td>2015</td>\n",
       "      <td>6/16/2015</td>\n",
       "      <td>102</td>\n",
       "      <td>1</td>\n",
       "      <td>CLE</td>\n",
       "      <td>Cavaliers</td>\n",
       "      <td>...</td>\n",
       "      <td>59.290245</td>\n",
       "      <td>GSW</td>\n",
       "      <td>Warriors</td>\n",
       "      <td>105</td>\n",
       "      <td>1813.6349</td>\n",
       "      <td>1822.2881</td>\n",
       "      <td>H</td>\n",
       "      <td>L</td>\n",
       "      <td>0.481450</td>\n",
       "      <td>NaN</td>\n",
       "    </tr>\n",
       "    <tr>\n",
       "      <th>126313</th>\n",
       "      <td>63157</td>\n",
       "      <td>201506170CLE</td>\n",
       "      <td>NBA</td>\n",
       "      <td>1</td>\n",
       "      <td>2015</td>\n",
       "      <td>6/16/2015</td>\n",
       "      <td>103</td>\n",
       "      <td>1</td>\n",
       "      <td>GSW</td>\n",
       "      <td>Warriors</td>\n",
       "      <td>...</td>\n",
       "      <td>68.519516</td>\n",
       "      <td>CLE</td>\n",
       "      <td>Cavaliers</td>\n",
       "      <td>97</td>\n",
       "      <td>1700.7391</td>\n",
       "      <td>1692.0859</td>\n",
       "      <td>A</td>\n",
       "      <td>W</td>\n",
       "      <td>0.518550</td>\n",
       "      <td>NaN</td>\n",
       "    </tr>\n",
       "  </tbody>\n",
       "</table>\n",
       "<p>5 rows × 23 columns</p>\n",
       "</div>"
      ],
      "text/plain": [
       "        gameorder       game_id lg_id  _iscopy  year_id  date_game  \\\n",
       "126309      63155  201506110CLE   NBA        0     2015  6/11/2015   \n",
       "126310      63156  201506140GSW   NBA        0     2015  6/14/2015   \n",
       "126311      63156  201506140GSW   NBA        1     2015  6/14/2015   \n",
       "126312      63157  201506170CLE   NBA        0     2015  6/16/2015   \n",
       "126313      63157  201506170CLE   NBA        1     2015  6/16/2015   \n",
       "\n",
       "        seasongame  is_playoffs team_id    fran_id  ...  win_equiv  opp_id  \\\n",
       "126309         100            1     CLE  Cavaliers  ...  60.309792     GSW   \n",
       "126310         102            1     GSW   Warriors  ...  68.013329     CLE   \n",
       "126311         101            1     CLE  Cavaliers  ...  60.010067     GSW   \n",
       "126312         102            1     CLE  Cavaliers  ...  59.290245     GSW   \n",
       "126313         103            1     GSW   Warriors  ...  68.519516     CLE   \n",
       "\n",
       "         opp_fran  opp_pts  opp_elo_i  opp_elo_n  game_location  game_result  \\\n",
       "126309   Warriors      103  1790.9591  1809.9791              H            L   \n",
       "126310  Cavaliers       91  1704.3949  1700.7391              H            W   \n",
       "126311   Warriors      104  1809.9791  1813.6349              A            L   \n",
       "126312   Warriors      105  1813.6349  1822.2881              H            L   \n",
       "126313  Cavaliers       97  1700.7391  1692.0859              A            W   \n",
       "\n",
       "        forecast notes  \n",
       "126309  0.546572   NaN  \n",
       "126310  0.765565   NaN  \n",
       "126311  0.234435   NaN  \n",
       "126312  0.481450   NaN  \n",
       "126313  0.518550   NaN  \n",
       "\n",
       "[5 rows x 23 columns]"
      ]
     },
     "execution_count": 13,
     "metadata": {},
     "output_type": "execute_result"
    }
   ],
   "source": [
    "# melihat bbrp baris terakhir\n",
    "nba.tail() # kalau kosong, berarti 5 baris terakhir"
   ]
  },
  {
   "cell_type": "code",
   "execution_count": 14,
   "metadata": {},
   "outputs": [
    {
     "data": {
      "text/html": [
       "<div>\n",
       "<style scoped>\n",
       "    .dataframe tbody tr th:only-of-type {\n",
       "        vertical-align: middle;\n",
       "    }\n",
       "\n",
       "    .dataframe tbody tr th {\n",
       "        vertical-align: top;\n",
       "    }\n",
       "\n",
       "    .dataframe thead th {\n",
       "        text-align: right;\n",
       "    }\n",
       "</style>\n",
       "<table border=\"1\" class=\"dataframe\">\n",
       "  <thead>\n",
       "    <tr style=\"text-align: right;\">\n",
       "      <th></th>\n",
       "      <th>gameorder</th>\n",
       "      <th>game_id</th>\n",
       "      <th>lg_id</th>\n",
       "      <th>_iscopy</th>\n",
       "      <th>year_id</th>\n",
       "      <th>date_game</th>\n",
       "      <th>seasongame</th>\n",
       "      <th>is_playoffs</th>\n",
       "      <th>team_id</th>\n",
       "      <th>fran_id</th>\n",
       "      <th>...</th>\n",
       "      <th>win_equiv</th>\n",
       "      <th>opp_id</th>\n",
       "      <th>opp_fran</th>\n",
       "      <th>opp_pts</th>\n",
       "      <th>opp_elo_i</th>\n",
       "      <th>opp_elo_n</th>\n",
       "      <th>game_location</th>\n",
       "      <th>game_result</th>\n",
       "      <th>forecast</th>\n",
       "      <th>notes</th>\n",
       "    </tr>\n",
       "  </thead>\n",
       "  <tbody>\n",
       "    <tr>\n",
       "      <th>126312</th>\n",
       "      <td>63157</td>\n",
       "      <td>201506170CLE</td>\n",
       "      <td>NBA</td>\n",
       "      <td>0</td>\n",
       "      <td>2015</td>\n",
       "      <td>6/16/2015</td>\n",
       "      <td>102</td>\n",
       "      <td>1</td>\n",
       "      <td>CLE</td>\n",
       "      <td>Cavaliers</td>\n",
       "      <td>...</td>\n",
       "      <td>59.290245</td>\n",
       "      <td>GSW</td>\n",
       "      <td>Warriors</td>\n",
       "      <td>105</td>\n",
       "      <td>1813.6349</td>\n",
       "      <td>1822.2881</td>\n",
       "      <td>H</td>\n",
       "      <td>L</td>\n",
       "      <td>0.48145</td>\n",
       "      <td>NaN</td>\n",
       "    </tr>\n",
       "    <tr>\n",
       "      <th>126313</th>\n",
       "      <td>63157</td>\n",
       "      <td>201506170CLE</td>\n",
       "      <td>NBA</td>\n",
       "      <td>1</td>\n",
       "      <td>2015</td>\n",
       "      <td>6/16/2015</td>\n",
       "      <td>103</td>\n",
       "      <td>1</td>\n",
       "      <td>GSW</td>\n",
       "      <td>Warriors</td>\n",
       "      <td>...</td>\n",
       "      <td>68.519516</td>\n",
       "      <td>CLE</td>\n",
       "      <td>Cavaliers</td>\n",
       "      <td>97</td>\n",
       "      <td>1700.7391</td>\n",
       "      <td>1692.0859</td>\n",
       "      <td>A</td>\n",
       "      <td>W</td>\n",
       "      <td>0.51855</td>\n",
       "      <td>NaN</td>\n",
       "    </tr>\n",
       "  </tbody>\n",
       "</table>\n",
       "<p>2 rows × 23 columns</p>\n",
       "</div>"
      ],
      "text/plain": [
       "        gameorder       game_id lg_id  _iscopy  year_id  date_game  \\\n",
       "126312      63157  201506170CLE   NBA        0     2015  6/16/2015   \n",
       "126313      63157  201506170CLE   NBA        1     2015  6/16/2015   \n",
       "\n",
       "        seasongame  is_playoffs team_id    fran_id  ...  win_equiv  opp_id  \\\n",
       "126312         102            1     CLE  Cavaliers  ...  59.290245     GSW   \n",
       "126313         103            1     GSW   Warriors  ...  68.519516     CLE   \n",
       "\n",
       "         opp_fran  opp_pts  opp_elo_i  opp_elo_n  game_location  game_result  \\\n",
       "126312   Warriors      105  1813.6349  1822.2881              H            L   \n",
       "126313  Cavaliers       97  1700.7391  1692.0859              A            W   \n",
       "\n",
       "        forecast notes  \n",
       "126312   0.48145   NaN  \n",
       "126313   0.51855   NaN  \n",
       "\n",
       "[2 rows x 23 columns]"
      ]
     },
     "execution_count": 14,
     "metadata": {},
     "output_type": "execute_result"
    }
   ],
   "source": [
    "nba.tail(2)"
   ]
  },
  {
   "cell_type": "code",
   "execution_count": 15,
   "metadata": {},
   "outputs": [],
   "source": [
    "# ubah setting default sehingga memaksa pandas untuk memperlihatkan semua kolom\n",
    "pd.set_option(\"display.max.columns\", None)"
   ]
  },
  {
   "cell_type": "code",
   "execution_count": 16,
   "metadata": {},
   "outputs": [
    {
     "data": {
      "text/html": [
       "<div>\n",
       "<style scoped>\n",
       "    .dataframe tbody tr th:only-of-type {\n",
       "        vertical-align: middle;\n",
       "    }\n",
       "\n",
       "    .dataframe tbody tr th {\n",
       "        vertical-align: top;\n",
       "    }\n",
       "\n",
       "    .dataframe thead th {\n",
       "        text-align: right;\n",
       "    }\n",
       "</style>\n",
       "<table border=\"1\" class=\"dataframe\">\n",
       "  <thead>\n",
       "    <tr style=\"text-align: right;\">\n",
       "      <th></th>\n",
       "      <th>gameorder</th>\n",
       "      <th>game_id</th>\n",
       "      <th>lg_id</th>\n",
       "      <th>_iscopy</th>\n",
       "      <th>year_id</th>\n",
       "      <th>date_game</th>\n",
       "      <th>seasongame</th>\n",
       "      <th>is_playoffs</th>\n",
       "      <th>team_id</th>\n",
       "      <th>fran_id</th>\n",
       "      <th>pts</th>\n",
       "      <th>elo_i</th>\n",
       "      <th>elo_n</th>\n",
       "      <th>win_equiv</th>\n",
       "      <th>opp_id</th>\n",
       "      <th>opp_fran</th>\n",
       "      <th>opp_pts</th>\n",
       "      <th>opp_elo_i</th>\n",
       "      <th>opp_elo_n</th>\n",
       "      <th>game_location</th>\n",
       "      <th>game_result</th>\n",
       "      <th>forecast</th>\n",
       "      <th>notes</th>\n",
       "    </tr>\n",
       "  </thead>\n",
       "  <tbody>\n",
       "    <tr>\n",
       "      <th>0</th>\n",
       "      <td>1</td>\n",
       "      <td>194611010TRH</td>\n",
       "      <td>NBA</td>\n",
       "      <td>0</td>\n",
       "      <td>1947</td>\n",
       "      <td>11/1/1946</td>\n",
       "      <td>1</td>\n",
       "      <td>0</td>\n",
       "      <td>TRH</td>\n",
       "      <td>Huskies</td>\n",
       "      <td>66</td>\n",
       "      <td>1300.0</td>\n",
       "      <td>1293.2767</td>\n",
       "      <td>40.294830</td>\n",
       "      <td>NYK</td>\n",
       "      <td>Knicks</td>\n",
       "      <td>68</td>\n",
       "      <td>1300.0000</td>\n",
       "      <td>1306.7233</td>\n",
       "      <td>H</td>\n",
       "      <td>L</td>\n",
       "      <td>0.640065</td>\n",
       "      <td>NaN</td>\n",
       "    </tr>\n",
       "    <tr>\n",
       "      <th>1</th>\n",
       "      <td>1</td>\n",
       "      <td>194611010TRH</td>\n",
       "      <td>NBA</td>\n",
       "      <td>1</td>\n",
       "      <td>1947</td>\n",
       "      <td>11/1/1946</td>\n",
       "      <td>1</td>\n",
       "      <td>0</td>\n",
       "      <td>NYK</td>\n",
       "      <td>Knicks</td>\n",
       "      <td>68</td>\n",
       "      <td>1300.0</td>\n",
       "      <td>1306.7233</td>\n",
       "      <td>41.705170</td>\n",
       "      <td>TRH</td>\n",
       "      <td>Huskies</td>\n",
       "      <td>66</td>\n",
       "      <td>1300.0000</td>\n",
       "      <td>1293.2767</td>\n",
       "      <td>A</td>\n",
       "      <td>W</td>\n",
       "      <td>0.359935</td>\n",
       "      <td>NaN</td>\n",
       "    </tr>\n",
       "    <tr>\n",
       "      <th>2</th>\n",
       "      <td>2</td>\n",
       "      <td>194611020CHS</td>\n",
       "      <td>NBA</td>\n",
       "      <td>0</td>\n",
       "      <td>1947</td>\n",
       "      <td>11/2/1946</td>\n",
       "      <td>1</td>\n",
       "      <td>0</td>\n",
       "      <td>CHS</td>\n",
       "      <td>Stags</td>\n",
       "      <td>63</td>\n",
       "      <td>1300.0</td>\n",
       "      <td>1309.6521</td>\n",
       "      <td>42.012257</td>\n",
       "      <td>NYK</td>\n",
       "      <td>Knicks</td>\n",
       "      <td>47</td>\n",
       "      <td>1306.7233</td>\n",
       "      <td>1297.0712</td>\n",
       "      <td>H</td>\n",
       "      <td>W</td>\n",
       "      <td>0.631101</td>\n",
       "      <td>NaN</td>\n",
       "    </tr>\n",
       "  </tbody>\n",
       "</table>\n",
       "</div>"
      ],
      "text/plain": [
       "   gameorder       game_id lg_id  _iscopy  year_id  date_game  seasongame  \\\n",
       "0          1  194611010TRH   NBA        0     1947  11/1/1946           1   \n",
       "1          1  194611010TRH   NBA        1     1947  11/1/1946           1   \n",
       "2          2  194611020CHS   NBA        0     1947  11/2/1946           1   \n",
       "\n",
       "   is_playoffs team_id  fran_id  pts   elo_i      elo_n  win_equiv opp_id  \\\n",
       "0            0     TRH  Huskies   66  1300.0  1293.2767  40.294830    NYK   \n",
       "1            0     NYK   Knicks   68  1300.0  1306.7233  41.705170    TRH   \n",
       "2            0     CHS    Stags   63  1300.0  1309.6521  42.012257    NYK   \n",
       "\n",
       "  opp_fran  opp_pts  opp_elo_i  opp_elo_n game_location game_result  forecast  \\\n",
       "0   Knicks       68  1300.0000  1306.7233             H           L  0.640065   \n",
       "1  Huskies       66  1300.0000  1293.2767             A           W  0.359935   \n",
       "2   Knicks       47  1306.7233  1297.0712             H           W  0.631101   \n",
       "\n",
       "  notes  \n",
       "0   NaN  \n",
       "1   NaN  \n",
       "2   NaN  "
      ]
     },
     "execution_count": 16,
     "metadata": {},
     "output_type": "execute_result"
    }
   ],
   "source": [
    "# kita coba lihat datanya lagi\n",
    "nba.head(3)"
   ]
  },
  {
   "cell_type": "markdown",
   "metadata": {},
   "source": [
    "ekplorasi data yang digunakan untuk lebih mengerti trend datanya, seperti:\n",
    "- ada berapa team nba di dataset ini?\n",
    "- tiap team main berapa game? dari 126314 game yang dicatat, kebanyakn team apa? yg paling dikit main team apa?\n",
    "- dataset ini rekord untuk games di jangka waktu apa, apa tanggal game paling jadul dan paling baru di dataset ini?"
   ]
  },
  {
   "cell_type": "code",
   "execution_count": 18,
   "metadata": {},
   "outputs": [
    {
     "data": {
      "text/plain": [
       "104"
      ]
     },
     "execution_count": 18,
     "metadata": {},
     "output_type": "execute_result"
    }
   ],
   "source": [
    "# ada berapa team nba di dataset ini?\n",
    "nba['team_id'].nunique()"
   ]
  },
  {
   "cell_type": "code",
   "execution_count": 19,
   "metadata": {},
   "outputs": [
    {
     "data": {
      "text/plain": [
       "BOS    5997\n",
       "NYK    5769\n",
       "LAL    5078\n",
       "DET    4985\n",
       "PHI    4533\n",
       "       ... \n",
       "PIT      60\n",
       "TRH      60\n",
       "DTF      60\n",
       "INJ      60\n",
       "SDS      11\n",
       "Name: team_id, Length: 104, dtype: int64"
      ]
     },
     "execution_count": 19,
     "metadata": {},
     "output_type": "execute_result"
    }
   ],
   "source": [
    "# hitung setiap team main berapa game\n",
    "nba['team_id'].value_counts()"
   ]
  },
  {
   "cell_type": "code",
   "execution_count": 20,
   "metadata": {},
   "outputs": [
    {
     "data": {
      "text/plain": [
       "team_id  fran_id\n",
       "BOS      Celtics    5997\n",
       "NYK      Knicks     5769\n",
       "LAL      Lakers     5078\n",
       "DET      Pistons    4985\n",
       "PHI      Sixers     4533\n",
       "                    ... \n",
       "PIT      Ironmen      60\n",
       "TRH      Huskies      60\n",
       "INJ      Jets         60\n",
       "DTF      Falcons      60\n",
       "SDS      Sails        11\n",
       "Length: 104, dtype: int64"
      ]
     },
     "execution_count": 20,
     "metadata": {},
     "output_type": "execute_result"
    }
   ],
   "source": [
    "nba[['team_id', 'fran_id']].value_counts()"
   ]
  },
  {
   "cell_type": "markdown",
   "metadata": {},
   "source": [
    "game paling banyak dimainkan tim BOS Celtics dengan 5997 game. paling dikit adalah tim SDS Sails dengan 11 game."
   ]
  },
  {
   "cell_type": "code",
   "execution_count": 21,
   "metadata": {},
   "outputs": [
    {
     "data": {
      "text/plain": [
       "0         11/1/1946\n",
       "1         11/1/1946\n",
       "2         11/2/1946\n",
       "3         11/2/1946\n",
       "4         11/2/1946\n",
       "            ...    \n",
       "126309    6/11/2015\n",
       "126310    6/14/2015\n",
       "126311    6/14/2015\n",
       "126312    6/16/2015\n",
       "126313    6/16/2015\n",
       "Name: date_game, Length: 126314, dtype: object"
      ]
     },
     "execution_count": 21,
     "metadata": {},
     "output_type": "execute_result"
    }
   ],
   "source": [
    "# cek tanggal game terjadul dan terbaru di dataset ini\n",
    "nba['date_game'] # ambil kolom date_game"
   ]
  },
  {
   "cell_type": "code",
   "execution_count": 24,
   "metadata": {},
   "outputs": [
    {
     "data": {
      "text/plain": [
       "0        1946-11-01\n",
       "1        1946-11-01\n",
       "2        1946-11-02\n",
       "3        1946-11-02\n",
       "4        1946-11-02\n",
       "            ...    \n",
       "126309   2015-06-11\n",
       "126310   2015-06-14\n",
       "126311   2015-06-14\n",
       "126312   2015-06-16\n",
       "126313   2015-06-16\n",
       "Name: date_game, Length: 126314, dtype: datetime64[ns]"
      ]
     },
     "execution_count": 24,
     "metadata": {},
     "output_type": "execute_result"
    }
   ],
   "source": [
    "# ubah dulu jadi tipe data tanggalan yaitu datetime\n",
    "nba['date_game'] = pd.to_datetime(nba['date_game'])\n",
    "nba['date_game'] # sekarang sudah di replace menjadi list yang tipe datanya datetime"
   ]
  },
  {
   "cell_type": "code",
   "execution_count": 26,
   "metadata": {},
   "outputs": [
    {
     "data": {
      "text/plain": [
       "Timestamp('1946-11-01 00:00:00')"
      ]
     },
     "execution_count": 26,
     "metadata": {},
     "output_type": "execute_result"
    }
   ],
   "source": [
    "nba['date_game'].min()"
   ]
  },
  {
   "cell_type": "code",
   "execution_count": 27,
   "metadata": {},
   "outputs": [
    {
     "data": {
      "text/plain": [
       "Timestamp('2015-06-16 00:00:00')"
      ]
     },
     "execution_count": 27,
     "metadata": {},
     "output_type": "execute_result"
    }
   ],
   "source": [
    "nba['date_game'].max()"
   ]
  },
  {
   "cell_type": "markdown",
   "metadata": {},
   "source": [
    "di dataset ini, game paling jadul adalah di tanggal 1 november 1946, game terbaru di tanggal 16 juni 2015. jadi bisa dibilang dataset ini merekor game dari 1 nov 1946 - 16 juni 2015"
   ]
  },
  {
   "cell_type": "markdown",
   "metadata": {},
   "source": [
    "# Basic Pandas\n",
    "\n",
    "## Tipe Data (Struktur data) yang dibuat oleh Pandas\n",
    "- Series (1D, index dan values)\n",
    "- DataFrame (2D, rows dan columns)"
   ]
  },
  {
   "cell_type": "code",
   "execution_count": 28,
   "metadata": {},
   "outputs": [
    {
     "data": {
      "text/plain": [
       "0     500\n",
       "1    7000\n",
       "2    3257\n",
       "dtype: int64"
      ]
     },
     "execution_count": 28,
     "metadata": {},
     "output_type": "execute_result"
    }
   ],
   "source": [
    "# Series - cara buat\n",
    "s1 = pd.Series([500,7000,3257]) # dibuat dengan list\n",
    "s1"
   ]
  },
  {
   "cell_type": "code",
   "execution_count": 29,
   "metadata": {},
   "outputs": [
    {
     "name": "stdout",
     "output_type": "stream",
     "text": [
      "<class 'pandas.core.series.Series'>\n"
     ]
    }
   ],
   "source": [
    "print(type(s1))"
   ]
  },
  {
   "cell_type": "code",
   "execution_count": 35,
   "metadata": {},
   "outputs": [
    {
     "data": {
      "text/plain": [
       "Amsterdam     89\n",
       "Tokyo        102\n",
       "dtype: int64"
      ]
     },
     "execution_count": 35,
     "metadata": {},
     "output_type": "execute_result"
    }
   ],
   "source": [
    "# dibuat dengan dictionary\n",
    "s2 = pd.Series({'Amsterdam': 89, 'Tokyo':102})\n",
    "s2"
   ]
  },
  {
   "cell_type": "code",
   "execution_count": 30,
   "metadata": {},
   "outputs": [
    {
     "data": {
      "text/plain": [
       "Amsterdam     500\n",
       "Toronto      7000\n",
       "Tokyo        3257\n",
       "dtype: int64"
      ]
     },
     "execution_count": 30,
     "metadata": {},
     "output_type": "execute_result"
    }
   ],
   "source": [
    "# series punya index yang bisa diubah jadi string\n",
    "s1 = pd.Series([500,7000,3257], index=['Amsterdam', 'Toronto', 'Tokyo']) # dibuat dengan list dan custom index\n",
    "s1"
   ]
  },
  {
   "cell_type": "code",
   "execution_count": 31,
   "metadata": {},
   "outputs": [
    {
     "data": {
      "text/plain": [
       "3257"
      ]
     },
     "execution_count": 31,
     "metadata": {},
     "output_type": "execute_result"
    }
   ],
   "source": [
    "# cara baca series - cara ambil suatu value\n",
    "s1['Tokyo']"
   ]
  },
  {
   "cell_type": "code",
   "execution_count": 32,
   "metadata": {},
   "outputs": [
    {
     "data": {
      "text/plain": [
       "7000"
      ]
     },
     "execution_count": 32,
     "metadata": {},
     "output_type": "execute_result"
    }
   ],
   "source": [
    "s1['Toronto'] # indexing ambil dengan index"
   ]
  },
  {
   "cell_type": "code",
   "execution_count": 33,
   "metadata": {},
   "outputs": [
    {
     "data": {
      "text/plain": [
       "Toronto    7000\n",
       "Tokyo      3257\n",
       "dtype: int64"
      ]
     },
     "execution_count": 33,
     "metadata": {},
     "output_type": "execute_result"
    }
   ],
   "source": [
    "s1['Toronto':] # slicing ambil bbrp data dengan range index"
   ]
  },
  {
   "cell_type": "code",
   "execution_count": 38,
   "metadata": {},
   "outputs": [],
   "source": [
    "# menggabungkan dua series\n",
    "jumlah_populasi = s1"
   ]
  },
  {
   "cell_type": "code",
   "execution_count": 39,
   "metadata": {},
   "outputs": [],
   "source": [
    "jumlah_turis = s2"
   ]
  },
  {
   "cell_type": "markdown",
   "metadata": {},
   "source": [
    "kita mau gabungkan 2 series ini menjadi sebuah data detail_kota, index nya sama, kolom ada 2"
   ]
  },
  {
   "cell_type": "code",
   "execution_count": 41,
   "metadata": {},
   "outputs": [
    {
     "data": {
      "text/plain": [
       "Index(['Amsterdam', 'Toronto', 'Tokyo'], dtype='object')"
      ]
     },
     "execution_count": 41,
     "metadata": {},
     "output_type": "execute_result"
    }
   ],
   "source": [
    "# lihat detail data Series\n",
    "s1.keys() # di Series, keys() memberikan index Seriesnya"
   ]
  },
  {
   "cell_type": "code",
   "execution_count": 43,
   "metadata": {},
   "outputs": [
    {
     "data": {
      "text/plain": [
       "array([ 500, 7000, 3257], dtype=int64)"
      ]
     },
     "execution_count": 43,
     "metadata": {},
     "output_type": "execute_result"
    }
   ],
   "source": [
    "s1.values"
   ]
  },
  {
   "cell_type": "code",
   "execution_count": 44,
   "metadata": {},
   "outputs": [
    {
     "data": {
      "text/plain": [
       "Index(['Amsterdam', 'Toronto', 'Tokyo'], dtype='object')"
      ]
     },
     "execution_count": 44,
     "metadata": {},
     "output_type": "execute_result"
    }
   ],
   "source": [
    "s1.index"
   ]
  },
  {
   "cell_type": "code",
   "execution_count": null,
   "metadata": {},
   "outputs": [],
   "source": []
  },
  {
   "cell_type": "markdown",
   "metadata": {},
   "source": [
    "## DataFrame\n",
    "tipe data 2D jadi bisa punya banyak kolom, sementara Series cuma punya 1"
   ]
  },
  {
   "cell_type": "code",
   "execution_count": 40,
   "metadata": {},
   "outputs": [
    {
     "data": {
      "text/html": [
       "<div>\n",
       "<style scoped>\n",
       "    .dataframe tbody tr th:only-of-type {\n",
       "        vertical-align: middle;\n",
       "    }\n",
       "\n",
       "    .dataframe tbody tr th {\n",
       "        vertical-align: top;\n",
       "    }\n",
       "\n",
       "    .dataframe thead th {\n",
       "        text-align: right;\n",
       "    }\n",
       "</style>\n",
       "<table border=\"1\" class=\"dataframe\">\n",
       "  <thead>\n",
       "    <tr style=\"text-align: right;\">\n",
       "      <th></th>\n",
       "      <th>populasi</th>\n",
       "      <th>turis</th>\n",
       "    </tr>\n",
       "  </thead>\n",
       "  <tbody>\n",
       "    <tr>\n",
       "      <th>Amsterdam</th>\n",
       "      <td>500</td>\n",
       "      <td>89.0</td>\n",
       "    </tr>\n",
       "    <tr>\n",
       "      <th>Tokyo</th>\n",
       "      <td>3257</td>\n",
       "      <td>102.0</td>\n",
       "    </tr>\n",
       "    <tr>\n",
       "      <th>Toronto</th>\n",
       "      <td>7000</td>\n",
       "      <td>NaN</td>\n",
       "    </tr>\n",
       "  </tbody>\n",
       "</table>\n",
       "</div>"
      ],
      "text/plain": [
       "           populasi  turis\n",
       "Amsterdam       500   89.0\n",
       "Tokyo          3257  102.0\n",
       "Toronto        7000    NaN"
      ]
     },
     "execution_count": 40,
     "metadata": {},
     "output_type": "execute_result"
    }
   ],
   "source": [
    "df_kota = pd.DataFrame({'populasi': jumlah_populasi, 'turis':jumlah_turis})\n",
    "df_kota"
   ]
  },
  {
   "cell_type": "markdown",
   "metadata": {},
   "source": [
    "### melihat detail DataFramde dengan index, columns, values, dan keys()"
   ]
  },
  {
   "cell_type": "code",
   "execution_count": 45,
   "metadata": {},
   "outputs": [
    {
     "data": {
      "text/plain": [
       "Index(['populasi', 'turis'], dtype='object')"
      ]
     },
     "execution_count": 45,
     "metadata": {},
     "output_type": "execute_result"
    }
   ],
   "source": [
    "# di DataFrame, keys() memberikan judul2 kolomnya\n",
    "df_kota.keys()"
   ]
  },
  {
   "cell_type": "code",
   "execution_count": 46,
   "metadata": {},
   "outputs": [
    {
     "data": {
      "text/plain": [
       "Index(['Amsterdam', 'Tokyo', 'Toronto'], dtype='object')"
      ]
     },
     "execution_count": 46,
     "metadata": {},
     "output_type": "execute_result"
    }
   ],
   "source": [
    "df_kota.index # ini baru index"
   ]
  },
  {
   "cell_type": "code",
   "execution_count": 47,
   "metadata": {},
   "outputs": [
    {
     "data": {
      "text/plain": [
       "Index(['populasi', 'turis'], dtype='object')"
      ]
     },
     "execution_count": 47,
     "metadata": {},
     "output_type": "execute_result"
    }
   ],
   "source": [
    "df_kota.columns # ini juga akses judul2 kolom"
   ]
  },
  {
   "cell_type": "code",
   "execution_count": 48,
   "metadata": {},
   "outputs": [
    {
     "data": {
      "text/plain": [
       "array([[ 500.,   89.],\n",
       "       [3257.,  102.],\n",
       "       [7000.,   nan]])"
      ]
     },
     "execution_count": 48,
     "metadata": {},
     "output_type": "execute_result"
    }
   ],
   "source": [
    "df_kota.values"
   ]
  },
  {
   "cell_type": "markdown",
   "metadata": {},
   "source": [
    "### membaca data di DataFrame\n",
    "indexing dan slicing"
   ]
  },
  {
   "cell_type": "code",
   "execution_count": 49,
   "metadata": {},
   "outputs": [
    {
     "data": {
      "text/html": [
       "<div>\n",
       "<style scoped>\n",
       "    .dataframe tbody tr th:only-of-type {\n",
       "        vertical-align: middle;\n",
       "    }\n",
       "\n",
       "    .dataframe tbody tr th {\n",
       "        vertical-align: top;\n",
       "    }\n",
       "\n",
       "    .dataframe thead th {\n",
       "        text-align: right;\n",
       "    }\n",
       "</style>\n",
       "<table border=\"1\" class=\"dataframe\">\n",
       "  <thead>\n",
       "    <tr style=\"text-align: right;\">\n",
       "      <th></th>\n",
       "      <th>populasi</th>\n",
       "      <th>turis</th>\n",
       "    </tr>\n",
       "  </thead>\n",
       "  <tbody>\n",
       "    <tr>\n",
       "      <th>Amsterdam</th>\n",
       "      <td>500</td>\n",
       "      <td>89.0</td>\n",
       "    </tr>\n",
       "    <tr>\n",
       "      <th>Tokyo</th>\n",
       "      <td>3257</td>\n",
       "      <td>102.0</td>\n",
       "    </tr>\n",
       "    <tr>\n",
       "      <th>Toronto</th>\n",
       "      <td>7000</td>\n",
       "      <td>NaN</td>\n",
       "    </tr>\n",
       "  </tbody>\n",
       "</table>\n",
       "</div>"
      ],
      "text/plain": [
       "           populasi  turis\n",
       "Amsterdam       500   89.0\n",
       "Tokyo          3257  102.0\n",
       "Toronto        7000    NaN"
      ]
     },
     "execution_count": 49,
     "metadata": {},
     "output_type": "execute_result"
    }
   ],
   "source": [
    "df_kota"
   ]
  },
  {
   "cell_type": "code",
   "execution_count": 51,
   "metadata": {},
   "outputs": [
    {
     "data": {
      "text/plain": [
       "populasi    500.0\n",
       "turis        89.0\n",
       "Name: Amsterdam, dtype: float64"
      ]
     },
     "execution_count": 51,
     "metadata": {},
     "output_type": "execute_result"
    }
   ],
   "source": [
    "# mau ambil data Amsterdam saja\n",
    "# gunakan .loc untuk mengambil data per baris dari indexnya\n",
    "df_kota.loc['Amsterdam']"
   ]
  },
  {
   "cell_type": "code",
   "execution_count": 52,
   "metadata": {},
   "outputs": [
    {
     "data": {
      "text/html": [
       "<div>\n",
       "<style scoped>\n",
       "    .dataframe tbody tr th:only-of-type {\n",
       "        vertical-align: middle;\n",
       "    }\n",
       "\n",
       "    .dataframe tbody tr th {\n",
       "        vertical-align: top;\n",
       "    }\n",
       "\n",
       "    .dataframe thead th {\n",
       "        text-align: right;\n",
       "    }\n",
       "</style>\n",
       "<table border=\"1\" class=\"dataframe\">\n",
       "  <thead>\n",
       "    <tr style=\"text-align: right;\">\n",
       "      <th></th>\n",
       "      <th>populasi</th>\n",
       "      <th>turis</th>\n",
       "    </tr>\n",
       "  </thead>\n",
       "  <tbody>\n",
       "    <tr>\n",
       "      <th>Amsterdam</th>\n",
       "      <td>500</td>\n",
       "      <td>89.0</td>\n",
       "    </tr>\n",
       "    <tr>\n",
       "      <th>Tokyo</th>\n",
       "      <td>3257</td>\n",
       "      <td>102.0</td>\n",
       "    </tr>\n",
       "  </tbody>\n",
       "</table>\n",
       "</div>"
      ],
      "text/plain": [
       "           populasi  turis\n",
       "Amsterdam       500   89.0\n",
       "Tokyo          3257  102.0"
      ]
     },
     "execution_count": 52,
     "metadata": {},
     "output_type": "execute_result"
    }
   ],
   "source": [
    "df_kota.loc['Amsterdam':'Tokyo'] # ambil dari amsterdam sampai tokyo"
   ]
  },
  {
   "cell_type": "code",
   "execution_count": 53,
   "metadata": {},
   "outputs": [
    {
     "data": {
      "text/html": [
       "<div>\n",
       "<style scoped>\n",
       "    .dataframe tbody tr th:only-of-type {\n",
       "        vertical-align: middle;\n",
       "    }\n",
       "\n",
       "    .dataframe tbody tr th {\n",
       "        vertical-align: top;\n",
       "    }\n",
       "\n",
       "    .dataframe thead th {\n",
       "        text-align: right;\n",
       "    }\n",
       "</style>\n",
       "<table border=\"1\" class=\"dataframe\">\n",
       "  <thead>\n",
       "    <tr style=\"text-align: right;\">\n",
       "      <th></th>\n",
       "      <th>populasi</th>\n",
       "      <th>turis</th>\n",
       "    </tr>\n",
       "  </thead>\n",
       "  <tbody>\n",
       "    <tr>\n",
       "      <th>Amsterdam</th>\n",
       "      <td>500</td>\n",
       "      <td>89.0</td>\n",
       "    </tr>\n",
       "    <tr>\n",
       "      <th>Toronto</th>\n",
       "      <td>7000</td>\n",
       "      <td>NaN</td>\n",
       "    </tr>\n",
       "  </tbody>\n",
       "</table>\n",
       "</div>"
      ],
      "text/plain": [
       "           populasi  turis\n",
       "Amsterdam       500   89.0\n",
       "Toronto        7000    NaN"
      ]
     },
     "execution_count": 53,
     "metadata": {},
     "output_type": "execute_result"
    }
   ],
   "source": [
    "df_kota.loc[['Amsterdam', 'Toronto']] # ambil amsterdam dan toronto"
   ]
  },
  {
   "cell_type": "code",
   "execution_count": 56,
   "metadata": {},
   "outputs": [
    {
     "data": {
      "text/plain": [
       "populasi    500.0\n",
       "turis        89.0\n",
       "Name: Amsterdam, dtype: float64"
      ]
     },
     "execution_count": 56,
     "metadata": {},
     "output_type": "execute_result"
    }
   ],
   "source": [
    "# cara untuk tetap menggunakan angka sebagai index, misalnya ambil data baris pertama\n",
    "df_kota.iloc[0] # ini jadi series karena hanya dapat index dan values kolomnya"
   ]
  },
  {
   "cell_type": "code",
   "execution_count": 57,
   "metadata": {},
   "outputs": [
    {
     "data": {
      "text/html": [
       "<div>\n",
       "<style scoped>\n",
       "    .dataframe tbody tr th:only-of-type {\n",
       "        vertical-align: middle;\n",
       "    }\n",
       "\n",
       "    .dataframe tbody tr th {\n",
       "        vertical-align: top;\n",
       "    }\n",
       "\n",
       "    .dataframe thead th {\n",
       "        text-align: right;\n",
       "    }\n",
       "</style>\n",
       "<table border=\"1\" class=\"dataframe\">\n",
       "  <thead>\n",
       "    <tr style=\"text-align: right;\">\n",
       "      <th></th>\n",
       "      <th>populasi</th>\n",
       "      <th>turis</th>\n",
       "    </tr>\n",
       "  </thead>\n",
       "  <tbody>\n",
       "    <tr>\n",
       "      <th>Amsterdam</th>\n",
       "      <td>500</td>\n",
       "      <td>89.0</td>\n",
       "    </tr>\n",
       "  </tbody>\n",
       "</table>\n",
       "</div>"
      ],
      "text/plain": [
       "           populasi  turis\n",
       "Amsterdam       500   89.0"
      ]
     },
     "execution_count": 57,
     "metadata": {},
     "output_type": "execute_result"
    }
   ],
   "source": [
    "df_kota.iloc[[0]] # ini tetap jadi dataframe, dengan judul kolom masih ada"
   ]
  },
  {
   "cell_type": "code",
   "execution_count": 58,
   "metadata": {},
   "outputs": [
    {
     "data": {
      "text/html": [
       "<div>\n",
       "<style scoped>\n",
       "    .dataframe tbody tr th:only-of-type {\n",
       "        vertical-align: middle;\n",
       "    }\n",
       "\n",
       "    .dataframe tbody tr th {\n",
       "        vertical-align: top;\n",
       "    }\n",
       "\n",
       "    .dataframe thead th {\n",
       "        text-align: right;\n",
       "    }\n",
       "</style>\n",
       "<table border=\"1\" class=\"dataframe\">\n",
       "  <thead>\n",
       "    <tr style=\"text-align: right;\">\n",
       "      <th></th>\n",
       "      <th>populasi</th>\n",
       "      <th>turis</th>\n",
       "    </tr>\n",
       "  </thead>\n",
       "  <tbody>\n",
       "    <tr>\n",
       "      <th>Amsterdam</th>\n",
       "      <td>500</td>\n",
       "      <td>89.0</td>\n",
       "    </tr>\n",
       "    <tr>\n",
       "      <th>Toronto</th>\n",
       "      <td>7000</td>\n",
       "      <td>NaN</td>\n",
       "    </tr>\n",
       "  </tbody>\n",
       "</table>\n",
       "</div>"
      ],
      "text/plain": [
       "           populasi  turis\n",
       "Amsterdam       500   89.0\n",
       "Toronto        7000    NaN"
      ]
     },
     "execution_count": 58,
     "metadata": {},
     "output_type": "execute_result"
    }
   ],
   "source": [
    "# ambil data baris ke1 dan ke3, berarti index 0 dan 2\n",
    "df_kota.iloc[[0,2]]"
   ]
  },
  {
   "cell_type": "code",
   "execution_count": 54,
   "metadata": {},
   "outputs": [
    {
     "data": {
      "text/plain": [
       "Amsterdam     500\n",
       "Tokyo        3257\n",
       "Toronto      7000\n",
       "Name: populasi, dtype: int64"
      ]
     },
     "execution_count": 54,
     "metadata": {},
     "output_type": "execute_result"
    }
   ],
   "source": [
    "# tanpa .loc yang kita ambil adalah per kolomnya\n",
    "# misalnya mau ambil populasi saja\n",
    "df_kota['populasi'] # dapat series 1D data index dan populasi"
   ]
  },
  {
   "cell_type": "code",
   "execution_count": 55,
   "metadata": {},
   "outputs": [
    {
     "data": {
      "text/html": [
       "<div>\n",
       "<style scoped>\n",
       "    .dataframe tbody tr th:only-of-type {\n",
       "        vertical-align: middle;\n",
       "    }\n",
       "\n",
       "    .dataframe tbody tr th {\n",
       "        vertical-align: top;\n",
       "    }\n",
       "\n",
       "    .dataframe thead th {\n",
       "        text-align: right;\n",
       "    }\n",
       "</style>\n",
       "<table border=\"1\" class=\"dataframe\">\n",
       "  <thead>\n",
       "    <tr style=\"text-align: right;\">\n",
       "      <th></th>\n",
       "      <th>populasi</th>\n",
       "    </tr>\n",
       "  </thead>\n",
       "  <tbody>\n",
       "    <tr>\n",
       "      <th>Amsterdam</th>\n",
       "      <td>500</td>\n",
       "    </tr>\n",
       "    <tr>\n",
       "      <th>Tokyo</th>\n",
       "      <td>3257</td>\n",
       "    </tr>\n",
       "    <tr>\n",
       "      <th>Toronto</th>\n",
       "      <td>7000</td>\n",
       "    </tr>\n",
       "  </tbody>\n",
       "</table>\n",
       "</div>"
      ],
      "text/plain": [
       "           populasi\n",
       "Amsterdam       500\n",
       "Tokyo          3257\n",
       "Toronto        7000"
      ]
     },
     "execution_count": 55,
     "metadata": {},
     "output_type": "execute_result"
    }
   ],
   "source": [
    "df_kota[['populasi']] # masih berbentuk dataframe"
   ]
  },
  {
   "cell_type": "code",
   "execution_count": 59,
   "metadata": {},
   "outputs": [
    {
     "data": {
      "text/html": [
       "<div>\n",
       "<style scoped>\n",
       "    .dataframe tbody tr th:only-of-type {\n",
       "        vertical-align: middle;\n",
       "    }\n",
       "\n",
       "    .dataframe tbody tr th {\n",
       "        vertical-align: top;\n",
       "    }\n",
       "\n",
       "    .dataframe thead th {\n",
       "        text-align: right;\n",
       "    }\n",
       "</style>\n",
       "<table border=\"1\" class=\"dataframe\">\n",
       "  <thead>\n",
       "    <tr style=\"text-align: right;\">\n",
       "      <th></th>\n",
       "      <th>populasi</th>\n",
       "      <th>turis</th>\n",
       "    </tr>\n",
       "  </thead>\n",
       "  <tbody>\n",
       "    <tr>\n",
       "      <th>Amsterdam</th>\n",
       "      <td>500</td>\n",
       "      <td>89.0</td>\n",
       "    </tr>\n",
       "    <tr>\n",
       "      <th>Tokyo</th>\n",
       "      <td>3257</td>\n",
       "      <td>102.0</td>\n",
       "    </tr>\n",
       "    <tr>\n",
       "      <th>Toronto</th>\n",
       "      <td>7000</td>\n",
       "      <td>NaN</td>\n",
       "    </tr>\n",
       "  </tbody>\n",
       "</table>\n",
       "</div>"
      ],
      "text/plain": [
       "           populasi  turis\n",
       "Amsterdam       500   89.0\n",
       "Tokyo          3257  102.0\n",
       "Toronto        7000    NaN"
      ]
     },
     "execution_count": 59,
     "metadata": {},
     "output_type": "execute_result"
    }
   ],
   "source": [
    "df_kota"
   ]
  },
  {
   "cell_type": "code",
   "execution_count": 60,
   "metadata": {},
   "outputs": [
    {
     "data": {
      "text/plain": [
       "500"
      ]
     },
     "execution_count": 60,
     "metadata": {},
     "output_type": "execute_result"
    }
   ],
   "source": [
    "# ambil populasi amsterdam saja\n",
    "df_kota.loc['Amsterdam', 'populasi']"
   ]
  },
  {
   "cell_type": "markdown",
   "metadata": {},
   "source": [
    "# Query dataset\n",
    "bisa gunakan pertanyaan sebagai kondisi ambil datanya"
   ]
  },
  {
   "cell_type": "code",
   "execution_count": 61,
   "metadata": {},
   "outputs": [
    {
     "data": {
      "text/html": [
       "<div>\n",
       "<style scoped>\n",
       "    .dataframe tbody tr th:only-of-type {\n",
       "        vertical-align: middle;\n",
       "    }\n",
       "\n",
       "    .dataframe tbody tr th {\n",
       "        vertical-align: top;\n",
       "    }\n",
       "\n",
       "    .dataframe thead th {\n",
       "        text-align: right;\n",
       "    }\n",
       "</style>\n",
       "<table border=\"1\" class=\"dataframe\">\n",
       "  <thead>\n",
       "    <tr style=\"text-align: right;\">\n",
       "      <th></th>\n",
       "      <th>populasi</th>\n",
       "      <th>turis</th>\n",
       "    </tr>\n",
       "  </thead>\n",
       "  <tbody>\n",
       "    <tr>\n",
       "      <th>Amsterdam</th>\n",
       "      <td>500</td>\n",
       "      <td>89.0</td>\n",
       "    </tr>\n",
       "    <tr>\n",
       "      <th>Tokyo</th>\n",
       "      <td>3257</td>\n",
       "      <td>102.0</td>\n",
       "    </tr>\n",
       "    <tr>\n",
       "      <th>Toronto</th>\n",
       "      <td>7000</td>\n",
       "      <td>NaN</td>\n",
       "    </tr>\n",
       "  </tbody>\n",
       "</table>\n",
       "</div>"
      ],
      "text/plain": [
       "           populasi  turis\n",
       "Amsterdam       500   89.0\n",
       "Tokyo          3257  102.0\n",
       "Toronto        7000    NaN"
      ]
     },
     "execution_count": 61,
     "metadata": {},
     "output_type": "execute_result"
    }
   ],
   "source": [
    "df_kota"
   ]
  },
  {
   "cell_type": "code",
   "execution_count": 62,
   "metadata": {},
   "outputs": [
    {
     "data": {
      "text/html": [
       "<div>\n",
       "<style scoped>\n",
       "    .dataframe tbody tr th:only-of-type {\n",
       "        vertical-align: middle;\n",
       "    }\n",
       "\n",
       "    .dataframe tbody tr th {\n",
       "        vertical-align: top;\n",
       "    }\n",
       "\n",
       "    .dataframe thead th {\n",
       "        text-align: right;\n",
       "    }\n",
       "</style>\n",
       "<table border=\"1\" class=\"dataframe\">\n",
       "  <thead>\n",
       "    <tr style=\"text-align: right;\">\n",
       "      <th></th>\n",
       "      <th>populasi</th>\n",
       "      <th>turis</th>\n",
       "    </tr>\n",
       "  </thead>\n",
       "  <tbody>\n",
       "    <tr>\n",
       "      <th>Tokyo</th>\n",
       "      <td>3257</td>\n",
       "      <td>102.0</td>\n",
       "    </tr>\n",
       "    <tr>\n",
       "      <th>Toronto</th>\n",
       "      <td>7000</td>\n",
       "      <td>NaN</td>\n",
       "    </tr>\n",
       "  </tbody>\n",
       "</table>\n",
       "</div>"
      ],
      "text/plain": [
       "         populasi  turis\n",
       "Tokyo        3257  102.0\n",
       "Toronto      7000    NaN"
      ]
     },
     "execution_count": 62,
     "metadata": {},
     "output_type": "execute_result"
    }
   ],
   "source": [
    "# ambil yang populasi diatas 1000 saja\n",
    "df_kota[df_kota['populasi'] > 1000]"
   ]
  },
  {
   "cell_type": "code",
   "execution_count": 63,
   "metadata": {},
   "outputs": [
    {
     "data": {
      "text/html": [
       "<div>\n",
       "<style scoped>\n",
       "    .dataframe tbody tr th:only-of-type {\n",
       "        vertical-align: middle;\n",
       "    }\n",
       "\n",
       "    .dataframe tbody tr th {\n",
       "        vertical-align: top;\n",
       "    }\n",
       "\n",
       "    .dataframe thead th {\n",
       "        text-align: right;\n",
       "    }\n",
       "</style>\n",
       "<table border=\"1\" class=\"dataframe\">\n",
       "  <thead>\n",
       "    <tr style=\"text-align: right;\">\n",
       "      <th></th>\n",
       "      <th>populasi</th>\n",
       "      <th>turis</th>\n",
       "    </tr>\n",
       "  </thead>\n",
       "  <tbody>\n",
       "    <tr>\n",
       "      <th>Tokyo</th>\n",
       "      <td>3257</td>\n",
       "      <td>102.0</td>\n",
       "    </tr>\n",
       "  </tbody>\n",
       "</table>\n",
       "</div>"
      ],
      "text/plain": [
       "       populasi  turis\n",
       "Tokyo      3257  102.0"
      ]
     },
     "execution_count": 63,
     "metadata": {},
     "output_type": "execute_result"
    }
   ],
   "source": [
    "# ambil yang turis lebih dari 100 saja\n",
    "df_kota[df_kota['turis'] > 100]"
   ]
  },
  {
   "cell_type": "code",
   "execution_count": 64,
   "metadata": {},
   "outputs": [
    {
     "data": {
      "text/html": [
       "<div>\n",
       "<style scoped>\n",
       "    .dataframe tbody tr th:only-of-type {\n",
       "        vertical-align: middle;\n",
       "    }\n",
       "\n",
       "    .dataframe tbody tr th {\n",
       "        vertical-align: top;\n",
       "    }\n",
       "\n",
       "    .dataframe thead th {\n",
       "        text-align: right;\n",
       "    }\n",
       "</style>\n",
       "<table border=\"1\" class=\"dataframe\">\n",
       "  <thead>\n",
       "    <tr style=\"text-align: right;\">\n",
       "      <th></th>\n",
       "      <th>populasi</th>\n",
       "      <th>turis</th>\n",
       "    </tr>\n",
       "  </thead>\n",
       "  <tbody>\n",
       "    <tr>\n",
       "      <th>Tokyo</th>\n",
       "      <td>3257</td>\n",
       "      <td>102.0</td>\n",
       "    </tr>\n",
       "  </tbody>\n",
       "</table>\n",
       "</div>"
      ],
      "text/plain": [
       "       populasi  turis\n",
       "Tokyo      3257  102.0"
      ]
     },
     "execution_count": 64,
     "metadata": {},
     "output_type": "execute_result"
    }
   ],
   "source": [
    "turis100 = (df_kota['turis'] > 100)\n",
    "df_kota[turis100]"
   ]
  },
  {
   "cell_type": "markdown",
   "metadata": {},
   "source": [
    "# Kembali ke dataset NBA kita"
   ]
  },
  {
   "cell_type": "code",
   "execution_count": 66,
   "metadata": {},
   "outputs": [
    {
     "name": "stdout",
     "output_type": "stream",
     "text": [
      "<class 'pandas.core.frame.DataFrame'>\n",
      "RangeIndex: 126314 entries, 0 to 126313\n",
      "Data columns (total 23 columns):\n",
      " #   Column         Non-Null Count   Dtype         \n",
      "---  ------         --------------   -----         \n",
      " 0   gameorder      126314 non-null  int64         \n",
      " 1   game_id        126314 non-null  object        \n",
      " 2   lg_id          126314 non-null  object        \n",
      " 3   _iscopy        126314 non-null  int64         \n",
      " 4   year_id        126314 non-null  int64         \n",
      " 5   date_game      126314 non-null  datetime64[ns]\n",
      " 6   seasongame     126314 non-null  int64         \n",
      " 7   is_playoffs    126314 non-null  int64         \n",
      " 8   team_id        126314 non-null  object        \n",
      " 9   fran_id        126314 non-null  object        \n",
      " 10  pts            126314 non-null  int64         \n",
      " 11  elo_i          126314 non-null  float64       \n",
      " 12  elo_n          126314 non-null  float64       \n",
      " 13  win_equiv      126314 non-null  float64       \n",
      " 14  opp_id         126314 non-null  object        \n",
      " 15  opp_fran       126314 non-null  object        \n",
      " 16  opp_pts        126314 non-null  int64         \n",
      " 17  opp_elo_i      126314 non-null  float64       \n",
      " 18  opp_elo_n      126314 non-null  float64       \n",
      " 19  game_location  126314 non-null  object        \n",
      " 20  game_result    126314 non-null  object        \n",
      " 21  forecast       126314 non-null  float64       \n",
      " 22  notes          5424 non-null    object        \n",
      "dtypes: datetime64[ns](1), float64(6), int64(7), object(9)\n",
      "memory usage: 22.2+ MB\n"
     ]
    }
   ],
   "source": [
    "nba.info()"
   ]
  },
  {
   "cell_type": "code",
   "execution_count": 70,
   "metadata": {},
   "outputs": [
    {
     "name": "stdout",
     "output_type": "stream",
     "text": [
      "<class 'pandas.core.frame.DataFrame'>\n",
      "RangeIndex: 126314 entries, 0 to 126313\n",
      "Data columns (total 16 columns):\n",
      " #   Column         Non-Null Count   Dtype         \n",
      "---  ------         --------------   -----         \n",
      " 0   gameorder      126314 non-null  int64         \n",
      " 1   game_id        126314 non-null  object        \n",
      " 2   lg_id          126314 non-null  object        \n",
      " 3   _iscopy        126314 non-null  int64         \n",
      " 4   year_id        126314 non-null  int64         \n",
      " 5   date_game      126314 non-null  datetime64[ns]\n",
      " 6   seasongame     126314 non-null  int64         \n",
      " 7   team_id        126314 non-null  object        \n",
      " 8   fran_id        126314 non-null  object        \n",
      " 9   pts            126314 non-null  int64         \n",
      " 10  opp_id         126314 non-null  object        \n",
      " 11  opp_fran       126314 non-null  object        \n",
      " 12  opp_pts        126314 non-null  int64         \n",
      " 13  game_location  126314 non-null  object        \n",
      " 14  game_result    126314 non-null  object        \n",
      " 15  notes          5424 non-null    object        \n",
      "dtypes: datetime64[ns](1), int64(6), object(9)\n",
      "memory usage: 15.4+ MB\n"
     ]
    }
   ],
   "source": [
    "# rapiin data, hapus kolom yang tidak mau kita pakai, kita handle juga missing data\n",
    "# hapus kolom\n",
    "kolom_hapus = ['elo_i', 'elo_n', 'opp_elo_i', 'opp_elo_n', 'forecast', 'win_equiv', 'is_playoffs']\n",
    "nba_dropped = nba.drop(columns=kolom_hapus)\n",
    "nba_dropped.info()"
   ]
  },
  {
   "cell_type": "code",
   "execution_count": 71,
   "metadata": {},
   "outputs": [
    {
     "data": {
      "text/html": [
       "<div>\n",
       "<style scoped>\n",
       "    .dataframe tbody tr th:only-of-type {\n",
       "        vertical-align: middle;\n",
       "    }\n",
       "\n",
       "    .dataframe tbody tr th {\n",
       "        vertical-align: top;\n",
       "    }\n",
       "\n",
       "    .dataframe thead th {\n",
       "        text-align: right;\n",
       "    }\n",
       "</style>\n",
       "<table border=\"1\" class=\"dataframe\">\n",
       "  <thead>\n",
       "    <tr style=\"text-align: right;\">\n",
       "      <th></th>\n",
       "      <th>gameorder</th>\n",
       "      <th>game_id</th>\n",
       "      <th>lg_id</th>\n",
       "      <th>_iscopy</th>\n",
       "      <th>year_id</th>\n",
       "      <th>date_game</th>\n",
       "      <th>seasongame</th>\n",
       "      <th>team_id</th>\n",
       "      <th>fran_id</th>\n",
       "      <th>pts</th>\n",
       "      <th>opp_id</th>\n",
       "      <th>opp_fran</th>\n",
       "      <th>opp_pts</th>\n",
       "      <th>game_location</th>\n",
       "      <th>game_result</th>\n",
       "      <th>notes</th>\n",
       "    </tr>\n",
       "  </thead>\n",
       "  <tbody>\n",
       "    <tr>\n",
       "      <th>0</th>\n",
       "      <td>1</td>\n",
       "      <td>194611010TRH</td>\n",
       "      <td>NBA</td>\n",
       "      <td>0</td>\n",
       "      <td>1947</td>\n",
       "      <td>1946-11-01</td>\n",
       "      <td>1</td>\n",
       "      <td>TRH</td>\n",
       "      <td>Huskies</td>\n",
       "      <td>66</td>\n",
       "      <td>NYK</td>\n",
       "      <td>Knicks</td>\n",
       "      <td>68</td>\n",
       "      <td>H</td>\n",
       "      <td>L</td>\n",
       "      <td>NaN</td>\n",
       "    </tr>\n",
       "  </tbody>\n",
       "</table>\n",
       "</div>"
      ],
      "text/plain": [
       "   gameorder       game_id lg_id  _iscopy  year_id  date_game  seasongame  \\\n",
       "0          1  194611010TRH   NBA        0     1947 1946-11-01           1   \n",
       "\n",
       "  team_id  fran_id  pts opp_id opp_fran  opp_pts game_location game_result  \\\n",
       "0     TRH  Huskies   66    NYK   Knicks       68             H           L   \n",
       "\n",
       "  notes  \n",
       "0   NaN  "
      ]
     },
     "execution_count": 71,
     "metadata": {},
     "output_type": "execute_result"
    }
   ],
   "source": [
    "nba_dropped.head(1)"
   ]
  },
  {
   "cell_type": "code",
   "execution_count": 78,
   "metadata": {},
   "outputs": [
    {
     "name": "stdout",
     "output_type": "stream",
     "text": [
      "<class 'pandas.core.frame.DataFrame'>\n",
      "Int64Index: 126314 entries, 0 to 126313\n",
      "Data columns (total 16 columns):\n",
      " #   Column    Non-Null Count   Dtype         \n",
      "---  ------    --------------   -----         \n",
      " 0   order     126314 non-null  int64         \n",
      " 1   id        126314 non-null  object        \n",
      " 2   league    126314 non-null  object        \n",
      " 3   _iscopy   126314 non-null  int64         \n",
      " 4   year      126314 non-null  int64         \n",
      " 5   date      126314 non-null  datetime64[ns]\n",
      " 6   season    126314 non-null  int64         \n",
      " 7   team_id   126314 non-null  object        \n",
      " 8   fran_id   126314 non-null  object        \n",
      " 9   pts       126314 non-null  int64         \n",
      " 10  opp_id    126314 non-null  object        \n",
      " 11  opp_fran  126314 non-null  object        \n",
      " 12  opp_pts   126314 non-null  int64         \n",
      " 13  location  126314 non-null  object        \n",
      " 14  result    126314 non-null  object        \n",
      " 15  notes     5424 non-null    object        \n",
      "dtypes: datetime64[ns](1), int64(6), object(9)\n",
      "memory usage: 16.4+ MB\n"
     ]
    }
   ],
   "source": [
    "# ganti judul kolom biar lebih mudah\n",
    "nba_dropped = nba_dropped.rename(columns={\"gameorder\": \"order\",\n",
    "                                           \"game_id\": \"id\",\n",
    "                                           \"lg_id\": \"league\",\n",
    "                                           \"year_id\": \"year\",\n",
    "                                           \"date_game\": \"date\",\n",
    "                                           \"seasongame\": \"season\",\n",
    "                                           \"game_location\": \"location\",\n",
    "                                           \"game_result\": \"result\"})\n",
    "\n",
    "nba_dropped.info()"
   ]
  },
  {
   "cell_type": "code",
   "execution_count": 124,
   "metadata": {},
   "outputs": [
    {
     "data": {
      "text/plain": [
       "order       0\n",
       "id          0\n",
       "league      0\n",
       "_iscopy     0\n",
       "year        0\n",
       "date        0\n",
       "season      0\n",
       "team_id     0\n",
       "fran_id     0\n",
       "pts         0\n",
       "opp_id      0\n",
       "opp_fran    0\n",
       "opp_pts     0\n",
       "location    0\n",
       "result      0\n",
       "notes       0\n",
       "dtype: int64"
      ]
     },
     "execution_count": 124,
     "metadata": {},
     "output_type": "execute_result"
    }
   ],
   "source": [
    "# untuk cari data kosong kita bisa pakai isnull() atau isna() - selain dilihat di info()\n",
    "nba_dropped.isnull().sum()"
   ]
  },
  {
   "cell_type": "code",
   "execution_count": 79,
   "metadata": {},
   "outputs": [
    {
     "data": {
      "text/html": [
       "<div>\n",
       "<style scoped>\n",
       "    .dataframe tbody tr th:only-of-type {\n",
       "        vertical-align: middle;\n",
       "    }\n",
       "\n",
       "    .dataframe tbody tr th {\n",
       "        vertical-align: top;\n",
       "    }\n",
       "\n",
       "    .dataframe thead th {\n",
       "        text-align: right;\n",
       "    }\n",
       "</style>\n",
       "<table border=\"1\" class=\"dataframe\">\n",
       "  <thead>\n",
       "    <tr style=\"text-align: right;\">\n",
       "      <th></th>\n",
       "      <th>order</th>\n",
       "      <th>id</th>\n",
       "      <th>league</th>\n",
       "      <th>_iscopy</th>\n",
       "      <th>year</th>\n",
       "      <th>date</th>\n",
       "      <th>season</th>\n",
       "      <th>team_id</th>\n",
       "      <th>fran_id</th>\n",
       "      <th>pts</th>\n",
       "      <th>opp_id</th>\n",
       "      <th>opp_fran</th>\n",
       "      <th>opp_pts</th>\n",
       "      <th>location</th>\n",
       "      <th>result</th>\n",
       "      <th>notes</th>\n",
       "    </tr>\n",
       "  </thead>\n",
       "  <tbody>\n",
       "    <tr>\n",
       "      <th>930</th>\n",
       "      <td>466</td>\n",
       "      <td>194801300BLB</td>\n",
       "      <td>NBA</td>\n",
       "      <td>1</td>\n",
       "      <td>1948</td>\n",
       "      <td>1948-01-30</td>\n",
       "      <td>28</td>\n",
       "      <td>WSC</td>\n",
       "      <td>Capitols</td>\n",
       "      <td>71</td>\n",
       "      <td>BLB</td>\n",
       "      <td>Baltimore</td>\n",
       "      <td>95</td>\n",
       "      <td>A</td>\n",
       "      <td>L</td>\n",
       "      <td>at Baltimore's Fifth Regiment Armory</td>\n",
       "    </tr>\n",
       "    <tr>\n",
       "      <th>931</th>\n",
       "      <td>466</td>\n",
       "      <td>194801300BLB</td>\n",
       "      <td>NBA</td>\n",
       "      <td>0</td>\n",
       "      <td>1948</td>\n",
       "      <td>1948-01-30</td>\n",
       "      <td>31</td>\n",
       "      <td>BLB</td>\n",
       "      <td>Baltimore</td>\n",
       "      <td>95</td>\n",
       "      <td>WSC</td>\n",
       "      <td>Capitols</td>\n",
       "      <td>71</td>\n",
       "      <td>H</td>\n",
       "      <td>W</td>\n",
       "      <td>at Baltimore's Fifth Regiment Armory</td>\n",
       "    </tr>\n",
       "    <tr>\n",
       "      <th>1084</th>\n",
       "      <td>543</td>\n",
       "      <td>194803230CHS</td>\n",
       "      <td>NBA</td>\n",
       "      <td>1</td>\n",
       "      <td>1948</td>\n",
       "      <td>1948-03-23</td>\n",
       "      <td>49</td>\n",
       "      <td>WSC</td>\n",
       "      <td>Capitols</td>\n",
       "      <td>70</td>\n",
       "      <td>CHS</td>\n",
       "      <td>Stags</td>\n",
       "      <td>74</td>\n",
       "      <td>A</td>\n",
       "      <td>L</td>\n",
       "      <td>Tiebreaker</td>\n",
       "    </tr>\n",
       "    <tr>\n",
       "      <th>1085</th>\n",
       "      <td>543</td>\n",
       "      <td>194803230CHS</td>\n",
       "      <td>NBA</td>\n",
       "      <td>0</td>\n",
       "      <td>1948</td>\n",
       "      <td>1948-03-23</td>\n",
       "      <td>49</td>\n",
       "      <td>CHS</td>\n",
       "      <td>Stags</td>\n",
       "      <td>74</td>\n",
       "      <td>WSC</td>\n",
       "      <td>Capitols</td>\n",
       "      <td>70</td>\n",
       "      <td>H</td>\n",
       "      <td>W</td>\n",
       "      <td>Tiebreaker</td>\n",
       "    </tr>\n",
       "    <tr>\n",
       "      <th>1088</th>\n",
       "      <td>545</td>\n",
       "      <td>194803250CHS</td>\n",
       "      <td>NBA</td>\n",
       "      <td>1</td>\n",
       "      <td>1948</td>\n",
       "      <td>1948-03-25</td>\n",
       "      <td>49</td>\n",
       "      <td>BLB</td>\n",
       "      <td>Baltimore</td>\n",
       "      <td>75</td>\n",
       "      <td>CHS</td>\n",
       "      <td>Stags</td>\n",
       "      <td>72</td>\n",
       "      <td>A</td>\n",
       "      <td>W</td>\n",
       "      <td>Tiebreaker</td>\n",
       "    </tr>\n",
       "    <tr>\n",
       "      <th>...</th>\n",
       "      <td>...</td>\n",
       "      <td>...</td>\n",
       "      <td>...</td>\n",
       "      <td>...</td>\n",
       "      <td>...</td>\n",
       "      <td>...</td>\n",
       "      <td>...</td>\n",
       "      <td>...</td>\n",
       "      <td>...</td>\n",
       "      <td>...</td>\n",
       "      <td>...</td>\n",
       "      <td>...</td>\n",
       "      <td>...</td>\n",
       "      <td>...</td>\n",
       "      <td>...</td>\n",
       "      <td>...</td>\n",
       "    </tr>\n",
       "    <tr>\n",
       "      <th>122207</th>\n",
       "      <td>61104</td>\n",
       "      <td>201401160ATL</td>\n",
       "      <td>NBA</td>\n",
       "      <td>0</td>\n",
       "      <td>2014</td>\n",
       "      <td>2014-01-16</td>\n",
       "      <td>39</td>\n",
       "      <td>ATL</td>\n",
       "      <td>Hawks</td>\n",
       "      <td>110</td>\n",
       "      <td>BRK</td>\n",
       "      <td>Nets</td>\n",
       "      <td>127</td>\n",
       "      <td>N</td>\n",
       "      <td>L</td>\n",
       "      <td>at London, England</td>\n",
       "    </tr>\n",
       "    <tr>\n",
       "      <th>123916</th>\n",
       "      <td>61959</td>\n",
       "      <td>201411120MIN</td>\n",
       "      <td>NBA</td>\n",
       "      <td>1</td>\n",
       "      <td>2015</td>\n",
       "      <td>2014-11-12</td>\n",
       "      <td>8</td>\n",
       "      <td>HOU</td>\n",
       "      <td>Rockets</td>\n",
       "      <td>113</td>\n",
       "      <td>MIN</td>\n",
       "      <td>Timberwolves</td>\n",
       "      <td>101</td>\n",
       "      <td>N</td>\n",
       "      <td>W</td>\n",
       "      <td>at Mexico City Arena, Mexico City, Mexico</td>\n",
       "    </tr>\n",
       "    <tr>\n",
       "      <th>123917</th>\n",
       "      <td>61959</td>\n",
       "      <td>201411120MIN</td>\n",
       "      <td>NBA</td>\n",
       "      <td>0</td>\n",
       "      <td>2015</td>\n",
       "      <td>2014-11-12</td>\n",
       "      <td>7</td>\n",
       "      <td>MIN</td>\n",
       "      <td>Timberwolves</td>\n",
       "      <td>101</td>\n",
       "      <td>HOU</td>\n",
       "      <td>Rockets</td>\n",
       "      <td>113</td>\n",
       "      <td>N</td>\n",
       "      <td>L</td>\n",
       "      <td>at Mexico City Arena, Mexico City, Mexico</td>\n",
       "    </tr>\n",
       "    <tr>\n",
       "      <th>124862</th>\n",
       "      <td>62432</td>\n",
       "      <td>201501150MIL</td>\n",
       "      <td>NBA</td>\n",
       "      <td>0</td>\n",
       "      <td>2015</td>\n",
       "      <td>2015-01-15</td>\n",
       "      <td>40</td>\n",
       "      <td>MIL</td>\n",
       "      <td>Bucks</td>\n",
       "      <td>95</td>\n",
       "      <td>NYK</td>\n",
       "      <td>Knicks</td>\n",
       "      <td>79</td>\n",
       "      <td>N</td>\n",
       "      <td>W</td>\n",
       "      <td>at The O2, London, England</td>\n",
       "    </tr>\n",
       "    <tr>\n",
       "      <th>124863</th>\n",
       "      <td>62432</td>\n",
       "      <td>201501150MIL</td>\n",
       "      <td>NBA</td>\n",
       "      <td>1</td>\n",
       "      <td>2015</td>\n",
       "      <td>2015-01-15</td>\n",
       "      <td>41</td>\n",
       "      <td>NYK</td>\n",
       "      <td>Knicks</td>\n",
       "      <td>79</td>\n",
       "      <td>MIL</td>\n",
       "      <td>Bucks</td>\n",
       "      <td>95</td>\n",
       "      <td>N</td>\n",
       "      <td>L</td>\n",
       "      <td>at The O2, London, England</td>\n",
       "    </tr>\n",
       "  </tbody>\n",
       "</table>\n",
       "<p>5424 rows × 16 columns</p>\n",
       "</div>"
      ],
      "text/plain": [
       "        order            id league  _iscopy  year       date  season team_id  \\\n",
       "930       466  194801300BLB    NBA        1  1948 1948-01-30      28     WSC   \n",
       "931       466  194801300BLB    NBA        0  1948 1948-01-30      31     BLB   \n",
       "1084      543  194803230CHS    NBA        1  1948 1948-03-23      49     WSC   \n",
       "1085      543  194803230CHS    NBA        0  1948 1948-03-23      49     CHS   \n",
       "1088      545  194803250CHS    NBA        1  1948 1948-03-25      49     BLB   \n",
       "...       ...           ...    ...      ...   ...        ...     ...     ...   \n",
       "122207  61104  201401160ATL    NBA        0  2014 2014-01-16      39     ATL   \n",
       "123916  61959  201411120MIN    NBA        1  2015 2014-11-12       8     HOU   \n",
       "123917  61959  201411120MIN    NBA        0  2015 2014-11-12       7     MIN   \n",
       "124862  62432  201501150MIL    NBA        0  2015 2015-01-15      40     MIL   \n",
       "124863  62432  201501150MIL    NBA        1  2015 2015-01-15      41     NYK   \n",
       "\n",
       "             fran_id  pts opp_id      opp_fran  opp_pts location result  \\\n",
       "930         Capitols   71    BLB     Baltimore       95        A      L   \n",
       "931        Baltimore   95    WSC      Capitols       71        H      W   \n",
       "1084        Capitols   70    CHS         Stags       74        A      L   \n",
       "1085           Stags   74    WSC      Capitols       70        H      W   \n",
       "1088       Baltimore   75    CHS         Stags       72        A      W   \n",
       "...              ...  ...    ...           ...      ...      ...    ...   \n",
       "122207         Hawks  110    BRK          Nets      127        N      L   \n",
       "123916       Rockets  113    MIN  Timberwolves      101        N      W   \n",
       "123917  Timberwolves  101    HOU       Rockets      113        N      L   \n",
       "124862         Bucks   95    NYK        Knicks       79        N      W   \n",
       "124863        Knicks   79    MIL         Bucks       95        N      L   \n",
       "\n",
       "                                            notes  \n",
       "930          at Baltimore's Fifth Regiment Armory  \n",
       "931          at Baltimore's Fifth Regiment Armory  \n",
       "1084                                   Tiebreaker  \n",
       "1085                                   Tiebreaker  \n",
       "1088                                   Tiebreaker  \n",
       "...                                           ...  \n",
       "122207                         at London, England  \n",
       "123916  at Mexico City Arena, Mexico City, Mexico  \n",
       "123917  at Mexico City Arena, Mexico City, Mexico  \n",
       "124862                 at The O2, London, England  \n",
       "124863                 at The O2, London, England  \n",
       "\n",
       "[5424 rows x 16 columns]"
      ]
     },
     "execution_count": 79,
     "metadata": {},
     "output_type": "execute_result"
    }
   ],
   "source": [
    "# hapus data kosong dengan dropna\n",
    "nba_dropped.dropna()"
   ]
  },
  {
   "cell_type": "code",
   "execution_count": 80,
   "metadata": {},
   "outputs": [
    {
     "data": {
      "text/html": [
       "<div>\n",
       "<style scoped>\n",
       "    .dataframe tbody tr th:only-of-type {\n",
       "        vertical-align: middle;\n",
       "    }\n",
       "\n",
       "    .dataframe tbody tr th {\n",
       "        vertical-align: top;\n",
       "    }\n",
       "\n",
       "    .dataframe thead th {\n",
       "        text-align: right;\n",
       "    }\n",
       "</style>\n",
       "<table border=\"1\" class=\"dataframe\">\n",
       "  <thead>\n",
       "    <tr style=\"text-align: right;\">\n",
       "      <th></th>\n",
       "      <th>order</th>\n",
       "      <th>id</th>\n",
       "      <th>league</th>\n",
       "      <th>_iscopy</th>\n",
       "      <th>year</th>\n",
       "      <th>date</th>\n",
       "      <th>season</th>\n",
       "      <th>team_id</th>\n",
       "      <th>fran_id</th>\n",
       "      <th>pts</th>\n",
       "      <th>opp_id</th>\n",
       "      <th>opp_fran</th>\n",
       "      <th>opp_pts</th>\n",
       "      <th>location</th>\n",
       "      <th>result</th>\n",
       "      <th>notes</th>\n",
       "    </tr>\n",
       "  </thead>\n",
       "  <tbody>\n",
       "    <tr>\n",
       "      <th>0</th>\n",
       "      <td>1</td>\n",
       "      <td>194611010TRH</td>\n",
       "      <td>NBA</td>\n",
       "      <td>0</td>\n",
       "      <td>1947</td>\n",
       "      <td>1946-11-01</td>\n",
       "      <td>1</td>\n",
       "      <td>TRH</td>\n",
       "      <td>Huskies</td>\n",
       "      <td>66</td>\n",
       "      <td>NYK</td>\n",
       "      <td>Knicks</td>\n",
       "      <td>68</td>\n",
       "      <td>H</td>\n",
       "      <td>L</td>\n",
       "      <td>tidak ada notes</td>\n",
       "    </tr>\n",
       "    <tr>\n",
       "      <th>1</th>\n",
       "      <td>1</td>\n",
       "      <td>194611010TRH</td>\n",
       "      <td>NBA</td>\n",
       "      <td>1</td>\n",
       "      <td>1947</td>\n",
       "      <td>1946-11-01</td>\n",
       "      <td>1</td>\n",
       "      <td>NYK</td>\n",
       "      <td>Knicks</td>\n",
       "      <td>68</td>\n",
       "      <td>TRH</td>\n",
       "      <td>Huskies</td>\n",
       "      <td>66</td>\n",
       "      <td>A</td>\n",
       "      <td>W</td>\n",
       "      <td>tidak ada notes</td>\n",
       "    </tr>\n",
       "    <tr>\n",
       "      <th>2</th>\n",
       "      <td>2</td>\n",
       "      <td>194611020CHS</td>\n",
       "      <td>NBA</td>\n",
       "      <td>0</td>\n",
       "      <td>1947</td>\n",
       "      <td>1946-11-02</td>\n",
       "      <td>1</td>\n",
       "      <td>CHS</td>\n",
       "      <td>Stags</td>\n",
       "      <td>63</td>\n",
       "      <td>NYK</td>\n",
       "      <td>Knicks</td>\n",
       "      <td>47</td>\n",
       "      <td>H</td>\n",
       "      <td>W</td>\n",
       "      <td>tidak ada notes</td>\n",
       "    </tr>\n",
       "    <tr>\n",
       "      <th>3</th>\n",
       "      <td>2</td>\n",
       "      <td>194611020CHS</td>\n",
       "      <td>NBA</td>\n",
       "      <td>1</td>\n",
       "      <td>1947</td>\n",
       "      <td>1946-11-02</td>\n",
       "      <td>2</td>\n",
       "      <td>NYK</td>\n",
       "      <td>Knicks</td>\n",
       "      <td>47</td>\n",
       "      <td>CHS</td>\n",
       "      <td>Stags</td>\n",
       "      <td>63</td>\n",
       "      <td>A</td>\n",
       "      <td>L</td>\n",
       "      <td>tidak ada notes</td>\n",
       "    </tr>\n",
       "    <tr>\n",
       "      <th>4</th>\n",
       "      <td>3</td>\n",
       "      <td>194611020DTF</td>\n",
       "      <td>NBA</td>\n",
       "      <td>0</td>\n",
       "      <td>1947</td>\n",
       "      <td>1946-11-02</td>\n",
       "      <td>1</td>\n",
       "      <td>DTF</td>\n",
       "      <td>Falcons</td>\n",
       "      <td>33</td>\n",
       "      <td>WSC</td>\n",
       "      <td>Capitols</td>\n",
       "      <td>50</td>\n",
       "      <td>H</td>\n",
       "      <td>L</td>\n",
       "      <td>tidak ada notes</td>\n",
       "    </tr>\n",
       "  </tbody>\n",
       "</table>\n",
       "</div>"
      ],
      "text/plain": [
       "   order            id league  _iscopy  year       date  season team_id  \\\n",
       "0      1  194611010TRH    NBA        0  1947 1946-11-01       1     TRH   \n",
       "1      1  194611010TRH    NBA        1  1947 1946-11-01       1     NYK   \n",
       "2      2  194611020CHS    NBA        0  1947 1946-11-02       1     CHS   \n",
       "3      2  194611020CHS    NBA        1  1947 1946-11-02       2     NYK   \n",
       "4      3  194611020DTF    NBA        0  1947 1946-11-02       1     DTF   \n",
       "\n",
       "   fran_id  pts opp_id  opp_fran  opp_pts location result            notes  \n",
       "0  Huskies   66    NYK    Knicks       68        H      L  tidak ada notes  \n",
       "1   Knicks   68    TRH   Huskies       66        A      W  tidak ada notes  \n",
       "2    Stags   63    NYK    Knicks       47        H      W  tidak ada notes  \n",
       "3   Knicks   47    CHS     Stags       63        A      L  tidak ada notes  \n",
       "4  Falcons   33    WSC  Capitols       50        H      L  tidak ada notes  "
      ]
     },
     "execution_count": 80,
     "metadata": {},
     "output_type": "execute_result"
    }
   ],
   "source": [
    "# sayang segitu banyak data dihapus karena tidak ada notes, kita isi saja notesnya menjadi \"tidak ada notes\"\n",
    "# fillna()\n",
    "nba_dropped['notes'] = nba_dropped['notes'].fillna(value=\"tidak ada notes\")\n",
    "nba_dropped.head()"
   ]
  },
  {
   "cell_type": "code",
   "execution_count": 81,
   "metadata": {},
   "outputs": [
    {
     "name": "stdout",
     "output_type": "stream",
     "text": [
      "<class 'pandas.core.frame.DataFrame'>\n",
      "Int64Index: 126314 entries, 0 to 126313\n",
      "Data columns (total 16 columns):\n",
      " #   Column    Non-Null Count   Dtype         \n",
      "---  ------    --------------   -----         \n",
      " 0   order     126314 non-null  int64         \n",
      " 1   id        126314 non-null  object        \n",
      " 2   league    126314 non-null  object        \n",
      " 3   _iscopy   126314 non-null  int64         \n",
      " 4   year      126314 non-null  int64         \n",
      " 5   date      126314 non-null  datetime64[ns]\n",
      " 6   season    126314 non-null  int64         \n",
      " 7   team_id   126314 non-null  object        \n",
      " 8   fran_id   126314 non-null  object        \n",
      " 9   pts       126314 non-null  int64         \n",
      " 10  opp_id    126314 non-null  object        \n",
      " 11  opp_fran  126314 non-null  object        \n",
      " 12  opp_pts   126314 non-null  int64         \n",
      " 13  location  126314 non-null  object        \n",
      " 14  result    126314 non-null  object        \n",
      " 15  notes     126314 non-null  object        \n",
      "dtypes: datetime64[ns](1), int64(6), object(9)\n",
      "memory usage: 16.4+ MB\n"
     ]
    }
   ],
   "source": [
    "nba_dropped.info()"
   ]
  },
  {
   "cell_type": "code",
   "execution_count": 83,
   "metadata": {},
   "outputs": [],
   "source": [
    "nba = nba_dropped"
   ]
  },
  {
   "cell_type": "code",
   "execution_count": 84,
   "metadata": {},
   "outputs": [
    {
     "data": {
      "text/plain": [
       "team_id  fran_id\n",
       "BOS      Celtics    5997\n",
       "NYK      Knicks     5769\n",
       "LAL      Lakers     5078\n",
       "DET      Pistons    4985\n",
       "PHI      Sixers     4533\n",
       "                    ... \n",
       "PIT      Ironmen      60\n",
       "TRH      Huskies      60\n",
       "INJ      Jets         60\n",
       "DTF      Falcons      60\n",
       "SDS      Sails        11\n",
       "Length: 104, dtype: int64"
      ]
     },
     "execution_count": 84,
     "metadata": {},
     "output_type": "execute_result"
    }
   ],
   "source": [
    "nba[['team_id', 'fran_id']].value_counts()"
   ]
  },
  {
   "cell_type": "markdown",
   "metadata": {},
   "source": [
    "# Analisa data\n",
    "data sudah dibersihkan dari missing values, sudah kita drop kolom tak terpakai, sudah rename kolom biar lebih mudah, sudah kita explorasi sedikit untuk tau sedikit2 tentang datanya.\n",
    "\n",
    "Berikutnya kita perlu membuat pertanyaan untuk di analisa"
   ]
  },
  {
   "cell_type": "markdown",
   "metadata": {},
   "source": [
    "1. Mencari game yang dimainkan tim Celtics dimana tim Celtics dan tim lawan pts diatas 100, dan datanya tidak duplikat"
   ]
  },
  {
   "cell_type": "code",
   "execution_count": 90,
   "metadata": {},
   "outputs": [
    {
     "data": {
      "text/html": [
       "<div>\n",
       "<style scoped>\n",
       "    .dataframe tbody tr th:only-of-type {\n",
       "        vertical-align: middle;\n",
       "    }\n",
       "\n",
       "    .dataframe tbody tr th {\n",
       "        vertical-align: top;\n",
       "    }\n",
       "\n",
       "    .dataframe thead th {\n",
       "        text-align: right;\n",
       "    }\n",
       "</style>\n",
       "<table border=\"1\" class=\"dataframe\">\n",
       "  <thead>\n",
       "    <tr style=\"text-align: right;\">\n",
       "      <th></th>\n",
       "      <th>order</th>\n",
       "      <th>id</th>\n",
       "      <th>league</th>\n",
       "      <th>_iscopy</th>\n",
       "      <th>year</th>\n",
       "      <th>date</th>\n",
       "      <th>season</th>\n",
       "      <th>team_id</th>\n",
       "      <th>fran_id</th>\n",
       "      <th>pts</th>\n",
       "      <th>opp_id</th>\n",
       "      <th>opp_fran</th>\n",
       "      <th>opp_pts</th>\n",
       "      <th>location</th>\n",
       "      <th>result</th>\n",
       "      <th>notes</th>\n",
       "    </tr>\n",
       "  </thead>\n",
       "  <tbody>\n",
       "    <tr>\n",
       "      <th>3751</th>\n",
       "      <td>1876</td>\n",
       "      <td>195103130BOS</td>\n",
       "      <td>NBA</td>\n",
       "      <td>0</td>\n",
       "      <td>1951</td>\n",
       "      <td>1951-03-13</td>\n",
       "      <td>66</td>\n",
       "      <td>BOS</td>\n",
       "      <td>Celtics</td>\n",
       "      <td>107</td>\n",
       "      <td>ROC</td>\n",
       "      <td>Kings</td>\n",
       "      <td>111</td>\n",
       "      <td>H</td>\n",
       "      <td>L</td>\n",
       "      <td>tidak ada notes</td>\n",
       "    </tr>\n",
       "    <tr>\n",
       "      <th>4702</th>\n",
       "      <td>2352</td>\n",
       "      <td>195212030BOS</td>\n",
       "      <td>NBA</td>\n",
       "      <td>0</td>\n",
       "      <td>1953</td>\n",
       "      <td>1952-12-03</td>\n",
       "      <td>15</td>\n",
       "      <td>BOS</td>\n",
       "      <td>Celtics</td>\n",
       "      <td>102</td>\n",
       "      <td>MNL</td>\n",
       "      <td>Lakers</td>\n",
       "      <td>106</td>\n",
       "      <td>H</td>\n",
       "      <td>L</td>\n",
       "      <td>tidak ada notes</td>\n",
       "    </tr>\n",
       "    <tr>\n",
       "      <th>5257</th>\n",
       "      <td>2629</td>\n",
       "      <td>195303210BOS</td>\n",
       "      <td>NBA</td>\n",
       "      <td>0</td>\n",
       "      <td>1953</td>\n",
       "      <td>1953-03-21</td>\n",
       "      <td>73</td>\n",
       "      <td>BOS</td>\n",
       "      <td>Celtics</td>\n",
       "      <td>111</td>\n",
       "      <td>SYR</td>\n",
       "      <td>Sixers</td>\n",
       "      <td>105</td>\n",
       "      <td>H</td>\n",
       "      <td>W</td>\n",
       "      <td>tidak ada notes</td>\n",
       "    </tr>\n",
       "    <tr>\n",
       "      <th>5882</th>\n",
       "      <td>2942</td>\n",
       "      <td>195403050BOS</td>\n",
       "      <td>NBA</td>\n",
       "      <td>0</td>\n",
       "      <td>1954</td>\n",
       "      <td>1954-03-05</td>\n",
       "      <td>67</td>\n",
       "      <td>BOS</td>\n",
       "      <td>Celtics</td>\n",
       "      <td>128</td>\n",
       "      <td>MNL</td>\n",
       "      <td>Lakers</td>\n",
       "      <td>106</td>\n",
       "      <td>H</td>\n",
       "      <td>W</td>\n",
       "      <td>tidak ada notes</td>\n",
       "    </tr>\n",
       "    <tr>\n",
       "      <th>6048</th>\n",
       "      <td>3025</td>\n",
       "      <td>195411240BOS</td>\n",
       "      <td>NBA</td>\n",
       "      <td>0</td>\n",
       "      <td>1955</td>\n",
       "      <td>1954-11-24</td>\n",
       "      <td>8</td>\n",
       "      <td>BOS</td>\n",
       "      <td>Celtics</td>\n",
       "      <td>108</td>\n",
       "      <td>NYK</td>\n",
       "      <td>Knicks</td>\n",
       "      <td>103</td>\n",
       "      <td>H</td>\n",
       "      <td>W</td>\n",
       "      <td>tidak ada notes</td>\n",
       "    </tr>\n",
       "  </tbody>\n",
       "</table>\n",
       "</div>"
      ],
      "text/plain": [
       "      order            id league  _iscopy  year       date  season team_id  \\\n",
       "3751   1876  195103130BOS    NBA        0  1951 1951-03-13      66     BOS   \n",
       "4702   2352  195212030BOS    NBA        0  1953 1952-12-03      15     BOS   \n",
       "5257   2629  195303210BOS    NBA        0  1953 1953-03-21      73     BOS   \n",
       "5882   2942  195403050BOS    NBA        0  1954 1954-03-05      67     BOS   \n",
       "6048   3025  195411240BOS    NBA        0  1955 1954-11-24       8     BOS   \n",
       "\n",
       "      fran_id  pts opp_id opp_fran  opp_pts location result            notes  \n",
       "3751  Celtics  107    ROC    Kings      111        H      L  tidak ada notes  \n",
       "4702  Celtics  102    MNL   Lakers      106        H      L  tidak ada notes  \n",
       "5257  Celtics  111    SYR   Sixers      105        H      W  tidak ada notes  \n",
       "5882  Celtics  128    MNL   Lakers      106        H      W  tidak ada notes  \n",
       "6048  Celtics  108    NYK   Knicks      103        H      W  tidak ada notes  "
      ]
     },
     "execution_count": 90,
     "metadata": {},
     "output_type": "execute_result"
    }
   ],
   "source": [
    "df_bos = nba[\n",
    "    (nba['team_id']=='BOS') &\n",
    "    (nba['pts'] > 100) &\n",
    "    (nba['opp_pts'] > 100) &\n",
    "    (nba['_iscopy'] == 0)\n",
    "]\n",
    "\n",
    "df_bos.head()"
   ]
  },
  {
   "cell_type": "code",
   "execution_count": 93,
   "metadata": {},
   "outputs": [
    {
     "data": {
      "text/plain": [
       "opp_id  result\n",
       "NYK     W         94\n",
       "DET     W         79\n",
       "PHI     W         55\n",
       "LAL     W         47\n",
       "CIN     W         46\n",
       "                  ..\n",
       "SDR     L          1\n",
       "KCK     L          1\n",
       "SAC     L          1\n",
       "MLH     L          1\n",
       "MIN     L          1\n",
       "Length: 94, dtype: int64"
      ]
     },
     "execution_count": 93,
     "metadata": {},
     "output_type": "execute_result"
    }
   ],
   "source": [
    "df_bos[['opp_id', 'result']].value_counts()"
   ]
  },
  {
   "cell_type": "markdown",
   "metadata": {},
   "source": [
    "# Group dan Agregasi data\n",
    "- min, max, mean (rata2), sum (jumlah), count (hitung ada brp data), dll"
   ]
  },
  {
   "cell_type": "code",
   "execution_count": 96,
   "metadata": {},
   "outputs": [
    {
     "data": {
      "text/plain": [
       "W    1014\n",
       "L     377\n",
       "Name: result, dtype: int64"
      ]
     },
     "execution_count": 96,
     "metadata": {},
     "output_type": "execute_result"
    }
   ],
   "source": [
    "# dari data boston celtics game tadi, berapa kali menang?\n",
    "df_bos['result'].value_counts()"
   ]
  },
  {
   "cell_type": "code",
   "execution_count": 102,
   "metadata": {},
   "outputs": [
    {
     "data": {
      "text/plain": [
       "opp_id  result\n",
       "ATL     L         15\n",
       "        W         42\n",
       "BAL     L          8\n",
       "        W         15\n",
       "BRK     L          1\n",
       "                  ..\n",
       "VAN     L          1\n",
       "WAS     L          2\n",
       "        W          6\n",
       "WSB     L         15\n",
       "        W         22\n",
       "Name: opp_id, Length: 94, dtype: int64"
      ]
     },
     "execution_count": 102,
     "metadata": {},
     "output_type": "execute_result"
    }
   ],
   "source": [
    "# dari data boston celtics game tadi, lawan setiap tim, berapa kali menang/kalah?\n",
    "df_bos.groupby(['opp_id', 'result'])['opp_id'].count()"
   ]
  },
  {
   "cell_type": "code",
   "execution_count": 101,
   "metadata": {},
   "outputs": [
    {
     "data": {
      "text/plain": [
       "year\n",
       "1951     107\n",
       "1953     213\n",
       "1954     128\n",
       "1955    2106\n",
       "1956    3157\n",
       "        ... \n",
       "2011    1305\n",
       "2012     115\n",
       "2013     669\n",
       "2014     975\n",
       "2015    1293\n",
       "Name: pts, Length: 64, dtype: int64"
      ]
     },
     "execution_count": 101,
     "metadata": {},
     "output_type": "execute_result"
    }
   ],
   "source": [
    "# jumlah pts yang dicetak per tahun oleh BOS ini\n",
    "df_bos.groupby('year')['pts'].sum()"
   ]
  },
  {
   "cell_type": "code",
   "execution_count": 106,
   "metadata": {},
   "outputs": [
    {
     "data": {
      "text/plain": [
       "year  result\n",
       "1968  L         36\n",
       "      W         50\n",
       "1969  L         41\n",
       "      W         44\n",
       "1970  L         43\n",
       "                ..\n",
       "2013  W         73\n",
       "2014  L         27\n",
       "      W         78\n",
       "2015  L         31\n",
       "      W         58\n",
       "Name: id, Length: 96, dtype: int64"
      ]
     },
     "execution_count": 106,
     "metadata": {},
     "output_type": "execute_result"
    }
   ],
   "source": [
    "# tim Spurs dari tahun ke tahun menang/kalah berapa banyak\n",
    "nba[nba['fran_id']=='Spurs'].groupby([\"year\", \"result\"])['id'].count()"
   ]
  },
  {
   "cell_type": "markdown",
   "metadata": {},
   "source": [
    "ini adalah data tim Spurs digrup per tahun dan per menang/kalah lalu dihitung total nya ada berapa"
   ]
  },
  {
   "cell_type": "code",
   "execution_count": 109,
   "metadata": {},
   "outputs": [
    {
     "data": {
      "text/plain": [
       "Lakers          6024\n",
       "Celtics         5997\n",
       "Knicks          5769\n",
       "Warriors        5657\n",
       "Pistons         5650\n",
       "Sixers          5644\n",
       "Hawks           5572\n",
       "Kings           5475\n",
       "Wizards         4582\n",
       "Spurs           4309\n",
       "Bulls           4307\n",
       "Pacers          4227\n",
       "Thunder         4178\n",
       "Rockets         4154\n",
       "Nuggets         4120\n",
       "Nets            4106\n",
       "Suns            4080\n",
       "Bucks           4034\n",
       "Trailblazers    3870\n",
       "Cavaliers       3810\n",
       "Clippers        3733\n",
       "Jazz            3555\n",
       "Mavericks       3013\n",
       "Heat            2371\n",
       "Pelicans        2254\n",
       "Magic           2207\n",
       "Timberwolves    2131\n",
       "Grizzlies       1657\n",
       "Raptors         1634\n",
       "Hornets          894\n",
       "Colonels         846\n",
       "Squires          799\n",
       "Spirits          777\n",
       "Stars            756\n",
       "Sounds           697\n",
       "Baltimore        467\n",
       "Floridians       440\n",
       "Condors          430\n",
       "Capitols         291\n",
       "Olympians        282\n",
       "Sails            274\n",
       "Stags            260\n",
       "Bombers          249\n",
       "Steamrollers     168\n",
       "Packers           72\n",
       "Redskins          65\n",
       "Rebels            63\n",
       "Waterloo          62\n",
       "Denver            62\n",
       "Jets              60\n",
       "Huskies           60\n",
       "Falcons           60\n",
       "Ironmen           60\n",
       "Name: fran_id, dtype: int64"
      ]
     },
     "execution_count": 109,
     "metadata": {},
     "output_type": "execute_result"
    }
   ],
   "source": [
    "# hitung tim Lakers main berapa kali\n",
    "nba['fran_id'].value_counts()"
   ]
  },
  {
   "cell_type": "code",
   "execution_count": 110,
   "metadata": {},
   "outputs": [
    {
     "data": {
      "text/plain": [
       "BOS    5997\n",
       "NYK    5769\n",
       "LAL    5078\n",
       "DET    4985\n",
       "PHI    4533\n",
       "       ... \n",
       "PIT      60\n",
       "TRH      60\n",
       "DTF      60\n",
       "INJ      60\n",
       "SDS      11\n",
       "Name: team_id, Length: 104, dtype: int64"
      ]
     },
     "execution_count": 110,
     "metadata": {},
     "output_type": "execute_result"
    }
   ],
   "source": [
    "nba['team_id'].value_counts()"
   ]
  },
  {
   "cell_type": "code",
   "execution_count": 114,
   "metadata": {},
   "outputs": [
    {
     "data": {
      "text/plain": [
       "LAL    5078\n",
       "MNL     946\n",
       "Name: team_id, dtype: int64"
      ]
     },
     "execution_count": 114,
     "metadata": {},
     "output_type": "execute_result"
    }
   ],
   "source": [
    "nba[nba['fran_id']==\"Lakers\"]['team_id'].value_counts()"
   ]
  },
  {
   "cell_type": "code",
   "execution_count": 119,
   "metadata": {},
   "outputs": [
    {
     "data": {
      "text/plain": [
       "Timestamp('1948-11-04 00:00:00')"
      ]
     },
     "execution_count": 119,
     "metadata": {},
     "output_type": "execute_result"
    }
   ],
   "source": [
    "# tim MNL kapan main pertama dan terakhir kali?\n",
    "nba[nba['team_id']=='MNL']['date'].min()"
   ]
  },
  {
   "cell_type": "code",
   "execution_count": 120,
   "metadata": {},
   "outputs": [
    {
     "data": {
      "text/plain": [
       "Timestamp('1960-03-26 00:00:00')"
      ]
     },
     "execution_count": 120,
     "metadata": {},
     "output_type": "execute_result"
    }
   ],
   "source": [
    "nba[nba['team_id']=='MNL']['date'].max()"
   ]
  },
  {
   "cell_type": "code",
   "execution_count": 121,
   "metadata": {},
   "outputs": [
    {
     "data": {
      "text/plain": [
       "min   1948-11-04\n",
       "max   1960-03-26\n",
       "Name: date, dtype: datetime64[ns]"
      ]
     },
     "execution_count": 121,
     "metadata": {},
     "output_type": "execute_result"
    }
   ],
   "source": [
    "nba[nba['team_id']=='MNL']['date'].agg(['min','max'])"
   ]
  },
  {
   "cell_type": "code",
   "execution_count": 122,
   "metadata": {},
   "outputs": [
    {
     "data": {
      "text/plain": [
       "year  result\n",
       "1968  L         102.722222\n",
       "      W         114.960000\n",
       "1969  L         104.292683\n",
       "      W         117.863636\n",
       "1970  L         113.232558\n",
       "                   ...    \n",
       "2013  W         106.232877\n",
       "2014  L          96.925926\n",
       "      W         108.564103\n",
       "2015  L          97.548387\n",
       "      W         106.224138\n",
       "Name: pts, Length: 96, dtype: float64"
      ]
     },
     "execution_count": 122,
     "metadata": {},
     "output_type": "execute_result"
    }
   ],
   "source": [
    "# tim Spurs dari tahun ke tahun menang/kalah berapa rata2 poin yang didapatkan?\n",
    "nba[nba['fran_id']=='Spurs'].groupby([\"year\", \"result\"])['pts'].mean()"
   ]
  },
  {
   "cell_type": "markdown",
   "metadata": {},
   "source": [
    "# Visualisasi Data\n",
    "pakai package matplotlib"
   ]
  },
  {
   "cell_type": "code",
   "execution_count": 126,
   "metadata": {},
   "outputs": [],
   "source": [
    "# untuk dipakai bikin plot\n",
    "%matplotlib inline \n",
    "\n",
    "# untuk setting graph nya sendiri\n",
    "import matplotlib as mpl \n",
    "\n",
    "# untuk anotasi plot\n",
    "import matplotlib.pyplot as plt "
   ]
  },
  {
   "cell_type": "markdown",
   "metadata": {},
   "source": [
    "style plotnya bisa pilih di https://matplotlib.org/stable/gallery/style_sheets/style_sheets_reference.html \n",
    "\n",
    "contoh, kita gunakan code berikut untuk pilih style 'ggplot'"
   ]
  },
  {
   "cell_type": "code",
   "execution_count": 129,
   "metadata": {},
   "outputs": [],
   "source": [
    "mpl.style.use(['ggplot'])"
   ]
  },
  {
   "cell_type": "markdown",
   "metadata": {},
   "source": [
    "misalnya kita mau analisa total pts yang dicetak oleh tim BOS dari tahun ke tahun - trend nya gimana?"
   ]
  },
  {
   "cell_type": "code",
   "execution_count": 141,
   "metadata": {},
   "outputs": [
    {
     "data": {
      "text/plain": [
       "year\n",
       "1947    3605\n",
       "1948    3530\n",
       "1949    4593\n",
       "1950    5419\n",
       "1951    6028\n",
       "        ... \n",
       "2011    8765\n",
       "2012    7852\n",
       "2013    8312\n",
       "2014    7892\n",
       "2015    8691\n",
       "Name: pts, Length: 69, dtype: int64"
      ]
     },
     "execution_count": 141,
     "metadata": {},
     "output_type": "execute_result"
    }
   ],
   "source": [
    "df = nba[nba['team_id']=='BOS'].groupby('year')['pts'].sum()\n",
    "df_bos = df\n",
    "df"
   ]
  },
  {
   "cell_type": "code",
   "execution_count": 132,
   "metadata": {},
   "outputs": [
    {
     "data": {
      "text/plain": [
       "<AxesSubplot:xlabel='year'>"
      ]
     },
     "execution_count": 132,
     "metadata": {},
     "output_type": "execute_result"
    },
    {
     "data": {
      "image/png": "[encoded data removed]",
      "text/plain": [
       "<Figure size 432x288 with 1 Axes>"
      ]
     },
     "metadata": {},
     "output_type": "display_data"
    }
   ],
   "source": [
    "df.plot()"
   ]
  },
  {
   "cell_type": "markdown",
   "metadata": {},
   "source": [
    "menggunakan function `.plot()` itu membuat plot secara default tipe line\n",
    "\n",
    "sekarang kita edit plot nya supaya punya judul, label y-axis, dan fitur lainnya misalnya ganti warna garis"
   ]
  },
  {
   "cell_type": "code",
   "execution_count": 135,
   "metadata": {},
   "outputs": [
    {
     "data": {
      "text/plain": [
       "Text(0.5, 0, 'Tahun')"
      ]
     },
     "execution_count": 135,
     "metadata": {},
     "output_type": "execute_result"
    },
    {
     "data": {
      "image/png": "[encoded data removed]",
      "text/plain": [
       "<Figure size 432x288 with 1 Axes>"
      ]
     },
     "metadata": {},
     "output_type": "display_data"
    }
   ],
   "source": [
    "df.plot()\n",
    "\n",
    "plt.title(\"Total pts per tahun tim BOS\")\n",
    "plt.ylabel(\"Total pts\")\n",
    "plt.xlabel(\"Tahun\")"
   ]
  },
  {
   "cell_type": "code",
   "execution_count": 140,
   "metadata": {},
   "outputs": [
    {
     "data": {
      "text/plain": [
       "Text(0.5, 0, 'Tahun')"
      ]
     },
     "execution_count": 140,
     "metadata": {},
     "output_type": "execute_result"
    },
    {
     "data": {
      "image/png": "[encoded data removed]",
      "text/plain": [
       "<Figure size 864x432 with 1 Axes>"
      ]
     },
     "metadata": {},
     "output_type": "display_data"
    }
   ],
   "source": [
    "df.plot(color=\"seagreen\", marker=\".\", figsize=(12,6))\n",
    "\n",
    "plt.title(\"Total pts per tahun tim BOS\")\n",
    "plt.ylabel(\"Total pts\")\n",
    "plt.xlabel(\"Tahun\")"
   ]
  },
  {
   "cell_type": "markdown",
   "metadata": {},
   "source": [
    "sejak 1947 total pts per tahun tim BOS ini naik terus, tapi ada penurunan sejak 1991 sampai titik terendah di 1999. setelah itu tim mulai membaik lagi total pts nya."
   ]
  },
  {
   "cell_type": "markdown",
   "metadata": {},
   "source": [
    "Bagaimana dengan tim LAL Lakers, apakah jumlah pts yang didapat tahun ke tahun mirip dengan BOS?"
   ]
  },
  {
   "cell_type": "code",
   "execution_count": 144,
   "metadata": {},
   "outputs": [
    {
     "data": {
      "text/plain": [
       "<AxesSubplot:xlabel='year'>"
      ]
     },
     "execution_count": 144,
     "metadata": {},
     "output_type": "execute_result"
    },
    {
     "data": {
      "image/png": "[encoded data removed]",
      "text/plain": [
       "<Figure size 432x288 with 1 Axes>"
      ]
     },
     "metadata": {},
     "output_type": "display_data"
    }
   ],
   "source": [
    "df_lal = nba[nba['team_id']=='LAL'].groupby('year')['pts'].sum()\n",
    "df_lal.plot()"
   ]
  },
  {
   "cell_type": "code",
   "execution_count": 145,
   "metadata": {},
   "outputs": [
    {
     "data": {
      "text/plain": [
       "Text(0.5, 0, 'Tahun')"
      ]
     },
     "execution_count": 145,
     "metadata": {},
     "output_type": "execute_result"
    },
    {
     "data": {
      "image/png": "[encoded data removed]",
      "text/plain": [
       "<Figure size 864x432 with 1 Axes>"
      ]
     },
     "metadata": {},
     "output_type": "display_data"
    }
   ],
   "source": [
    "df_lal.plot(color=\"purple\", marker=\".\", figsize=(12,6))\n",
    "\n",
    "plt.title(\"Total pts per tahun tim LAL\")\n",
    "plt.ylabel(\"Total pts\")\n",
    "plt.xlabel(\"Tahun\")"
   ]
  },
  {
   "cell_type": "markdown",
   "metadata": {},
   "source": [
    "jumlah pts tim LAL sedikit menurun trend nya dari tahun ke tahun, dengan yang paling parah di tahun 1999"
   ]
  },
  {
   "cell_type": "code",
   "execution_count": 150,
   "metadata": {},
   "outputs": [
    {
     "data": {
      "text/html": [
       "<div>\n",
       "<style scoped>\n",
       "    .dataframe tbody tr th:only-of-type {\n",
       "        vertical-align: middle;\n",
       "    }\n",
       "\n",
       "    .dataframe tbody tr th {\n",
       "        vertical-align: top;\n",
       "    }\n",
       "\n",
       "    .dataframe thead th {\n",
       "        text-align: right;\n",
       "    }\n",
       "</style>\n",
       "<table border=\"1\" class=\"dataframe\">\n",
       "  <thead>\n",
       "    <tr style=\"text-align: right;\">\n",
       "      <th></th>\n",
       "      <th>LAL</th>\n",
       "      <th>BOS</th>\n",
       "    </tr>\n",
       "    <tr>\n",
       "      <th>year</th>\n",
       "      <th></th>\n",
       "      <th></th>\n",
       "    </tr>\n",
       "  </thead>\n",
       "  <tbody>\n",
       "    <tr>\n",
       "      <th>1947</th>\n",
       "      <td>NaN</td>\n",
       "      <td>3605</td>\n",
       "    </tr>\n",
       "    <tr>\n",
       "      <th>1948</th>\n",
       "      <td>NaN</td>\n",
       "      <td>3530</td>\n",
       "    </tr>\n",
       "    <tr>\n",
       "      <th>1949</th>\n",
       "      <td>NaN</td>\n",
       "      <td>4593</td>\n",
       "    </tr>\n",
       "    <tr>\n",
       "      <th>1950</th>\n",
       "      <td>NaN</td>\n",
       "      <td>5419</td>\n",
       "    </tr>\n",
       "    <tr>\n",
       "      <th>1951</th>\n",
       "      <td>NaN</td>\n",
       "      <td>6028</td>\n",
       "    </tr>\n",
       "    <tr>\n",
       "      <th>...</th>\n",
       "      <td>...</td>\n",
       "      <td>...</td>\n",
       "    </tr>\n",
       "    <tr>\n",
       "      <th>2011</th>\n",
       "      <td>9253.0</td>\n",
       "      <td>8765</td>\n",
       "    </tr>\n",
       "    <tr>\n",
       "      <th>2012</th>\n",
       "      <td>7550.0</td>\n",
       "      <td>7852</td>\n",
       "    </tr>\n",
       "    <tr>\n",
       "      <th>2013</th>\n",
       "      <td>8722.0</td>\n",
       "      <td>8312</td>\n",
       "    </tr>\n",
       "    <tr>\n",
       "      <th>2014</th>\n",
       "      <td>8442.0</td>\n",
       "      <td>7892</td>\n",
       "    </tr>\n",
       "    <tr>\n",
       "      <th>2015</th>\n",
       "      <td>8073.0</td>\n",
       "      <td>8691</td>\n",
       "    </tr>\n",
       "  </tbody>\n",
       "</table>\n",
       "<p>69 rows × 2 columns</p>\n",
       "</div>"
      ],
      "text/plain": [
       "         LAL   BOS\n",
       "year              \n",
       "1947     NaN  3605\n",
       "1948     NaN  3530\n",
       "1949     NaN  4593\n",
       "1950     NaN  5419\n",
       "1951     NaN  6028\n",
       "...      ...   ...\n",
       "2011  9253.0  8765\n",
       "2012  7550.0  7852\n",
       "2013  8722.0  8312\n",
       "2014  8442.0  7892\n",
       "2015  8073.0  8691\n",
       "\n",
       "[69 rows x 2 columns]"
      ]
     },
     "execution_count": 150,
     "metadata": {},
     "output_type": "execute_result"
    }
   ],
   "source": [
    "df_lalbos = pd.DataFrame({'LAL': df_lal, 'BOS':df_bos})\n",
    "df_lalbos"
   ]
  },
  {
   "cell_type": "code",
   "execution_count": 154,
   "metadata": {},
   "outputs": [
    {
     "data": {
      "text/plain": [
       "Text(0, 0.5, 'Total pts')"
      ]
     },
     "execution_count": 154,
     "metadata": {},
     "output_type": "execute_result"
    },
    {
     "data": {
      "image/png": "[encoded data removed]",
      "text/plain": [
       "<Figure size 864x432 with 1 Axes>"
      ]
     },
     "metadata": {},
     "output_type": "display_data"
    }
   ],
   "source": [
    "df_lalbos.plot(figsize=(12,6), marker=\".\")\n",
    "\n",
    "plt.title(\"Total pts tim LAL dan BOS tahun ke tahun\")\n",
    "plt.ylabel(\"Total pts\")"
   ]
  },
  {
   "cell_type": "markdown",
   "metadata": {},
   "source": [
    "ternya trend skor per tahun mirip untuk tim LAL dan BOS, mereka ada trean naik nya bareng dan tren turunnya terutama di tahun 1999 juga bareng."
   ]
  },
  {
   "cell_type": "code",
   "execution_count": 159,
   "metadata": {},
   "outputs": [
    {
     "data": {
      "text/plain": [
       "Text(1999.5, 4580, 'event apa di nba yg terjadi?')"
      ]
     },
     "execution_count": 159,
     "metadata": {},
     "output_type": "execute_result"
    },
    {
     "data": {
      "image/png": "[encoded data removed]",
      "text/plain": [
       "<Figure size 864x432 with 1 Axes>"
      ]
     },
     "metadata": {},
     "output_type": "display_data"
    }
   ],
   "source": [
    "df_lalbos.plot(figsize=(12,6), marker=\".\")\n",
    "\n",
    "plt.title(\"Total pts tim LAL dan BOS tahun ke tahun\")\n",
    "plt.ylabel(\"Total pts\")\n",
    "\n",
    "plt.text(1999.5, 4580, \"event apa di nba yg terjadi?\")"
   ]
  },
  {
   "cell_type": "markdown",
   "metadata": {},
   "source": [
    "sepertinya terjadi sesuati dengan nba di tahun 1999 sampai kedua tim BOS dan LAL sama2 memiliki perfomar total skor yang turun drastis di tahun tersebut."
   ]
  },
  {
   "cell_type": "code",
   "execution_count": 165,
   "metadata": {},
   "outputs": [
    {
     "data": {
      "text/plain": [
       "Text(1999.5, 50, 'event apa di nba yg terjadi?')"
      ]
     },
     "execution_count": 165,
     "metadata": {},
     "output_type": "execute_result"
    },
    {
     "data": {
      "image/png": "[encoded data removed]",
      "text/plain": [
       "<Figure size 864x432 with 1 Axes>"
      ]
     },
     "metadata": {},
     "output_type": "display_data"
    }
   ],
   "source": [
    "# cek total game yang dimainkan per tahun oleh tim LAL dan BOS\n",
    "df_lal = nba[nba['team_id']=='LAL'].groupby('year')['id'].count()\n",
    "df_bos = nba[nba['team_id']=='BOS'].groupby('year')['id'].count()\n",
    "df_lalbos = pd.DataFrame({'LAL': df_lal, 'BOS':df_bos})\n",
    "\n",
    "df_lalbos.plot(figsize=(12,6), marker=\".\")\n",
    "\n",
    "plt.title(\"Total game tim LAL dan BOS tahun ke tahun\")\n",
    "plt.ylabel(\"Total game\")\n",
    "\n",
    "plt.text(1999.5, 50, \"event apa di nba yg terjadi?\")"
   ]
  },
  {
   "cell_type": "markdown",
   "metadata": {},
   "source": [
    "disini terlihat kalau total pts yang naik turun tadi sangat bergantung dengan total games yang dimainkan"
   ]
  },
  {
   "cell_type": "markdown",
   "metadata": {},
   "source": [
    "# Tipe Plot\n",
    "- line plot\n",
    "- area plot (untuk membandingkan bbrp line plot)\n",
    "- bar plot (kita bisa melihat skala datanya dari 0)\n",
    "- histogram\n",
    "- pie chart\n",
    "- boxplot\n",
    "- scatter plot"
   ]
  },
  {
   "cell_type": "code",
   "execution_count": 166,
   "metadata": {},
   "outputs": [
    {
     "data": {
      "text/plain": [
       "Text(0, 0.5, 'Total game')"
      ]
     },
     "execution_count": 166,
     "metadata": {},
     "output_type": "execute_result"
    },
    {
     "data": {
      "image/png": "[encoded data removed]",
      "text/plain": [
       "<Figure size 864x432 with 1 Axes>"
      ]
     },
     "metadata": {},
     "output_type": "display_data"
    }
   ],
   "source": [
    "# Area Plot\n",
    "df_lalbos.plot(kind=\"area\", figsize=(12,6))\n",
    "\n",
    "plt.title(\"Total game tim LAL dan BOS tahun ke tahun\")\n",
    "plt.ylabel(\"Total game\")"
   ]
  },
  {
   "cell_type": "markdown",
   "metadata": {},
   "source": [
    "ini adalah area plot yang ditumpuk (stack) jadi garisnya adalah total dari menambahkan semua data yang ada."
   ]
  },
  {
   "cell_type": "code",
   "execution_count": 167,
   "metadata": {},
   "outputs": [
    {
     "data": {
      "text/plain": [
       "Text(0, 0.5, 'Total game')"
      ]
     },
     "execution_count": 167,
     "metadata": {},
     "output_type": "execute_result"
    },
    {
     "data": {
      "image/png": "[encoded data removed]",
      "text/plain": [
       "<Figure size 864x432 with 1 Axes>"
      ]
     },
     "metadata": {},
     "output_type": "display_data"
    }
   ],
   "source": [
    "df_lalbos.plot(kind=\"area\", stacked=False, figsize=(12,6))\n",
    "\n",
    "plt.title(\"Total game tim LAL dan BOS tahun ke tahun\")\n",
    "plt.ylabel(\"Total game\")"
   ]
  },
  {
   "cell_type": "markdown",
   "metadata": {},
   "source": [
    "kalau menggunakan area plot, pastikan yang dibandingkan datanya tidak lebih dari 5 set data sehingga mudah dilihat plot nya tentang apa, tiap warna punya siapa. Disini kita bandingkan 2 set data saja, terlihat area-area dimana LAL unggul, dan area-area dimana BOS unggul."
   ]
  },
  {
   "cell_type": "code",
   "execution_count": 169,
   "metadata": {},
   "outputs": [
    {
     "data": {
      "text/plain": [
       "Text(0, 0.5, 'Total game')"
      ]
     },
     "execution_count": 169,
     "metadata": {},
     "output_type": "execute_result"
    },
    {
     "data": {
      "image/png": "[encoded data removed]",
      "text/plain": [
       "<Figure size 864x432 with 1 Axes>"
      ]
     },
     "metadata": {},
     "output_type": "display_data"
    }
   ],
   "source": [
    "df_lalbos.plot(kind=\"area\", stacked=False, alpha=1, figsize=(12,6))\n",
    "\n",
    "plt.title(\"Total game tim LAL dan BOS tahun ke tahun\")\n",
    "plt.ylabel(\"Total game\")"
   ]
  },
  {
   "cell_type": "markdown",
   "metadata": {},
   "source": [
    "warna sebuah area graph bisa di setting ketipisannya. misalnya membandingkan 5 set data berbeda, bisa buat alpha=0.2 (20% tebal) jadi area dimana 5 set data bertumpuk jadi 100% tebalnya. Tentu bisa juga diset alpha =1 untuk 100% warnanya tidak ada transparansi."
   ]
  },
  {
   "cell_type": "code",
   "execution_count": 171,
   "metadata": {},
   "outputs": [
    {
     "data": {
      "text/plain": [
       "Text(0, 0.5, 'Total game')"
      ]
     },
     "execution_count": 171,
     "metadata": {},
     "output_type": "execute_result"
    },
    {
     "data": {
      "image/png": "[encoded data removed]",
      "text/plain": [
       "<Figure size 1296x432 with 1 Axes>"
      ]
     },
     "metadata": {},
     "output_type": "display_data"
    }
   ],
   "source": [
    "# Bar Plot\n",
    "df_lalbos.plot(kind=\"bar\", figsize=(18,6))\n",
    "\n",
    "plt.title(\"Total game tim LAL dan BOS tahun ke tahun\")\n",
    "plt.ylabel(\"Total game\")"
   ]
  },
  {
   "cell_type": "code",
   "execution_count": 173,
   "metadata": {},
   "outputs": [
    {
     "data": {
      "text/plain": [
       "Text(0, 0.5, 'Tahun')"
      ]
     },
     "execution_count": 173,
     "metadata": {},
     "output_type": "execute_result"
    },
    {
     "data": {
      "image/png": "[encoded data removed]",
      "text/plain": [
       "<Figure size 432x1728 with 1 Axes>"
      ]
     },
     "metadata": {},
     "output_type": "display_data"
    }
   ],
   "source": [
    "# dibuat bar horizontal juga bisa\n",
    "df_lalbos.plot(kind=\"barh\", figsize=(6,24))\n",
    "\n",
    "plt.title(\"Total game tim LAL dan BOS tahun ke tahun\")\n",
    "plt.xlabel(\"Total game\")\n",
    "plt.ylabel(\"Tahun\")"
   ]
  },
  {
   "cell_type": "code",
   "execution_count": null,
   "metadata": {},
   "outputs": [],
   "source": []
  }
 ],
 "metadata": {
  "kernelspec": {
   "display_name": "Python 3",
   "language": "python",
   "name": "python3"
  },
  "language_info": {
   "codemirror_mode": {
    "name": "ipython",
    "version": 3
   },
   "file_extension": ".py",
   "mimetype": "text/x-python",
   "name": "python",
   "nbconvert_exporter": "python",
   "pygments_lexer": "ipython3",
   "version": "3.8.5"
  }
 },
 "nbformat": 4,
 "nbformat_minor": 4
}
