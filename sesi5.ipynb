{
 "cells": [
  {
   "cell_type": "markdown",
   "metadata": {},
   "source": [
    "# Descriptive Statistic\n",
    "teknik statistik yang bertujuan untuk mendeskripsikan datanya.\n",
    "\n",
    "Kita akan coba deskripsikan data dengan melihat \"tengah\" datanya dimana, dan \"penyebaran\" datanya seperti apa.\n",
    "\n",
    "## Population vs Sample\n",
    "population: seluruh data yang berhubungan yang diperlukan\n",
    "\n",
    "contoh kita mau tau rata2 berat badan orang Indonesia. berarti population adalah seluruh orang Indonesia. termasuk Jakarta, termasuk Malang, anak kecil, orang dewasa, kakek nenek... semua semuanya orang Indonesia harus ada di data baru jadilah sebuah data populasi. biasanya kita tidak bisa mendapatkan data populasi.\n",
    "\n",
    "sample: sebagian dari data populasi, representatif.\n",
    "\n",
    "saat ambil sample jangan ambil sebagian demografik saja. jadinya sample kurang akurat berakibat analisa yang kita lakukan ikutan tidak akurat.\n",
    "\n",
    "## Outlier\n",
    "data yang beda sendiri\n",
    "- secara natural terjadi\n",
    "- salah input\n",
    "- efek dari observasi\n",
    "\n",
    "\n",
    "# Measure of Central Tendencry\n",
    "mengukur \"tengah\" sebuah data\n",
    "- mean (rata2)\n",
    "- median: angka yang ada di tengah saat data kita urutkan kecil ke besar..   \n",
    "    misalnya nilai 10 20 30 40, jumlah data genap, kita bisa cari median dengan ambil data tengah (20 dan 30) ditambahkan lalu dibagi 2\n",
    "- mode (modus): melihat angka yang paling sering muncul\n",
    "\n",
    "nama lain median:\n",
    "- quartile 2\n",
    "- percentile 50\n",
    "\n",
    "## Percentile\n",
    "titik dimana angka tersebut lebih tinggi dari x % data lainnya..\n",
    "\n",
    "misalnya Andhika dapat nilai ujian 60. Angka ujian ini ada di percentile ke-90 (90th percentile), artinya nilai Andhika lebih bagus daripada 90% murid di kelasnya.\n",
    "\n",
    "sebaliknya misalnya nilainya dapat 90. Ternyata angka ini ada di percentile ke-30, artinya hanya 30% dari semua murid yang lain yang nilainya dibawah 90.\n",
    "\n",
    "## Quartile\n",
    "beberapa percentile spesial yang punya nama lain:\n",
    "- percentile ke 25 = Quartile 1\n",
    "- percentile ke 50 = Quartile 2 = median\n",
    "- percentile ke 75 = Quartile 3\n",
    "\n",
    "Inter-Quartile Range (IQR) adalah angka Q3 - Q1\n",
    "\n",
    "data outlier adalah data diatas (maximum + 1.5 * IQR) atau dibawah (minimum - 1.5 * IQR)\n",
    "\n",
    "\n",
    "# Measure of Spread\n",
    "mengukur datanya seberapa tersebar\n",
    "- standard deviation\n",
    "- variance = standard deviation kuadrat\n",
    "- range\n",
    "\n",
    "Range adalah jarak antara angka max dan min\n",
    "\n",
    "\n",
    "# Measure of Correlation\n",
    "apakah ada korelasi antara dua set data\n",
    "\n",
    "contoh: apakah ada hubungannya tinggi dengan berat badan.\n",
    "\n",
    "gunakan `correlation coefficient` biasanya dipanggil `r` untuk ukur tingkat korelasi. value r hanya berada di antara -1 dan 1:\n",
    "- r = 1, korelasi positif kuat\n",
    "- r = 0, korelasi tidak ada\n",
    "- r = -1, korelasi negatif kuat\n",
    "\n",
    "`covariance` juga menunjukkan korelasi, tapi karena tidak ada range tertentu, tidak punya min/max, jadi cuma bisa dipakai untuk mengetahui korelasinya positif, tidak ada, atau negatif. kekuatan korelasi tidak ditunjukkan oleh angka ini."
   ]
  },
  {
   "cell_type": "code",
   "execution_count": 1,
   "metadata": {},
   "outputs": [],
   "source": [
    "# import package\n",
    "\n",
    "import math\n",
    "import statistics\n",
    "import numpy as np\n",
    "import scipy.stats\n",
    "import pandas as pd"
   ]
  },
  {
   "cell_type": "markdown",
   "metadata": {},
   "source": [
    "# Mencari mean di Python\n",
    "- mean\n",
    "- weighted mean\n",
    "- geometric mean\n",
    "- harmonic mean"
   ]
  },
  {
   "cell_type": "code",
   "execution_count": 2,
   "metadata": {},
   "outputs": [
    {
     "name": "stdout",
     "output_type": "stream",
     "text": [
      "[8.0, 1, 2.5, 4, 28.0]\n",
      "[ 8.   1.   2.5  4.  28. ]\n",
      "0     8.0\n",
      "1     1.0\n",
      "2     2.5\n",
      "3     4.0\n",
      "4    28.0\n",
      "dtype: float64\n"
     ]
    }
   ],
   "source": [
    "x = [8.0, 1, 2.5, 4, 28.0]\n",
    "x_with_nan = [8.0, 1, 2.5, math.nan, 4, 28.0]\n",
    "\n",
    "y = np.array(x)\n",
    "y_with_nan = np.array(x_with_nan)\n",
    "\n",
    "z = pd.Series(x)\n",
    "z_with_nan = pd.Series(x_with_nan)\n",
    "\n",
    "print(x)\n",
    "print(y)\n",
    "print(z)"
   ]
  },
  {
   "cell_type": "markdown",
   "metadata": {},
   "source": [
    "## Mean (rata2)"
   ]
  },
  {
   "cell_type": "code",
   "execution_count": 3,
   "metadata": {},
   "outputs": [
    {
     "name": "stdout",
     "output_type": "stream",
     "text": [
      "8.7\n",
      "nan\n"
     ]
    }
   ],
   "source": [
    "# bisa pakai package statistics\n",
    "print(statistics.mean(x))\n",
    "print(statistics.mean(x_with_nan))"
   ]
  },
  {
   "cell_type": "code",
   "execution_count": 4,
   "metadata": {},
   "outputs": [
    {
     "name": "stdout",
     "output_type": "stream",
     "text": [
      "8.7\n",
      "nan\n",
      "8.7\n"
     ]
    }
   ],
   "source": [
    "# bisa pakai numpy\n",
    "print(np.mean(y))\n",
    "print(np.mean(y_with_nan))\n",
    "\n",
    "# numpy juga punya function nanmean\n",
    "print(np.nanmean(y_with_nan))"
   ]
  },
  {
   "cell_type": "code",
   "execution_count": 5,
   "metadata": {},
   "outputs": [
    {
     "name": "stdout",
     "output_type": "stream",
     "text": [
      "8.7\n",
      "8.7\n"
     ]
    }
   ],
   "source": [
    "# bisa pakai pandas\n",
    "print(z.mean())\n",
    "print(z_with_nan.mean())"
   ]
  },
  {
   "cell_type": "markdown",
   "metadata": {},
   "source": [
    "## Weighted Mean\n",
    "saat setiap angka punya bobot yang berbeda. misalnya diberi nilai [50, 70, 80]\n",
    "\n",
    "lalu dua nilai pertama bobotnya 20%, nilai ketiga bobotnya 60% karena ujian, berarti rata2 dari nilai ini tidak bisa ditambah semua lalu dibagi seperti mean biasa."
   ]
  },
  {
   "cell_type": "code",
   "execution_count": 6,
   "metadata": {},
   "outputs": [],
   "source": [
    "x = [20,30,80]\n",
    "y = np.array(x)\n",
    "z = pd.Series(x)\n",
    "\n",
    "w = [0.2, 0.2, 0.6] # total berat biasanya 1.0"
   ]
  },
  {
   "cell_type": "code",
   "execution_count": 7,
   "metadata": {},
   "outputs": [
    {
     "name": "stdout",
     "output_type": "stream",
     "text": [
      "58.0\n"
     ]
    }
   ],
   "source": [
    "# pakai numpy dengan numpy array\n",
    "print(np.average(y, weights = w))"
   ]
  },
  {
   "cell_type": "code",
   "execution_count": 8,
   "metadata": {},
   "outputs": [
    {
     "name": "stdout",
     "output_type": "stream",
     "text": [
      "58.0\n"
     ]
    }
   ],
   "source": [
    "# pakai numpy dengan pandas Series\n",
    "print(np.average(z, weights = w))"
   ]
  },
  {
   "cell_type": "markdown",
   "metadata": {},
   "source": [
    "## Harmonic Mean\n",
    "mencari rata2 dengan tenik reciprocal.\n",
    "\n",
    "cari rata-rata daru 1/20 1/30 1/80 lalu dibalik lagi hasilnya 1/hasil\n",
    "\n",
    "teknik ini efektif untuk mencari rata-rata yang lebih merepresentasikan data disaat ada data outlier"
   ]
  },
  {
   "cell_type": "code",
   "execution_count": 9,
   "metadata": {},
   "outputs": [],
   "source": [
    "# misal\n",
    "x = [2, 6, 4, 100]\n",
    "y = np.array(x)\n",
    "z = pd.Series(x)"
   ]
  },
  {
   "cell_type": "code",
   "execution_count": 10,
   "metadata": {},
   "outputs": [
    {
     "name": "stdout",
     "output_type": "stream",
     "text": [
      "28\n"
     ]
    }
   ],
   "source": [
    "# mean biasa\n",
    "print(statistics.mean(x))"
   ]
  },
  {
   "cell_type": "code",
   "execution_count": 11,
   "metadata": {},
   "outputs": [
    {
     "name": "stdout",
     "output_type": "stream",
     "text": [
      "4.316546762589928\n"
     ]
    }
   ],
   "source": [
    "# pakai cara statistics\n",
    "print(statistics.harmonic_mean(x))"
   ]
  },
  {
   "cell_type": "code",
   "execution_count": 12,
   "metadata": {},
   "outputs": [
    {
     "name": "stdout",
     "output_type": "stream",
     "text": [
      "4.316546762589928\n",
      "4.316546762589928\n"
     ]
    }
   ],
   "source": [
    "# pakai cara scipy.stats\n",
    "print(scipy.stats.hmean(y)) #array bisa\n",
    "print(scipy.stats.hmean(z)) #series bisa"
   ]
  },
  {
   "cell_type": "markdown",
   "metadata": {},
   "source": [
    "## Geometric Mean\n",
    "mencari rata-rata dari data yang skala nya berbeda. misalnya: mau beli kamera. Ada 2 toko:\n",
    "- toko A, rating 3/5, jumlah reviews 115\n",
    "- toko B, rating 4/5, jumlah reviews 92"
   ]
  },
  {
   "cell_type": "code",
   "execution_count": 13,
   "metadata": {},
   "outputs": [],
   "source": [
    "x1 = [3/5, 115]\n",
    "x2 = [4/5, 92]\n",
    "\n",
    "y1 = np.array(x1)\n",
    "y2 = np.array(x2)\n",
    "\n",
    "z1 = pd.Series(x1)\n",
    "z2 = pd.Series(x2)"
   ]
  },
  {
   "cell_type": "code",
   "execution_count": 14,
   "metadata": {},
   "outputs": [
    {
     "name": "stdout",
     "output_type": "stream",
     "text": [
      "8.306623862918077\n",
      "8.579044235810887\n"
     ]
    }
   ],
   "source": [
    "# pakai scipy stats untuk cari gmean\n",
    "print(scipy.stats.gmean(y1))\n",
    "print(scipy.stats.gmean(y2))"
   ]
  },
  {
   "cell_type": "code",
   "execution_count": 15,
   "metadata": {},
   "outputs": [
    {
     "name": "stdout",
     "output_type": "stream",
     "text": [
      "8.306623862918077\n",
      "8.579044235810887\n"
     ]
    }
   ],
   "source": [
    "print(scipy.stats.gmean(z1))\n",
    "print(scipy.stats.gmean(z2))"
   ]
  },
  {
   "cell_type": "markdown",
   "metadata": {},
   "source": [
    "dari gmean nya terlihat toko B nilainya sedikit lebih baik. kita beli kamera di toko B saja."
   ]
  },
  {
   "cell_type": "markdown",
   "metadata": {},
   "source": [
    "## Median"
   ]
  },
  {
   "cell_type": "code",
   "execution_count": 16,
   "metadata": {},
   "outputs": [],
   "source": [
    "x = [8.0, 1, 2.5, 4, 28.0]\n",
    "y = np.array(x)\n",
    "z = pd.Series(x)\n",
    "\n",
    "x2 = [8.0, 1, 2.5, 4, 28.0, 1.8]\n",
    "y2 = np.array(x2)\n",
    "z2 = pd.Series(x2)"
   ]
  },
  {
   "cell_type": "code",
   "execution_count": 17,
   "metadata": {},
   "outputs": [
    {
     "name": "stdout",
     "output_type": "stream",
     "text": [
      "[1, 2.5, 4, 8.0, 28.0]\n",
      "[1, 1.8, 2.5, 4, 8.0, 28.0]\n"
     ]
    }
   ],
   "source": [
    "x.sort()\n",
    "print(x)\n",
    "\n",
    "x2.sort()\n",
    "print(x2)"
   ]
  },
  {
   "cell_type": "code",
   "execution_count": 18,
   "metadata": {},
   "outputs": [
    {
     "name": "stdout",
     "output_type": "stream",
     "text": [
      "4\n",
      "3.25\n"
     ]
    }
   ],
   "source": [
    "# menggunakan statistics\n",
    "print(statistics.median(x))\n",
    "print(statistics.median(x2))"
   ]
  },
  {
   "cell_type": "markdown",
   "metadata": {},
   "source": [
    "package statistics juga bisa cek jika median nya adalah 2 angka, apa angka tinggi dan rendahnya"
   ]
  },
  {
   "cell_type": "code",
   "execution_count": 19,
   "metadata": {},
   "outputs": [
    {
     "name": "stdout",
     "output_type": "stream",
     "text": [
      "4\n",
      "4\n",
      "4\n",
      "2.5\n"
     ]
    }
   ],
   "source": [
    "print(statistics.median_high(x))\n",
    "print(statistics.median_low(x))\n",
    "\n",
    "print(statistics.median_high(x2))\n",
    "print(statistics.median_low(x2))"
   ]
  },
  {
   "cell_type": "code",
   "execution_count": 20,
   "metadata": {},
   "outputs": [
    {
     "name": "stdout",
     "output_type": "stream",
     "text": [
      "4.0\n",
      "3.25\n"
     ]
    }
   ],
   "source": [
    "# pakai numpy\n",
    "print(np.median(y))\n",
    "print(np.median(y2))"
   ]
  },
  {
   "cell_type": "markdown",
   "metadata": {},
   "source": [
    "## Mode\n",
    "modus, mencari angka yang paling sering muncul"
   ]
  },
  {
   "cell_type": "code",
   "execution_count": 21,
   "metadata": {},
   "outputs": [],
   "source": [
    "u = [2, 3, 2, 8, 12]\n",
    "v = [12, 15, 12, 15, 21, 15, 12]"
   ]
  },
  {
   "cell_type": "code",
   "execution_count": 22,
   "metadata": {},
   "outputs": [
    {
     "name": "stdout",
     "output_type": "stream",
     "text": [
      "2\n",
      "12\n"
     ]
    }
   ],
   "source": [
    "# pakai statistics\n",
    "print(statistics.mode(u))\n",
    "print(statistics.mode(v))"
   ]
  },
  {
   "cell_type": "code",
   "execution_count": 23,
   "metadata": {},
   "outputs": [
    {
     "name": "stdout",
     "output_type": "stream",
     "text": [
      "ModeResult(mode=array([2]), count=array([2]))\n",
      "ModeResult(mode=array([12]), count=array([3]))\n"
     ]
    }
   ],
   "source": [
    "# pakai scipy stats\n",
    "print(scipy.stats.mode(u))\n",
    "print(scipy.stats.mode(v))"
   ]
  },
  {
   "cell_type": "code",
   "execution_count": 24,
   "metadata": {},
   "outputs": [
    {
     "name": "stdout",
     "output_type": "stream",
     "text": [
      "0    2\n",
      "dtype: int64\n",
      "0    12\n",
      "1    15\n",
      "dtype: int64\n"
     ]
    }
   ],
   "source": [
    "# pakai pandas\n",
    "u = pd.Series(u)\n",
    "v = pd.Series(v)\n",
    "\n",
    "print(u.mode())\n",
    "print(v.mode())"
   ]
  },
  {
   "cell_type": "markdown",
   "metadata": {},
   "source": [
    "# Measure of Spread\n",
    "- std dev, variance, range, quartile, percentile"
   ]
  },
  {
   "cell_type": "markdown",
   "metadata": {},
   "source": [
    "## Variance - std dev sebelum di akar\n"
   ]
  },
  {
   "cell_type": "code",
   "execution_count": 26,
   "metadata": {},
   "outputs": [
    {
     "name": "stdout",
     "output_type": "stream",
     "text": [
      "123.2\n"
     ]
    }
   ],
   "source": [
    "x = [8.0, 1, 2.5, 4, 28.0]\n",
    "y = np.array(x)\n",
    "z = pd.Series(x)\n",
    "\n",
    "# pakai statistics\n",
    "print(statistics.variance(x))"
   ]
  },
  {
   "cell_type": "code",
   "execution_count": 27,
   "metadata": {},
   "outputs": [
    {
     "name": "stdout",
     "output_type": "stream",
     "text": [
      "123.19999999999999\n"
     ]
    }
   ],
   "source": [
    "# pakai numpy\n",
    "print(np.var(x, ddof=1))"
   ]
  },
  {
   "cell_type": "code",
   "execution_count": 28,
   "metadata": {},
   "outputs": [
    {
     "name": "stdout",
     "output_type": "stream",
     "text": [
      "123.19999999999999\n"
     ]
    }
   ],
   "source": [
    "# pakai pandas\n",
    "print(z.var(ddof=1))"
   ]
  },
  {
   "cell_type": "markdown",
   "metadata": {},
   "source": [
    "## Standard Deviation\n",
    "kira2 datanya dari rata2 tersebar sejauh apa, plus minus dari rata2 kira2 berapa"
   ]
  },
  {
   "cell_type": "code",
   "execution_count": 29,
   "metadata": {},
   "outputs": [
    {
     "name": "stdout",
     "output_type": "stream",
     "text": [
      "11.099549540409287\n"
     ]
    }
   ],
   "source": [
    "x = [8.0, 1, 2.5, 4, 28.0]\n",
    "y = np.array(x)\n",
    "z = pd.Series(x)\n",
    "\n",
    "# pakai statistics\n",
    "print(statistics.stdev(x))"
   ]
  },
  {
   "cell_type": "code",
   "execution_count": 30,
   "metadata": {},
   "outputs": [
    {
     "data": {
      "text/plain": [
       "11.099549540409287"
      ]
     },
     "execution_count": 30,
     "metadata": {},
     "output_type": "execute_result"
    }
   ],
   "source": [
    "123.2** 0.5 # variance kalau di akar 2 akan dapat std dev"
   ]
  },
  {
   "cell_type": "code",
   "execution_count": 31,
   "metadata": {},
   "outputs": [
    {
     "name": "stdout",
     "output_type": "stream",
     "text": [
      "11.099549540409285\n"
     ]
    }
   ],
   "source": [
    "# pakai numpy\n",
    "print(np.std(x, ddof=1))"
   ]
  },
  {
   "cell_type": "code",
   "execution_count": 32,
   "metadata": {},
   "outputs": [
    {
     "name": "stdout",
     "output_type": "stream",
     "text": [
      "11.099549540409285\n"
     ]
    }
   ],
   "source": [
    "# pakai pandas\n",
    "print(z.std(ddof=1))"
   ]
  },
  {
   "cell_type": "markdown",
   "metadata": {},
   "source": [
    "# Percentiles\n",
    "mendapatkan angka yang ada di posisi ke x % dari seluruh data\n",
    "\n",
    "# Quantiles\n",
    "angka2 percentil spesial: percentile 25: q1, percentile 50: q2, percentile 75: q3"
   ]
  },
  {
   "cell_type": "code",
   "execution_count": 35,
   "metadata": {},
   "outputs": [
    {
     "name": "stdout",
     "output_type": "stream",
     "text": [
      "[4.0]\n",
      "[2.5, 4.0, 8.0]\n"
     ]
    }
   ],
   "source": [
    "x = [8.0, 1, 2.5, 4, 28.0]\n",
    "y = np.array(x)\n",
    "z = pd.Series(x)\n",
    "\n",
    "# pakai statistics\n",
    "print(statistics.quantiles(x, n=2, method='inclusive'))\n",
    "print(statistics.quantiles(x, n=4, method='inclusive'))"
   ]
  },
  {
   "cell_type": "code",
   "execution_count": 38,
   "metadata": {},
   "outputs": [
    {
     "name": "stdout",
     "output_type": "stream",
     "text": [
      "4.0\n",
      "[2.5 4.  8. ]\n",
      "4.0\n",
      "[2.5 4.  8. ]\n"
     ]
    }
   ],
   "source": [
    "# pakai numpy\n",
    "print(np.percentile(y, 50))\n",
    "print(np.percentile(y, [25, 50, 75]))\n",
    "\n",
    "# bisa juga numpy quantile (tulis 5% => 0.05)\n",
    "print(np.quantile(y, 0.5))\n",
    "print(np.quantile(y, [0.25, 0.5, 0.75]))"
   ]
  },
  {
   "cell_type": "code",
   "execution_count": 39,
   "metadata": {},
   "outputs": [
    {
     "name": "stdout",
     "output_type": "stream",
     "text": [
      "4.0\n",
      "0.25    2.5\n",
      "0.50    4.0\n",
      "0.75    8.0\n",
      "dtype: float64\n"
     ]
    }
   ],
   "source": [
    "# pakai pandas\n",
    "print(z.quantile(0.5))\n",
    "print(z.quantile([0.25, 0.5, 0.75]))"
   ]
  },
  {
   "cell_type": "markdown",
   "metadata": {},
   "source": [
    "# Range\n",
    "mencari perbedaan angka max dan min\n",
    "\n",
    "# Inter-Quartile range\n",
    "mencari perbedaan angka Q3 dan Q1"
   ]
  },
  {
   "cell_type": "code",
   "execution_count": 41,
   "metadata": {},
   "outputs": [
    {
     "name": "stdout",
     "output_type": "stream",
     "text": [
      "range\n",
      "27.0\n"
     ]
    }
   ],
   "source": [
    "x = [8.0, 1, 2.5, 4, 28.0]\n",
    "y = np.array(x)\n",
    "z = pd.Series(x)\n",
    "\n",
    "# pakai numpy\n",
    "print(\"range\")\n",
    "print(np.max(y) - np.min(y))"
   ]
  },
  {
   "cell_type": "code",
   "execution_count": 42,
   "metadata": {},
   "outputs": [
    {
     "name": "stdout",
     "output_type": "stream",
     "text": [
      "interquartile range\n",
      "5.5\n"
     ]
    }
   ],
   "source": [
    "print(\"interquartile range\")\n",
    "print(np.percentile(y, 75) - np.percentile(y, 25))"
   ]
  },
  {
   "cell_type": "code",
   "execution_count": 43,
   "metadata": {},
   "outputs": [
    {
     "name": "stdout",
     "output_type": "stream",
     "text": [
      "q3 8.0\n",
      "q1 2.5\n"
     ]
    }
   ],
   "source": [
    "print(\"q3\", np.percentile(y, 75))\n",
    "print(\"q1\", np.percentile(y, 25))"
   ]
  },
  {
   "cell_type": "markdown",
   "metadata": {},
   "source": [
    "# Summary"
   ]
  },
  {
   "cell_type": "code",
   "execution_count": 44,
   "metadata": {},
   "outputs": [
    {
     "name": "stdout",
     "output_type": "stream",
     "text": [
      "DescribeResult(nobs=5, minmax=(1.0, 28.0), mean=8.7, variance=123.19999999999999, skewness=1.3061163034727836, kurtosis=-0.030495095281138695)\n"
     ]
    }
   ],
   "source": [
    "# pakai scipy stats describe\n",
    "print(scipy.stats.describe(x))"
   ]
  },
  {
   "cell_type": "code",
   "execution_count": 47,
   "metadata": {},
   "outputs": [
    {
     "name": "stdout",
     "output_type": "stream",
     "text": [
      "8.7\n",
      "123.19999999999999\n"
     ]
    }
   ],
   "source": [
    "stats_x = scipy.stats.describe(x)\n",
    "print(stats_x.mean) # contoh pakai hasil scipy stats describe untuk ambil rata2\n",
    "print(stats_x.variance)"
   ]
  },
  {
   "cell_type": "code",
   "execution_count": 48,
   "metadata": {},
   "outputs": [
    {
     "name": "stdout",
     "output_type": "stream",
     "text": [
      "count     5.00000\n",
      "mean      8.70000\n",
      "std      11.09955\n",
      "min       1.00000\n",
      "25%       2.50000\n",
      "50%       4.00000\n",
      "75%       8.00000\n",
      "max      28.00000\n",
      "dtype: float64\n"
     ]
    }
   ],
   "source": [
    "# descibe milik pandas\n",
    "print(z.describe())"
   ]
  },
  {
   "cell_type": "markdown",
   "metadata": {},
   "source": [
    "# Measure of Correlation"
   ]
  },
  {
   "cell_type": "code",
   "execution_count": 49,
   "metadata": {},
   "outputs": [],
   "source": [
    "x = list(range(-10, 11))\n",
    "y = [0, 2, 2, 2, 2, 3, 3, 6, 7, 4, 7, 6, 6, 9, 4, 5, 5, 10, 11, 12, 14]\n",
    "x_, y_ = np.array(x), np.array(y)\n",
    "x__, y__ = pd.Series(x_), pd.Series(y_)"
   ]
  },
  {
   "cell_type": "markdown",
   "metadata": {},
   "source": [
    "## Covariance"
   ]
  },
  {
   "cell_type": "code",
   "execution_count": 50,
   "metadata": {},
   "outputs": [
    {
     "data": {
      "text/plain": [
       "array([[38.5       , 19.95      ],\n",
       "       [19.95      , 13.91428571]])"
      ]
     },
     "execution_count": 50,
     "metadata": {},
     "output_type": "execute_result"
    }
   ],
   "source": [
    "# pakai numpy\n",
    "np.cov(x_, y_)"
   ]
  },
  {
   "cell_type": "markdown",
   "metadata": {},
   "source": [
    "covariance matrix, 4 angka: variance x, covariance x dan y 2 kali, variance y"
   ]
  },
  {
   "cell_type": "code",
   "execution_count": 53,
   "metadata": {},
   "outputs": [
    {
     "name": "stdout",
     "output_type": "stream",
     "text": [
      "19.95\n"
     ]
    }
   ],
   "source": [
    "# mau ambil covariancenya\n",
    "print(np.cov(x_,y_)[0,1])\n",
    "\n",
    "# kalau penasaran boleh coba cari variance x, dan variance y"
   ]
  },
  {
   "cell_type": "code",
   "execution_count": 52,
   "metadata": {},
   "outputs": [
    {
     "name": "stdout",
     "output_type": "stream",
     "text": [
      "19.95\n"
     ]
    }
   ],
   "source": [
    "# pakai pandas\n",
    "print(x__.cov(y__))"
   ]
  },
  {
   "cell_type": "markdown",
   "metadata": {},
   "source": [
    "## Correlation Coefficient"
   ]
  },
  {
   "cell_type": "code",
   "execution_count": 55,
   "metadata": {},
   "outputs": [
    {
     "name": "stdout",
     "output_type": "stream",
     "text": [
      "0.8619500056316058\n"
     ]
    }
   ],
   "source": [
    "# menggunakan scipy stats\n",
    "r, pvalue = scipy.stats.pearsonr(x_, y_)\n",
    "print(r)"
   ]
  },
  {
   "cell_type": "code",
   "execution_count": 57,
   "metadata": {},
   "outputs": [
    {
     "data": {
      "text/plain": [
       "Text(0, 0.5, 'y_')"
      ]
     },
     "execution_count": 57,
     "metadata": {},
     "output_type": "execute_result"
    },
    {
     "data": {
      "image/png": "[encoded data removed]",
      "text/plain": [
       "<Figure size 432x288 with 1 Axes>"
      ]
     },
     "metadata": {
      "needs_background": "light"
     },
     "output_type": "display_data"
    }
   ],
   "source": [
    "%matplotlib inline\n",
    "import matplotlib.pyplot as plt\n",
    "\n",
    "plt.scatter(x_, y_)\n",
    "plt.title(\"korelasi antara set data x_ dan y_\")\n",
    "plt.xlabel(\"x_\")\n",
    "plt.ylabel(\"y_\")"
   ]
  },
  {
   "cell_type": "code",
   "execution_count": 58,
   "metadata": {},
   "outputs": [
    {
     "name": "stdout",
     "output_type": "stream",
     "text": [
      "0.8619500056316061\n"
     ]
    }
   ],
   "source": [
    "# kalau pakai numpy\n",
    "print(np.corrcoef(x_, y_)[0,1])"
   ]
  },
  {
   "cell_type": "code",
   "execution_count": 59,
   "metadata": {},
   "outputs": [
    {
     "name": "stdout",
     "output_type": "stream",
     "text": [
      "0.8619500056316061\n"
     ]
    }
   ],
   "source": [
    "# pakai pandas\n",
    "print(x__.corr(y__))"
   ]
  },
  {
   "cell_type": "code",
   "execution_count": null,
   "metadata": {},
   "outputs": [],
   "source": []
  }
 ],
 "metadata": {
  "kernelspec": {
   "display_name": "Python 3",
   "language": "python",
   "name": "python3"
  },
  "language_info": {
   "codemirror_mode": {
    "name": "ipython",
    "version": 3
   },
   "file_extension": ".py",
   "mimetype": "text/x-python",
   "name": "python",
   "nbconvert_exporter": "python",
   "pygments_lexer": "ipython3",
   "version": "3.8.5"
  }
 },
 "nbformat": 4,
 "nbformat_minor": 4
}
